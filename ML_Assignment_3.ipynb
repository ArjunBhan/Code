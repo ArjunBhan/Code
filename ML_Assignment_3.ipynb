{
  "nbformat": 4,
  "nbformat_minor": 0,
  "metadata": {
    "colab": {
      "name": "ML_Assignment_3",
      "provenance": [],
      "collapsed_sections": []
    },
    "kernelspec": {
      "name": "python3",
      "display_name": "Python 3"
    },
    "language_info": {
      "name": "python"
    }
  },
  "cells": [
    {
      "cell_type": "code",
      "metadata": {
        "id": "KjC21ZXRHa_-"
      },
      "source": [
        "import numpy as np"
      ],
      "execution_count": null,
      "outputs": []
    },
    {
      "cell_type": "markdown",
      "metadata": {
        "id": "TZbeZj_oFLNd"
      },
      "source": [
        "**Load The Data**"
      ]
    },
    {
      "cell_type": "code",
      "metadata": {
        "colab": {
          "base_uri": "https://localhost:8080/"
        },
        "id": "KnGY61fEE_O-",
        "outputId": "844b2857-03fa-4351-8a2f-e5d509f6a30f"
      },
      "source": [
        "from sklearn.datasets import fetch_california_housing\n",
        "cal_data = fetch_california_housing(\"~/data/sklearn_datasets/\")\n",
        "\n",
        "#Print Data description\n",
        "print(cal_data['DESCR'])"
      ],
      "execution_count": null,
      "outputs": [
        {
          "output_type": "stream",
          "name": "stdout",
          "text": [
            ".. _california_housing_dataset:\n",
            "\n",
            "California Housing dataset\n",
            "--------------------------\n",
            "\n",
            "**Data Set Characteristics:**\n",
            "\n",
            "    :Number of Instances: 20640\n",
            "\n",
            "    :Number of Attributes: 8 numeric, predictive attributes and the target\n",
            "\n",
            "    :Attribute Information:\n",
            "        - MedInc        median income in block\n",
            "        - HouseAge      median house age in block\n",
            "        - AveRooms      average number of rooms\n",
            "        - AveBedrms     average number of bedrooms\n",
            "        - Population    block population\n",
            "        - AveOccup      average house occupancy\n",
            "        - Latitude      house block latitude\n",
            "        - Longitude     house block longitude\n",
            "\n",
            "    :Missing Attribute Values: None\n",
            "\n",
            "This dataset was obtained from the StatLib repository.\n",
            "http://lib.stat.cmu.edu/datasets/\n",
            "\n",
            "The target variable is the median house value for California districts.\n",
            "\n",
            "This dataset was derived from the 1990 U.S. census, using one row per census\n",
            "block group. A block group is the smallest geographical unit for which the U.S.\n",
            "Census Bureau publishes sample data (a block group typically has a population\n",
            "of 600 to 3,000 people).\n",
            "\n",
            "It can be downloaded/loaded using the\n",
            ":func:`sklearn.datasets.fetch_california_housing` function.\n",
            "\n",
            ".. topic:: References\n",
            "\n",
            "    - Pace, R. Kelley and Ronald Barry, Sparse Spatial Autoregressions,\n",
            "      Statistics and Probability Letters, 33 (1997) 291-297\n",
            "\n"
          ]
        }
      ]
    },
    {
      "cell_type": "markdown",
      "metadata": {
        "id": "msGp9IhWUwCe"
      },
      "source": [
        "**Question 1: Rescale The Data** using the MaxMinScaler"
      ]
    },
    {
      "cell_type": "code",
      "metadata": {
        "colab": {
          "base_uri": "https://localhost:8080/"
        },
        "id": "u8yLx-enGbsR",
        "outputId": "11b6cc25-094f-42ee-c53b-452abc970782"
      },
      "source": [
        "X = cal_data['data']\n",
        "y= cal_data['target']\n",
        "\n",
        "#In order to find the best fit we want the MSE to be minimal for the dataset and the points outside the sample\n",
        "#So we scale the data between 0 to 1 for gradient descent\n",
        "from sklearn.preprocessing import MinMaxScaler\n",
        "scaler = MinMaxScaler()\n",
        "X= scaler.fit_transform(X)\n",
        "\n",
        "#Prints the transformed data\n",
        "print(X)\n"
      ],
      "execution_count": null,
      "outputs": [
        {
          "output_type": "stream",
          "name": "stdout",
          "text": [
            "[[0.53966842 0.78431373 0.0435123  ... 0.00149943 0.5674814  0.21115538]\n",
            " [0.53802706 0.39215686 0.03822395 ... 0.00114074 0.565356   0.21215139]\n",
            " [0.46602805 1.         0.05275646 ... 0.00169796 0.5642933  0.21015936]\n",
            " ...\n",
            " [0.08276438 0.31372549 0.03090386 ... 0.0013144  0.73219979 0.31175299]\n",
            " [0.09429525 0.33333333 0.03178269 ... 0.0011515  0.73219979 0.30179283]\n",
            " [0.13025338 0.29411765 0.03125246 ... 0.00154886 0.72582359 0.30976096]]\n"
          ]
        }
      ]
    },
    {
      "cell_type": "markdown",
      "metadata": {
        "id": "MsyYyyZKU7Kv"
      },
      "source": [
        "**Question 2: Train a Model using the sklearn *Linear Regression Model***"
      ]
    },
    {
      "cell_type": "code",
      "metadata": {
        "id": "qmoc5fYOVHY1"
      },
      "source": [
        "from sklearn.model_selection import train_test_split\n",
        "X_train, X_test, y_train, y_test = train_test_split(X, y, test_size= 0.50, random_state= 42)"
      ],
      "execution_count": null,
      "outputs": []
    },
    {
      "cell_type": "code",
      "metadata": {
        "colab": {
          "base_uri": "https://localhost:8080/"
        },
        "id": "3zERaNA0NYof",
        "outputId": "c9a2fda9-a0b1-4632-c3f5-78829316e520"
      },
      "source": [
        "X_train_aug = np.concatenate([np.ones([np.shape(X_train)[0], 1]),X_train ], axis=1)\n",
        "X_train_aug"
      ],
      "execution_count": null,
      "outputs": [
        {
          "output_type": "execute_result",
          "data": {
            "text/plain": [
              "array([[1.        , 0.23399677, 0.35294118, ..., 0.00177227, 0.16578108,\n",
              "        0.65139442],\n",
              "       [1.        , 0.45701439, 0.2745098 , ..., 0.00227299, 0.50478215,\n",
              "        0.25796813],\n",
              "       [1.        , 0.31133364, 0.2745098 , ..., 0.00150367, 0.54941552,\n",
              "        0.24003984],\n",
              "       ...,\n",
              "       [1.        , 0.16789424, 0.68627451, ..., 0.00212431, 0.15834219,\n",
              "        0.59462151],\n",
              "       [1.        , 0.35994676, 0.2745098 , ..., 0.00200105, 0.53560043,\n",
              "        0.23804781],\n",
              "       [1.        , 0.14314285, 1.        , ..., 0.00113982, 0.55579171,\n",
              "        0.19223108]])"
            ]
          },
          "metadata": {},
          "execution_count": 56
        }
      ]
    },
    {
      "cell_type": "code",
      "metadata": {
        "colab": {
          "base_uri": "https://localhost:8080/"
        },
        "id": "Qb_VNF7XrWNf",
        "outputId": "e768eff3-ae03-4399-fca9-1dcecbf5c76b"
      },
      "source": [
        "def solve_normal_eq(X, y):\n",
        "    n, m = np.shape(X)\n",
        "    XTX = np.matmul(X.T, X)\n",
        "    XTX_1=np.linalg.inv(XTX)\n",
        "    XTY=np.matmul(X.T, y)\n",
        "    return np.matmul(XTX_1,XTY)\n",
        "\n",
        "w = solve_normal_eq(X_train_aug, y_train)\n",
        "for i in range(len(w)):\n",
        "  print(f'w{i}={w[i]:.5f}')"
      ],
      "execution_count": null,
      "outputs": [
        {
          "output_type": "stream",
          "name": "stdout",
          "text": [
            "w0=3.67668\n",
            "w1=6.40956\n",
            "w2=0.49202\n",
            "w3=-16.84340\n",
            "w4=26.04256\n",
            "w5=-0.01272\n",
            "w6=-3.75773\n",
            "w7=-3.98365\n",
            "w8=-4.39237\n"
          ]
        }
      ]
    },
    {
      "cell_type": "code",
      "metadata": {
        "colab": {
          "base_uri": "https://localhost:8080/"
        },
        "id": "iQnRlOzm3TNU",
        "outputId": "2f1847d4-a1ab-4d48-a58b-063c60126d89"
      },
      "source": [
        "from sklearn.linear_model import LinearRegression\n",
        "reg = LinearRegression().fit(X_train, y_train)\n",
        "print(f'intercept={reg.intercept_:.5f}')\n",
        "for i in range(len(reg.coef_)):\n",
        "  print(f'w{i+1}={reg.coef_[i]:.5f}')"
      ],
      "execution_count": null,
      "outputs": [
        {
          "output_type": "stream",
          "name": "stdout",
          "text": [
            "intercept=3.67668\n",
            "w1=6.40956\n",
            "w2=0.49202\n",
            "w3=-16.84340\n",
            "w4=26.04256\n",
            "w5=-0.01272\n",
            "w6=-3.75773\n",
            "w7=-3.98365\n",
            "w8=-4.39237\n"
          ]
        }
      ]
    },
    {
      "cell_type": "markdown",
      "metadata": {
        "id": "-zzhBKGLtfcR"
      },
      "source": [
        "**Question 3: Train a model using Gradient Descent**"
      ]
    },
    {
      "cell_type": "code",
      "metadata": {
        "id": "1_ExhReBt3st"
      },
      "source": [
        "def gradfn(weights, X, y):\n",
        "    n, m = np.shape(X)\n",
        "    yhat = np.matmul(X, weights)\n",
        "    error = yhat - y\n",
        "    return np.matmul(np.transpose(X), error)/float(n)"
      ],
      "execution_count": null,
      "outputs": []
    },
    {
      "cell_type": "code",
      "metadata": {
        "id": "Nvs3Yhlm8JId"
      },
      "source": [
        "def solve_via_gradient_descent(X, y, print_every=100000,\n",
        "                               niter=500000, eta=0.005):\n",
        "    n, m = np.shape(X)\n",
        "    w = np.random.rand(m)\n",
        "    for k in range(niter):\n",
        "        dw = gradfn(w, X, y)\n",
        "        w = w - eta*dw #Change to minus\n",
        "        if k % print_every == 0:\n",
        "            print (f'Weight after {k} iteration: {str(w)};  gradient: {str(dw)}')\n",
        "    return w"
      ],
      "execution_count": null,
      "outputs": []
    },
    {
      "cell_type": "code",
      "metadata": {
        "colab": {
          "base_uri": "https://localhost:8080/"
        },
        "id": "Ukrt3LVy8XsL",
        "outputId": "9c8cb7e3-3801-4e2e-cee2-58e205add8d7"
      },
      "source": [
        "w=solve_via_gradient_descent( X=X_train_aug, y=y_train)\n",
        "print('\\n')\n",
        "for i in range(len(w)):\n",
        "  print(f'w{i}={w[i]:.5f}')"
      ],
      "execution_count": null,
      "outputs": [
        {
          "output_type": "stream",
          "name": "stdout",
          "text": [
            "Weight after 0 iteration: [0.28593199 0.32217752 0.64348802 0.11748373 0.75667619 0.90120427\n",
            " 0.41051436 0.35405729 0.79151023];  gradient: [-0.81349931 -0.29219549 -0.43831274 -0.02957566 -0.01772962 -0.03187743\n",
            " -0.00123206 -0.24890675 -0.35936762]\n",
            "Weight after 100000 iteration: [ 2.58790223  5.81562695  0.69846997  0.20716241  1.0426977   0.82349457\n",
            "  0.12638357 -2.78701848 -2.94285935];  gradient: [-2.83511886e-03  6.84785862e-04  3.67010232e-04 -7.36856376e-05\n",
            " -8.51122403e-04  3.99368218e-04  5.49951662e-04  2.82961241e-03\n",
            "  3.24670720e-03]\n",
            "Weight after 200000 iteration: [ 3.48645183  5.59183928  0.57931544  0.30534012  1.48488267  0.57760498\n",
            " -0.130446   -3.68348758 -3.96857822];  gradient: [-0.00105737  0.00026783  0.00014477 -0.00026082 -0.00088862  0.00051409\n",
            "  0.00048185  0.00105822  0.00120536]\n",
            "Weight after 300000 iteration: [ 3.82804546  5.50445443  0.53133379  0.43474412  1.91576267  0.34424877\n",
            " -0.35868491 -4.02750122 -4.35872634];  gradient: [-4.14743592e-04  1.07489116e-04  6.03427986e-05 -2.39965933e-04\n",
            " -8.27840324e-04  4.06358647e-04  4.33417239e-04  4.22825730e-04\n",
            "  4.76368497e-04]\n",
            "Weight after 400000 iteration: [ 3.9659762   5.46851542  0.51076836  0.53685319  2.30988655  0.17420157\n",
            " -0.56561027 -4.17047867 -4.51888043];  gradient: [-1.74772014e-04  4.55444318e-05  2.68189645e-05 -1.65332000e-04\n",
            " -7.48438181e-04  2.76558882e-04  3.95618835e-04  1.86384032e-04\n",
            "  2.07141727e-04]\n",
            "\n",
            "\n",
            "w0=4.02622\n",
            "w1=5.45313\n",
            "w2=0.50140\n",
            "w3=0.59952\n",
            "w4=2.66518\n",
            "w5=0.06294\n",
            "w6=-0.75537\n",
            "w7=-4.23690\n",
            "w8=-4.59227\n"
          ]
        }
      ]
    },
    {
      "cell_type": "markdown",
      "metadata": {
        "id": "BUypwv9i23En"
      },
      "source": [
        "**Question 4: Practice with SGD**"
      ]
    },
    {
      "cell_type": "code",
      "metadata": {
        "id": "Rf9EhkjBFPoe"
      },
      "source": [
        "def solve_via_SGD(X, y, print_every=100000,\n",
        "                               niter=500000, eta=0.005):\n",
        "    n, m = np.shape(X)\n",
        "    w = np.random.rand(m)\n",
        "    \n",
        "    for k in range(niter):\n",
        "      rand_IDX= np.random.randint(X.shape[0],size= 50)\n",
        "      dw = gradfn(w, X[rand_IDX], y[rand_IDX])\n",
        "      w = w - eta*dw #Change to minus\n",
        "      if k % print_every == 0:\n",
        "        print (f'Weight after {k} iteration: {str(w)};  gradient: {str(dw)}')\n",
        "    return w"
      ],
      "execution_count": null,
      "outputs": []
    },
    {
      "cell_type": "code",
      "metadata": {
        "colab": {
          "base_uri": "https://localhost:8080/"
        },
        "id": "kjKhPams56Bg",
        "outputId": "5ea2d8f9-f78f-45b5-ab6e-0a8a756cdd1e"
      },
      "source": [
        "w=solve_via_SGD( X=X_train_aug, y=y_train)\n",
        "print('\\n')\n",
        "for i in range(len(w)):\n",
        "  print(f'w{i}={w[i]:.5f}')"
      ],
      "execution_count": null,
      "outputs": [
        {
          "output_type": "stream",
          "name": "stdout",
          "text": [
            "Weight after 0 iteration: [0.83823537 0.49993941 0.35298516 0.16820792 0.56802536 0.76005882\n",
            " 0.02240434 0.61770512 0.45756018];  gradient: [-0.2737769  -0.20007406 -0.15651264 -0.01427951 -0.00777909 -0.001258\n",
            " -0.00045355 -0.06973812 -0.11577289]\n",
            "Weight after 100000 iteration: [ 2.67228083  5.80042823  0.69698032  0.25186023  0.85533917  0.70167966\n",
            " -0.23152486 -2.86190933 -3.02216698];  gradient: [-0.02750412 -0.00062002  0.03414963  0.00091419 -0.0010591  -0.00606405\n",
            "  0.00011825  0.02791567 -0.04556933]\n",
            "Weight after 200000 iteration: [ 3.51721617  5.57315246  0.57717772  0.37649997  1.31764623  0.49630763\n",
            " -0.46996039 -3.71148873 -4.00251252];  gradient: [ 0.07007649  0.0163326   0.05724375  0.00245852  0.00131511  0.00404617\n",
            "  0.00021624 -0.00574155  0.04620675]\n",
            "Weight after 300000 iteration: [ 3.83786886  5.50450956  0.52687155  0.51137489  1.75478139  0.29482595\n",
            " -0.67380537 -4.03406515 -4.36930382];  gradient: [ 0.06270831 -0.00020807  0.04050348  0.00173154  0.00115768  0.00580266\n",
            "  0.00011509 -0.00420261  0.04027186]\n",
            "Weight after 400000 iteration: [ 3.97304238  5.46919041  0.51091529  0.61509876  2.15239653  0.14513618\n",
            " -0.86339699 -4.16751392 -4.52935305];  gradient: [ 0.03010687  0.00386587  0.0135033   0.00117926  0.00061688  0.0021259\n",
            "  0.00017128  0.02715249 -0.00459342]\n",
            "\n",
            "\n",
            "w0=4.03492\n",
            "w1=5.45584\n",
            "w2=0.50075\n",
            "w3=0.67439\n",
            "w4=2.50682\n",
            "w5=0.04749\n",
            "w6=-1.03492\n",
            "w7=-4.23724\n",
            "w8=-4.59725\n"
          ]
        }
      ]
    },
    {
      "cell_type": "markdown",
      "metadata": {
        "id": "a022Q6cM5LWG"
      },
      "source": [
        "**Question 5: Calculate MAE, MSE, RMSE**"
      ]
    },
    {
      "cell_type": "code",
      "metadata": {
        "colab": {
          "base_uri": "https://localhost:8080/"
        },
        "id": "8lixxN341Qc1",
        "outputId": "1a31cadd-56a0-47f6-d517-129bfee3a6c4"
      },
      "source": [
        "from sklearn.metrics import mean_absolute_error, mean_squared_error\n",
        "\n",
        "y_pred=reg.predict(X_test)\n",
        "\n",
        "print(f'MAE = {mean_absolute_error(y_pred,y_test):.3f}')\n",
        "MSE= mean_squared_error(y_pred,y_test)\n",
        "print(f'MSE = {MSE:.3f}')\n",
        "print(f'RMSE= {np.sqrt(MSE):.3f}')"
      ],
      "execution_count": null,
      "outputs": [
        {
          "output_type": "stream",
          "name": "stdout",
          "text": [
            "MAE = 0.532\n",
            "MSE = 0.531\n",
            "RMSE= 0.729\n"
          ]
        }
      ]
    }
  ]
}