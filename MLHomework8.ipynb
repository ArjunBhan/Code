{
  "nbformat": 4,
  "nbformat_minor": 0,
  "metadata": {
    "colab": {
      "name": "MLHomework8.ipynb",
      "provenance": []
    },
    "kernelspec": {
      "name": "python3",
      "display_name": "Python 3"
    },
    "language_info": {
      "name": "python"
    }
  },
  "cells": [
    {
      "cell_type": "markdown",
      "metadata": {
        "id": "D_Yob1N8I4mh"
      },
      "source": [
        "Arjun Bhan and Gabriel Acuña"
      ]
    },
    {
      "cell_type": "markdown",
      "metadata": {
        "id": "sbGT2kLqOfO-"
      },
      "source": [
        "Question #1"
      ]
    },
    {
      "cell_type": "code",
      "metadata": {
        "id": "d0mNCJYaujnZ"
      },
      "source": [
        "import pandas as pd"
      ],
      "execution_count": null,
      "outputs": []
    },
    {
      "cell_type": "code",
      "metadata": {
        "id": "w_d2XH2_oXmJ",
        "colab": {
          "base_uri": "https://localhost:8080/"
        },
        "outputId": "e6d26f84-45e5-40d9-d18a-fbaf10438b01"
      },
      "source": [
        "!wget http://qwone.com/~jason/20Newsgroups/20news-bydate.tar.gz"
      ],
      "execution_count": null,
      "outputs": [
        {
          "output_type": "stream",
          "name": "stdout",
          "text": [
            "--2021-11-14 18:33:45--  http://qwone.com/~jason/20Newsgroups/20news-bydate.tar.gz\n",
            "Resolving qwone.com (qwone.com)... 173.48.209.137\n",
            "Connecting to qwone.com (qwone.com)|173.48.209.137|:80... connected.\n",
            "HTTP request sent, awaiting response... 200 OK\n",
            "Length: 14464277 (14M) [application/x-gzip]\n",
            "Saving to: ‘20news-bydate.tar.gz.2’\n",
            "\n",
            "20news-bydate.tar.g 100%[===================>]  13.79M  6.19MB/s    in 2.2s    \n",
            "\n",
            "2021-11-14 18:33:48 (6.19 MB/s) - ‘20news-bydate.tar.gz.2’ saved [14464277/14464277]\n",
            "\n"
          ]
        }
      ]
    },
    {
      "cell_type": "code",
      "metadata": {
        "colab": {
          "base_uri": "https://localhost:8080/"
        },
        "id": "vIX4zMgYkIvG",
        "outputId": "3642fcf9-fcdf-49e7-830e-08daa4bf8880"
      },
      "source": [
        "ls"
      ],
      "execution_count": null,
      "outputs": [
        {
          "output_type": "stream",
          "name": "stdout",
          "text": [
            "20news-bydate.tar.gz    20news-bydate.tar.gz.2  \u001b[0m\u001b[01;34m20news-bydate-train\u001b[0m/\n",
            "20news-bydate.tar.gz.1  \u001b[01;34m20news-bydate-test\u001b[0m/     \u001b[01;34msample_data\u001b[0m/\n"
          ]
        }
      ]
    },
    {
      "cell_type": "code",
      "metadata": {
        "id": "rpxE4VIcpMwz"
      },
      "source": [
        "!tar xvzf 20news-bydate.tar.gz"
      ],
      "execution_count": null,
      "outputs": []
    },
    {
      "cell_type": "code",
      "metadata": {
        "colab": {
          "base_uri": "https://localhost:8080/"
        },
        "id": "WQHT4YmHNwSP",
        "outputId": "901a99f3-987c-4bf0-868f-545a4a4fe211"
      },
      "source": [
        "!ls -lia "
      ],
      "execution_count": null,
      "outputs": [
        {
          "output_type": "stream",
          "name": "stdout",
          "text": [
            "total 42408\n",
            "3801114 drwxr-xr-x  1 root root     4096 Nov 14 18:33 .\n",
            "6686300 drwxr-xr-x  1 root root     4096 Nov 14 15:54 ..\n",
            "6686257 -rw-r--r--  1 root root 14464277 Sep 22  2014 20news-bydate.tar.gz\n",
            "6703765 -rw-r--r--  1 root root 14464277 Sep 22  2014 20news-bydate.tar.gz.1\n",
            "6703766 -rw-r--r--  1 root root 14464277 Sep 22  2014 20news-bydate.tar.gz.2\n",
            "6684673 drwxr-xr-x 22 6602 6602     4096 Mar 18  2003 20news-bydate-test\n",
            "6692430 drwxr-xr-x 22 6602 6602     4096 Mar 18  2003 20news-bydate-train\n",
            "5636112 drwxr-xr-x  4 root root     4096 Nov  1 13:34 .config\n",
            "3801115 drwxr-xr-x  1 root root     4096 Nov  1 13:35 sample_data\n"
          ]
        }
      ]
    },
    {
      "cell_type": "code",
      "metadata": {
        "colab": {
          "base_uri": "https://localhost:8080/"
        },
        "id": "52cO_eMqfBWB",
        "outputId": "49ba7174-579b-4638-9b63-e31bb194e9c9"
      },
      "source": [
        "ls /content/20news-bydate-test/"
      ],
      "execution_count": null,
      "outputs": [
        {
          "output_type": "stream",
          "name": "stdout",
          "text": [
            "\u001b[0m\u001b[01;34malt.atheism\u001b[0m/               \u001b[01;34mrec.autos\u001b[0m/           \u001b[01;34msci.space\u001b[0m/\n",
            "\u001b[01;34mcomp.graphics\u001b[0m/             \u001b[01;34mrec.motorcycles\u001b[0m/     \u001b[01;34msoc.religion.christian\u001b[0m/\n",
            "\u001b[01;34mcomp.os.ms-windows.misc\u001b[0m/   \u001b[01;34mrec.sport.baseball\u001b[0m/  \u001b[01;34mtalk.politics.guns\u001b[0m/\n",
            "\u001b[01;34mcomp.sys.ibm.pc.hardware\u001b[0m/  \u001b[01;34mrec.sport.hockey\u001b[0m/    \u001b[01;34mtalk.politics.mideast\u001b[0m/\n",
            "\u001b[01;34mcomp.sys.mac.hardware\u001b[0m/     \u001b[01;34msci.crypt\u001b[0m/           \u001b[01;34mtalk.politics.misc\u001b[0m/\n",
            "\u001b[01;34mcomp.windows.x\u001b[0m/            \u001b[01;34msci.electronics\u001b[0m/     \u001b[01;34mtalk.religion.misc\u001b[0m/\n",
            "\u001b[01;34mmisc.forsale\u001b[0m/              \u001b[01;34msci.med\u001b[0m/\n"
          ]
        }
      ]
    },
    {
      "cell_type": "markdown",
      "metadata": {
        "id": "y4N__vCrOjoI"
      },
      "source": [
        "Question #2-3"
      ]
    },
    {
      "cell_type": "code",
      "metadata": {
        "id": "DT2smuikOEYn"
      },
      "source": [
        "import os, sys\n",
        "import pandas as pd\n"
      ],
      "execution_count": null,
      "outputs": []
    },
    {
      "cell_type": "code",
      "metadata": {
        "id": "-edIKlNrffmE"
      },
      "source": [
        "TrainData=[]\n",
        "TrainPath = '/content/20news-bydate-train/'\n",
        "for foldName in os.listdir(TrainPath):\n",
        "    for fileName in os.listdir(TrainPath+'/'+foldName):\n",
        "      filePath=TrainPath+'/'+foldName+'/'+fileName\n",
        "      file=open(filePath,'r',encoding='latin1',errors='ignore')\n",
        "      txt=file.read()\n",
        "      file.close()\n",
        "      record=(fileName,txt,foldName)\n",
        "      TrainData.append(record)"
      ],
      "execution_count": null,
      "outputs": []
    },
    {
      "cell_type": "code",
      "metadata": {
        "colab": {
          "base_uri": "https://localhost:8080/",
          "height": 423
        },
        "id": "RtDMtqLEKLyz",
        "outputId": "1f7e799a-0b86-463d-a80a-940ade83741e"
      },
      "source": [
        "TrainDataFrame=pd.DataFrame(TrainData,columns=['Key','Information','Location'])\n",
        "TrainDataFrame"
      ],
      "execution_count": null,
      "outputs": [
        {
          "output_type": "execute_result",
          "data": {
            "text/html": [
              "<div>\n",
              "<style scoped>\n",
              "    .dataframe tbody tr th:only-of-type {\n",
              "        vertical-align: middle;\n",
              "    }\n",
              "\n",
              "    .dataframe tbody tr th {\n",
              "        vertical-align: top;\n",
              "    }\n",
              "\n",
              "    .dataframe thead th {\n",
              "        text-align: right;\n",
              "    }\n",
              "</style>\n",
              "<table border=\"1\" class=\"dataframe\">\n",
              "  <thead>\n",
              "    <tr style=\"text-align: right;\">\n",
              "      <th></th>\n",
              "      <th>Key</th>\n",
              "      <th>Information</th>\n",
              "      <th>Location</th>\n",
              "    </tr>\n",
              "  </thead>\n",
              "  <tbody>\n",
              "    <tr>\n",
              "      <th>0</th>\n",
              "      <td>104429</td>\n",
              "      <td>From: fisherg@egr.msu.edu (fisher greg)\\nSubje...</td>\n",
              "      <td>rec.sport.baseball</td>\n",
              "    </tr>\n",
              "    <tr>\n",
              "      <th>1</th>\n",
              "      <td>104368</td>\n",
              "      <td>From: jerry@sheldev.shel.isc-br.com (Gerald La...</td>\n",
              "      <td>rec.sport.baseball</td>\n",
              "    </tr>\n",
              "    <tr>\n",
              "      <th>2</th>\n",
              "      <td>104932</td>\n",
              "      <td>From: roger@crux.Princeton.EDU (Roger Lustig)\\...</td>\n",
              "      <td>rec.sport.baseball</td>\n",
              "    </tr>\n",
              "    <tr>\n",
              "      <th>3</th>\n",
              "      <td>104417</td>\n",
              "      <td>From: rjh@allegra.att.com (Robert Holt)\\nSubje...</td>\n",
              "      <td>rec.sport.baseball</td>\n",
              "    </tr>\n",
              "    <tr>\n",
              "      <th>4</th>\n",
              "      <td>105147</td>\n",
              "      <td>From: gspira@nyx.cs.du.edu (Greg Spira)\\nSubje...</td>\n",
              "      <td>rec.sport.baseball</td>\n",
              "    </tr>\n",
              "    <tr>\n",
              "      <th>...</th>\n",
              "      <td>...</td>\n",
              "      <td>...</td>\n",
              "      <td>...</td>\n",
              "    </tr>\n",
              "    <tr>\n",
              "      <th>11309</th>\n",
              "      <td>103188</td>\n",
              "      <td>From: jimf@centerline.com (Jim Frost)\\nSubject...</td>\n",
              "      <td>rec.autos</td>\n",
              "    </tr>\n",
              "    <tr>\n",
              "      <th>11310</th>\n",
              "      <td>101634</td>\n",
              "      <td>From: jahonen@cc.lut.fi (Jarmo Ahonen)\\nSubjec...</td>\n",
              "      <td>rec.autos</td>\n",
              "    </tr>\n",
              "    <tr>\n",
              "      <th>11311</th>\n",
              "      <td>101576</td>\n",
              "      <td>From: wdh@grouper.mkt.csd.harris.com (W. David...</td>\n",
              "      <td>rec.autos</td>\n",
              "    </tr>\n",
              "    <tr>\n",
              "      <th>11312</th>\n",
              "      <td>102886</td>\n",
              "      <td>From: garyl@moe.corollary.COM (Gary Lorman)\\nS...</td>\n",
              "      <td>rec.autos</td>\n",
              "    </tr>\n",
              "    <tr>\n",
              "      <th>11313</th>\n",
              "      <td>102747</td>\n",
              "      <td>From: ak296@yfn.ysu.edu (John R. Daker)\\nSubje...</td>\n",
              "      <td>rec.autos</td>\n",
              "    </tr>\n",
              "  </tbody>\n",
              "</table>\n",
              "<p>11314 rows × 3 columns</p>\n",
              "</div>"
            ],
            "text/plain": [
              "          Key  ...            Location\n",
              "0      104429  ...  rec.sport.baseball\n",
              "1      104368  ...  rec.sport.baseball\n",
              "2      104932  ...  rec.sport.baseball\n",
              "3      104417  ...  rec.sport.baseball\n",
              "4      105147  ...  rec.sport.baseball\n",
              "...       ...  ...                 ...\n",
              "11309  103188  ...           rec.autos\n",
              "11310  101634  ...           rec.autos\n",
              "11311  101576  ...           rec.autos\n",
              "11312  102886  ...           rec.autos\n",
              "11313  102747  ...           rec.autos\n",
              "\n",
              "[11314 rows x 3 columns]"
            ]
          },
          "metadata": {},
          "execution_count": 151
        }
      ]
    },
    {
      "cell_type": "code",
      "metadata": {
        "id": "YpoMpyaCUnh6"
      },
      "source": [
        "TestData=[]\n",
        "TestPath = '/content/20news-bydate-test/'\n",
        "for foldName in os.listdir(TestPath):\n",
        "    for fileName in os.listdir(TestPath+'/'+foldName):\n",
        "      filePath=TestPath+'/'+foldName+'/'+fileName\n",
        "      file=open(filePath,'r',encoding='latin1',errors='ignore')\n",
        "      txt=file.read()\n",
        "      file.close()\n",
        "      record=(fileName,txt,foldName)\n",
        "      TestData.append(record)"
      ],
      "execution_count": null,
      "outputs": []
    },
    {
      "cell_type": "code",
      "metadata": {
        "colab": {
          "base_uri": "https://localhost:8080/",
          "height": 423
        },
        "id": "3E8OlBvUVZMF",
        "outputId": "03aa821e-db9d-451f-e219-9a1cb5eef6d4"
      },
      "source": [
        "TestDataFrame=pd.DataFrame(TestData,columns=['Key','Information','Location'])\n",
        "TestDataFrame"
      ],
      "execution_count": null,
      "outputs": [
        {
          "output_type": "execute_result",
          "data": {
            "text/html": [
              "<div>\n",
              "<style scoped>\n",
              "    .dataframe tbody tr th:only-of-type {\n",
              "        vertical-align: middle;\n",
              "    }\n",
              "\n",
              "    .dataframe tbody tr th {\n",
              "        vertical-align: top;\n",
              "    }\n",
              "\n",
              "    .dataframe thead th {\n",
              "        text-align: right;\n",
              "    }\n",
              "</style>\n",
              "<table border=\"1\" class=\"dataframe\">\n",
              "  <thead>\n",
              "    <tr style=\"text-align: right;\">\n",
              "      <th></th>\n",
              "      <th>Key</th>\n",
              "      <th>Information</th>\n",
              "      <th>Location</th>\n",
              "    </tr>\n",
              "  </thead>\n",
              "  <tbody>\n",
              "    <tr>\n",
              "      <th>0</th>\n",
              "      <td>104993</td>\n",
              "      <td>From: texdude@cs1.bradley.edu (Philip Allen)\\n...</td>\n",
              "      <td>rec.sport.baseball</td>\n",
              "    </tr>\n",
              "    <tr>\n",
              "      <th>1</th>\n",
              "      <td>104652</td>\n",
              "      <td>From: snichols@adobe.com (Sherri Nichols)\\nSub...</td>\n",
              "      <td>rec.sport.baseball</td>\n",
              "    </tr>\n",
              "    <tr>\n",
              "      <th>2</th>\n",
              "      <td>104885</td>\n",
              "      <td>From: J019800@LMSC5.IS.LMSC.LOCKHEED.COM\\nSubj...</td>\n",
              "      <td>rec.sport.baseball</td>\n",
              "    </tr>\n",
              "    <tr>\n",
              "      <th>3</th>\n",
              "      <td>104969</td>\n",
              "      <td>From: craige@sad.hp.com (Craig Eid)\\nSubject: ...</td>\n",
              "      <td>rec.sport.baseball</td>\n",
              "    </tr>\n",
              "    <tr>\n",
              "      <th>4</th>\n",
              "      <td>104984</td>\n",
              "      <td>From: \"drew carley\" &lt;drew.carley@canrem.com&gt;\\n...</td>\n",
              "      <td>rec.sport.baseball</td>\n",
              "    </tr>\n",
              "    <tr>\n",
              "      <th>...</th>\n",
              "      <td>...</td>\n",
              "      <td>...</td>\n",
              "      <td>...</td>\n",
              "    </tr>\n",
              "    <tr>\n",
              "      <th>7527</th>\n",
              "      <td>103660</td>\n",
              "      <td>From: Tom Wetzel &lt;twetzel@ucs.indiana.edu&gt;\\nSu...</td>\n",
              "      <td>rec.autos</td>\n",
              "    </tr>\n",
              "    <tr>\n",
              "      <th>7528</th>\n",
              "      <td>103448</td>\n",
              "      <td>From: donald.wendel@yob.sccsi.com (Donald Wend...</td>\n",
              "      <td>rec.autos</td>\n",
              "    </tr>\n",
              "    <tr>\n",
              "      <th>7529</th>\n",
              "      <td>103176</td>\n",
              "      <td>From: pantera@uxa.cso.uiuc.edu (doddek david j...</td>\n",
              "      <td>rec.autos</td>\n",
              "    </tr>\n",
              "    <tr>\n",
              "      <th>7530</th>\n",
              "      <td>103809</td>\n",
              "      <td>From: rjwade@rainbow.ecn.purdue.edu (Robert J....</td>\n",
              "      <td>rec.autos</td>\n",
              "    </tr>\n",
              "    <tr>\n",
              "      <th>7531</th>\n",
              "      <td>103334</td>\n",
              "      <td>From: jp@vllyoak.resun.com (Jeff Perry)\\nSubje...</td>\n",
              "      <td>rec.autos</td>\n",
              "    </tr>\n",
              "  </tbody>\n",
              "</table>\n",
              "<p>7532 rows × 3 columns</p>\n",
              "</div>"
            ],
            "text/plain": [
              "         Key  ...            Location\n",
              "0     104993  ...  rec.sport.baseball\n",
              "1     104652  ...  rec.sport.baseball\n",
              "2     104885  ...  rec.sport.baseball\n",
              "3     104969  ...  rec.sport.baseball\n",
              "4     104984  ...  rec.sport.baseball\n",
              "...      ...  ...                 ...\n",
              "7527  103660  ...           rec.autos\n",
              "7528  103448  ...           rec.autos\n",
              "7529  103176  ...           rec.autos\n",
              "7530  103809  ...           rec.autos\n",
              "7531  103334  ...           rec.autos\n",
              "\n",
              "[7532 rows x 3 columns]"
            ]
          },
          "metadata": {},
          "execution_count": 153
        }
      ]
    },
    {
      "cell_type": "markdown",
      "metadata": {
        "id": "SbwYmC6TIFwA"
      },
      "source": [
        "Question #4"
      ]
    },
    {
      "cell_type": "code",
      "metadata": {
        "colab": {
          "base_uri": "https://localhost:8080/",
          "height": 279
        },
        "id": "hWrPNLdNKfii",
        "outputId": "d0c81bb0-d59e-4078-e994-1fddbcc767fe"
      },
      "source": [
        "import seaborn as sns\n",
        "\n",
        "sns.set_style('whitegrid')\n",
        "sns.countplot(y='Location',data=TrainDataFrame);"
      ],
      "execution_count": null,
      "outputs": [
        {
          "output_type": "display_data",
          "data": {
            "image/png": "[encoded data removed]",
            "text/plain": [
              "<Figure size 432x288 with 1 Axes>"
            ]
          },
          "metadata": {}
        }
      ]
    },
    {
      "cell_type": "code",
      "metadata": {
        "id": "21e4WITUWHhq",
        "colab": {
          "base_uri": "https://localhost:8080/",
          "height": 279
        },
        "outputId": "5ac13804-16cb-426b-9e9d-96f8f7198904"
      },
      "source": [
        "sns.countplot(y='Location',data=TestDataFrame);"
      ],
      "execution_count": null,
      "outputs": [
        {
          "output_type": "display_data",
          "data": {
            "image/png": "[encoded data removed]",
            "text/plain": [
              "<Figure size 432x288 with 1 Axes>"
            ]
          },
          "metadata": {}
        }
      ]
    },
    {
      "cell_type": "code",
      "metadata": {
        "colab": {
          "base_uri": "https://localhost:8080/"
        },
        "id": "ThV-6n7neOOl",
        "outputId": "d8041f4c-ae34-4f02-af8f-18a2a3021350"
      },
      "source": [
        "TrainDataFrame.isnull().sum()"
      ],
      "execution_count": null,
      "outputs": [
        {
          "output_type": "execute_result",
          "data": {
            "text/plain": [
              "Key            0\n",
              "Information    0\n",
              "Location       0\n",
              "dtype: int64"
            ]
          },
          "metadata": {},
          "execution_count": 156
        }
      ]
    },
    {
      "cell_type": "code",
      "metadata": {
        "colab": {
          "base_uri": "https://localhost:8080/"
        },
        "id": "VBZuJOQ8dhBM",
        "outputId": "aee3a50a-76a8-4e4a-d1c9-a95b86e34403"
      },
      "source": [
        "TestDataFrame.isnull().sum()"
      ],
      "execution_count": null,
      "outputs": [
        {
          "output_type": "execute_result",
          "data": {
            "text/plain": [
              "Key            0\n",
              "Information    0\n",
              "Location       0\n",
              "dtype: int64"
            ]
          },
          "metadata": {},
          "execution_count": 157
        }
      ]
    },
    {
      "cell_type": "code",
      "metadata": {
        "colab": {
          "base_uri": "https://localhost:8080/"
        },
        "id": "wKwZNLx_ehaj",
        "outputId": "cb480a47-3833-4201-cb37-ed3402447271"
      },
      "source": [
        "TrainDataFrame.shape"
      ],
      "execution_count": null,
      "outputs": [
        {
          "output_type": "execute_result",
          "data": {
            "text/plain": [
              "(11314, 3)"
            ]
          },
          "metadata": {},
          "execution_count": 158
        }
      ]
    },
    {
      "cell_type": "code",
      "metadata": {
        "colab": {
          "base_uri": "https://localhost:8080/"
        },
        "id": "IbAqraoseczp",
        "outputId": "913a553d-4a55-44bb-858f-97b284d2cd82"
      },
      "source": [
        "TestDataFrame.shape"
      ],
      "execution_count": null,
      "outputs": [
        {
          "output_type": "execute_result",
          "data": {
            "text/plain": [
              "(7532, 3)"
            ]
          },
          "metadata": {},
          "execution_count": 159
        }
      ]
    },
    {
      "cell_type": "code",
      "metadata": {
        "colab": {
          "base_uri": "https://localhost:8080/",
          "height": 708
        },
        "id": "jp41f8M8exh-",
        "outputId": "1a444082-9904-4f44-de9b-a23b0c3d389d"
      },
      "source": [
        "TrainDataFrame.groupby('Location').count()"
      ],
      "execution_count": null,
      "outputs": [
        {
          "output_type": "execute_result",
          "data": {
            "text/html": [
              "<div>\n",
              "<style scoped>\n",
              "    .dataframe tbody tr th:only-of-type {\n",
              "        vertical-align: middle;\n",
              "    }\n",
              "\n",
              "    .dataframe tbody tr th {\n",
              "        vertical-align: top;\n",
              "    }\n",
              "\n",
              "    .dataframe thead th {\n",
              "        text-align: right;\n",
              "    }\n",
              "</style>\n",
              "<table border=\"1\" class=\"dataframe\">\n",
              "  <thead>\n",
              "    <tr style=\"text-align: right;\">\n",
              "      <th></th>\n",
              "      <th>Key</th>\n",
              "      <th>Information</th>\n",
              "    </tr>\n",
              "    <tr>\n",
              "      <th>Location</th>\n",
              "      <th></th>\n",
              "      <th></th>\n",
              "    </tr>\n",
              "  </thead>\n",
              "  <tbody>\n",
              "    <tr>\n",
              "      <th>alt.atheism</th>\n",
              "      <td>480</td>\n",
              "      <td>480</td>\n",
              "    </tr>\n",
              "    <tr>\n",
              "      <th>comp.graphics</th>\n",
              "      <td>584</td>\n",
              "      <td>584</td>\n",
              "    </tr>\n",
              "    <tr>\n",
              "      <th>comp.os.ms-windows.misc</th>\n",
              "      <td>591</td>\n",
              "      <td>591</td>\n",
              "    </tr>\n",
              "    <tr>\n",
              "      <th>comp.sys.ibm.pc.hardware</th>\n",
              "      <td>590</td>\n",
              "      <td>590</td>\n",
              "    </tr>\n",
              "    <tr>\n",
              "      <th>comp.sys.mac.hardware</th>\n",
              "      <td>578</td>\n",
              "      <td>578</td>\n",
              "    </tr>\n",
              "    <tr>\n",
              "      <th>comp.windows.x</th>\n",
              "      <td>593</td>\n",
              "      <td>593</td>\n",
              "    </tr>\n",
              "    <tr>\n",
              "      <th>misc.forsale</th>\n",
              "      <td>585</td>\n",
              "      <td>585</td>\n",
              "    </tr>\n",
              "    <tr>\n",
              "      <th>rec.autos</th>\n",
              "      <td>594</td>\n",
              "      <td>594</td>\n",
              "    </tr>\n",
              "    <tr>\n",
              "      <th>rec.motorcycles</th>\n",
              "      <td>598</td>\n",
              "      <td>598</td>\n",
              "    </tr>\n",
              "    <tr>\n",
              "      <th>rec.sport.baseball</th>\n",
              "      <td>597</td>\n",
              "      <td>597</td>\n",
              "    </tr>\n",
              "    <tr>\n",
              "      <th>rec.sport.hockey</th>\n",
              "      <td>600</td>\n",
              "      <td>600</td>\n",
              "    </tr>\n",
              "    <tr>\n",
              "      <th>sci.crypt</th>\n",
              "      <td>595</td>\n",
              "      <td>595</td>\n",
              "    </tr>\n",
              "    <tr>\n",
              "      <th>sci.electronics</th>\n",
              "      <td>591</td>\n",
              "      <td>591</td>\n",
              "    </tr>\n",
              "    <tr>\n",
              "      <th>sci.med</th>\n",
              "      <td>594</td>\n",
              "      <td>594</td>\n",
              "    </tr>\n",
              "    <tr>\n",
              "      <th>sci.space</th>\n",
              "      <td>593</td>\n",
              "      <td>593</td>\n",
              "    </tr>\n",
              "    <tr>\n",
              "      <th>soc.religion.christian</th>\n",
              "      <td>599</td>\n",
              "      <td>599</td>\n",
              "    </tr>\n",
              "    <tr>\n",
              "      <th>talk.politics.guns</th>\n",
              "      <td>546</td>\n",
              "      <td>546</td>\n",
              "    </tr>\n",
              "    <tr>\n",
              "      <th>talk.politics.mideast</th>\n",
              "      <td>564</td>\n",
              "      <td>564</td>\n",
              "    </tr>\n",
              "    <tr>\n",
              "      <th>talk.politics.misc</th>\n",
              "      <td>465</td>\n",
              "      <td>465</td>\n",
              "    </tr>\n",
              "    <tr>\n",
              "      <th>talk.religion.misc</th>\n",
              "      <td>377</td>\n",
              "      <td>377</td>\n",
              "    </tr>\n",
              "  </tbody>\n",
              "</table>\n",
              "</div>"
            ],
            "text/plain": [
              "                          Key  Information\n",
              "Location                                  \n",
              "alt.atheism               480          480\n",
              "comp.graphics             584          584\n",
              "comp.os.ms-windows.misc   591          591\n",
              "comp.sys.ibm.pc.hardware  590          590\n",
              "comp.sys.mac.hardware     578          578\n",
              "comp.windows.x            593          593\n",
              "misc.forsale              585          585\n",
              "rec.autos                 594          594\n",
              "rec.motorcycles           598          598\n",
              "rec.sport.baseball        597          597\n",
              "rec.sport.hockey          600          600\n",
              "sci.crypt                 595          595\n",
              "sci.electronics           591          591\n",
              "sci.med                   594          594\n",
              "sci.space                 593          593\n",
              "soc.religion.christian    599          599\n",
              "talk.politics.guns        546          546\n",
              "talk.politics.mideast     564          564\n",
              "talk.politics.misc        465          465\n",
              "talk.religion.misc        377          377"
            ]
          },
          "metadata": {},
          "execution_count": 160
        }
      ]
    },
    {
      "cell_type": "code",
      "metadata": {
        "colab": {
          "base_uri": "https://localhost:8080/",
          "height": 708
        },
        "id": "r3_GjCkwejsU",
        "outputId": "3116b763-7167-4dbb-d870-6307937f96a7"
      },
      "source": [
        "TestDataFrame.groupby('Location').count()"
      ],
      "execution_count": null,
      "outputs": [
        {
          "output_type": "execute_result",
          "data": {
            "text/html": [
              "<div>\n",
              "<style scoped>\n",
              "    .dataframe tbody tr th:only-of-type {\n",
              "        vertical-align: middle;\n",
              "    }\n",
              "\n",
              "    .dataframe tbody tr th {\n",
              "        vertical-align: top;\n",
              "    }\n",
              "\n",
              "    .dataframe thead th {\n",
              "        text-align: right;\n",
              "    }\n",
              "</style>\n",
              "<table border=\"1\" class=\"dataframe\">\n",
              "  <thead>\n",
              "    <tr style=\"text-align: right;\">\n",
              "      <th></th>\n",
              "      <th>Key</th>\n",
              "      <th>Information</th>\n",
              "    </tr>\n",
              "    <tr>\n",
              "      <th>Location</th>\n",
              "      <th></th>\n",
              "      <th></th>\n",
              "    </tr>\n",
              "  </thead>\n",
              "  <tbody>\n",
              "    <tr>\n",
              "      <th>alt.atheism</th>\n",
              "      <td>319</td>\n",
              "      <td>319</td>\n",
              "    </tr>\n",
              "    <tr>\n",
              "      <th>comp.graphics</th>\n",
              "      <td>389</td>\n",
              "      <td>389</td>\n",
              "    </tr>\n",
              "    <tr>\n",
              "      <th>comp.os.ms-windows.misc</th>\n",
              "      <td>394</td>\n",
              "      <td>394</td>\n",
              "    </tr>\n",
              "    <tr>\n",
              "      <th>comp.sys.ibm.pc.hardware</th>\n",
              "      <td>392</td>\n",
              "      <td>392</td>\n",
              "    </tr>\n",
              "    <tr>\n",
              "      <th>comp.sys.mac.hardware</th>\n",
              "      <td>385</td>\n",
              "      <td>385</td>\n",
              "    </tr>\n",
              "    <tr>\n",
              "      <th>comp.windows.x</th>\n",
              "      <td>395</td>\n",
              "      <td>395</td>\n",
              "    </tr>\n",
              "    <tr>\n",
              "      <th>misc.forsale</th>\n",
              "      <td>390</td>\n",
              "      <td>390</td>\n",
              "    </tr>\n",
              "    <tr>\n",
              "      <th>rec.autos</th>\n",
              "      <td>396</td>\n",
              "      <td>396</td>\n",
              "    </tr>\n",
              "    <tr>\n",
              "      <th>rec.motorcycles</th>\n",
              "      <td>398</td>\n",
              "      <td>398</td>\n",
              "    </tr>\n",
              "    <tr>\n",
              "      <th>rec.sport.baseball</th>\n",
              "      <td>397</td>\n",
              "      <td>397</td>\n",
              "    </tr>\n",
              "    <tr>\n",
              "      <th>rec.sport.hockey</th>\n",
              "      <td>399</td>\n",
              "      <td>399</td>\n",
              "    </tr>\n",
              "    <tr>\n",
              "      <th>sci.crypt</th>\n",
              "      <td>396</td>\n",
              "      <td>396</td>\n",
              "    </tr>\n",
              "    <tr>\n",
              "      <th>sci.electronics</th>\n",
              "      <td>393</td>\n",
              "      <td>393</td>\n",
              "    </tr>\n",
              "    <tr>\n",
              "      <th>sci.med</th>\n",
              "      <td>396</td>\n",
              "      <td>396</td>\n",
              "    </tr>\n",
              "    <tr>\n",
              "      <th>sci.space</th>\n",
              "      <td>394</td>\n",
              "      <td>394</td>\n",
              "    </tr>\n",
              "    <tr>\n",
              "      <th>soc.religion.christian</th>\n",
              "      <td>398</td>\n",
              "      <td>398</td>\n",
              "    </tr>\n",
              "    <tr>\n",
              "      <th>talk.politics.guns</th>\n",
              "      <td>364</td>\n",
              "      <td>364</td>\n",
              "    </tr>\n",
              "    <tr>\n",
              "      <th>talk.politics.mideast</th>\n",
              "      <td>376</td>\n",
              "      <td>376</td>\n",
              "    </tr>\n",
              "    <tr>\n",
              "      <th>talk.politics.misc</th>\n",
              "      <td>310</td>\n",
              "      <td>310</td>\n",
              "    </tr>\n",
              "    <tr>\n",
              "      <th>talk.religion.misc</th>\n",
              "      <td>251</td>\n",
              "      <td>251</td>\n",
              "    </tr>\n",
              "  </tbody>\n",
              "</table>\n",
              "</div>"
            ],
            "text/plain": [
              "                          Key  Information\n",
              "Location                                  \n",
              "alt.atheism               319          319\n",
              "comp.graphics             389          389\n",
              "comp.os.ms-windows.misc   394          394\n",
              "comp.sys.ibm.pc.hardware  392          392\n",
              "comp.sys.mac.hardware     385          385\n",
              "comp.windows.x            395          395\n",
              "misc.forsale              390          390\n",
              "rec.autos                 396          396\n",
              "rec.motorcycles           398          398\n",
              "rec.sport.baseball        397          397\n",
              "rec.sport.hockey          399          399\n",
              "sci.crypt                 396          396\n",
              "sci.electronics           393          393\n",
              "sci.med                   396          396\n",
              "sci.space                 394          394\n",
              "soc.religion.christian    398          398\n",
              "talk.politics.guns        364          364\n",
              "talk.politics.mideast     376          376\n",
              "talk.politics.misc        310          310\n",
              "talk.religion.misc        251          251"
            ]
          },
          "metadata": {},
          "execution_count": 161
        }
      ]
    },
    {
      "cell_type": "markdown",
      "metadata": {
        "id": "VUh5bZ3tINGS"
      },
      "source": [
        "\n",
        "\n",
        "```\n",
        "Question #5 and #6\n",
        "\n",
        "```\n",
        "\n"
      ]
    },
    {
      "cell_type": "code",
      "metadata": {
        "id": "5smq6NWleCbY"
      },
      "source": [
        "y_Train=TrainDataFrame['Location']\n",
        "X_Train=TrainDataFrame['Information']\n"
      ],
      "execution_count": null,
      "outputs": []
    },
    {
      "cell_type": "code",
      "metadata": {
        "id": "ldEF7EzEfVJI"
      },
      "source": [
        "y_Test=TestDataFrame['Location']\n",
        "X_Test=TestDataFrame['Information']"
      ],
      "execution_count": null,
      "outputs": []
    },
    {
      "cell_type": "code",
      "metadata": {
        "colab": {
          "base_uri": "https://localhost:8080/"
        },
        "id": "CzTuBdeSDxzB",
        "outputId": "cd420c94-f08e-4241-d67e-655b9d701509"
      },
      "source": [
        "len(X_Train), len(X_Test), len(y_Train), len(y_Test)"
      ],
      "execution_count": null,
      "outputs": [
        {
          "output_type": "execute_result",
          "data": {
            "text/plain": [
              "(11314, 7532, 11314, 7532)"
            ]
          },
          "metadata": {},
          "execution_count": 164
        }
      ]
    },
    {
      "cell_type": "code",
      "metadata": {
        "id": "U07_GCsCOXRy"
      },
      "source": [
        "import re\n",
        "import string\n",
        "# Create a token pattern.  It is better to use re.compile, \n",
        "# as it will apply to multiple matches, which makes it faster\n",
        "re_tok = re.compile('[^a-zA-Z]')\n",
        "def tokenize(s): \n",
        "    return re_tok.sub(' ', s).split()"
      ],
      "execution_count": null,
      "outputs": []
    },
    {
      "cell_type": "code",
      "metadata": {
        "id": "TIv1ChOKEvab"
      },
      "source": [
        "from sklearn.feature_extraction.text import CountVectorizer\n",
        "count_vect = CountVectorizer(tokenizer=tokenize)"
      ],
      "execution_count": null,
      "outputs": []
    },
    {
      "cell_type": "code",
      "metadata": {
        "colab": {
          "base_uri": "https://localhost:8080/"
        },
        "id": "kAiEoRjQEwJz",
        "outputId": "abf8cd4d-9a1c-41cf-ec0e-0671bcfda09f"
      },
      "source": [
        "print(count_vect)"
      ],
      "execution_count": null,
      "outputs": [
        {
          "output_type": "stream",
          "name": "stdout",
          "text": [
            "CountVectorizer(analyzer='word', binary=False, decode_error='strict',\n",
            "                dtype=<class 'numpy.int64'>, encoding='utf-8', input='content',\n",
            "                lowercase=True, max_df=1.0, max_features=None, min_df=1,\n",
            "                ngram_range=(1, 1), preprocessor=None, stop_words=None,\n",
            "                strip_accents=None, token_pattern='(?u)\\\\b\\\\w\\\\w+\\\\b',\n",
            "                tokenizer=<function tokenize at 0x7f61884e3b00>,\n",
            "                vocabulary=None)\n"
          ]
        }
      ]
    },
    {
      "cell_type": "code",
      "metadata": {
        "id": "m7w3dolqEyzK"
      },
      "source": [
        "tf_train= count_vect.fit_transform(X_Train)\n",
        "tf_test = count_vect.transform(X_Test)"
      ],
      "execution_count": null,
      "outputs": []
    },
    {
      "cell_type": "code",
      "metadata": {
        "colab": {
          "base_uri": "https://localhost:8080/"
        },
        "id": "L_5dMOtXDpJ3",
        "outputId": "77cc3aff-c487-48c8-a05f-82c3b835545d"
      },
      "source": [
        "tf_train.shape[1]"
      ],
      "execution_count": null,
      "outputs": [
        {
          "output_type": "execute_result",
          "data": {
            "text/plain": [
              "89038"
            ]
          },
          "metadata": {},
          "execution_count": 169
        }
      ]
    },
    {
      "cell_type": "code",
      "metadata": {
        "colab": {
          "base_uri": "https://localhost:8080/"
        },
        "id": "gRfLmVJEbTYF",
        "outputId": "f0662389-5ec6-4501-8f49-e3adc6506d74"
      },
      "source": [
        "count_vect.get_feature_names()"
      ],
      "execution_count": null,
      "outputs": [
        {
          "output_type": "execute_result",
          "data": {
            "text/plain": [
              "['a',\n",
              " 'aa',\n",
              " 'aaa',\n",
              " 'aaaa',\n",
              " 'aaaaaaaaaaaa',\n",
              " 'aaaaaaaaaaaaaaaaaaaaaaaaaaaaaaauuuuuuuuuuuuuuuuuuuuuuuuuuuuuuuugggggggggggggggg',\n",
              " 'aaaaagggghhhh',\n",
              " 'aaaarrgghhhh',\n",
              " 'aaah',\n",
              " 'aaahh',\n",
              " 'aaahhhh',\n",
              " 'aaai',\n",
              " 'aab',\n",
              " 'aacc',\n",
              " 'aachen',\n",
              " 'aacvkc',\n",
              " 'aad',\n",
              " 'aaef',\n",
              " 'aaf',\n",
              " 'aafc',\n",
              " 'aah',\n",
              " 'aai',\n",
              " 'aaj',\n",
              " 'aalac',\n",
              " 'aalborg',\n",
              " 'aaldoubo',\n",
              " 'aalm',\n",
              " 'aalternate',\n",
              " 'aam',\n",
              " 'aamazing',\n",
              " 'aamir',\n",
              " 'aammmaaaazzzzzziinnnnggggg',\n",
              " 'aamrl',\n",
              " 'aams',\n",
              " 'aan',\n",
              " 'aanbieden',\n",
              " 'aanerud',\n",
              " 'aangeboden',\n",
              " 'aangegeven',\n",
              " 'aangezien',\n",
              " 'aanp',\n",
              " 'aantal',\n",
              " 'aao',\n",
              " 'aaoepp',\n",
              " 'aaos',\n",
              " 'aap',\n",
              " 'aaph',\n",
              " 'aaplay',\n",
              " 'aar',\n",
              " 'aardvark',\n",
              " 'aargh',\n",
              " 'aarghhhh',\n",
              " 'aarhus',\n",
              " 'aario',\n",
              " 'aarnet',\n",
              " 'aaron',\n",
              " 'aaronc',\n",
              " 'aaronson',\n",
              " 'aarp',\n",
              " 'aarseth',\n",
              " 'aarskog',\n",
              " 'aart',\n",
              " 'aas',\n",
              " 'aasked',\n",
              " 'aatchoo',\n",
              " 'aau',\n",
              " 'aauwpiugyv',\n",
              " 'aav',\n",
              " 'aavb',\n",
              " 'aavso',\n",
              " 'aaw',\n",
              " 'aax',\n",
              " 'aayau',\n",
              " 'aazaadee',\n",
              " 'aazo',\n",
              " 'ab',\n",
              " 'aba',\n",
              " 'ababs',\n",
              " 'abacus',\n",
              " 'abad',\n",
              " 'abaihm',\n",
              " 'abandon',\n",
              " 'abandond',\n",
              " 'abandonded',\n",
              " 'abandoned',\n",
              " 'abandoning',\n",
              " 'abandonment',\n",
              " 'abandons',\n",
              " 'abarden',\n",
              " 'abate',\n",
              " 'abatement',\n",
              " 'abates',\n",
              " 'abaum',\n",
              " 'abba',\n",
              " 'abbasids',\n",
              " 'abberant',\n",
              " 'abberation',\n",
              " 'abberley',\n",
              " 'abbey',\n",
              " 'abbie',\n",
              " 'abbot',\n",
              " 'abbott',\n",
              " 'abboud',\n",
              " 'abbrev',\n",
              " 'abbreviated',\n",
              " 'abbreviation',\n",
              " 'abbreviations',\n",
              " 'abbs',\n",
              " 'abc',\n",
              " 'abcd',\n",
              " 'abcdef',\n",
              " 'abcdefghijklmnopqrstuvwxyz',\n",
              " 'abcpv',\n",
              " 'abd',\n",
              " 'abdel',\n",
              " 'abdi',\n",
              " 'abdication',\n",
              " 'abdkw',\n",
              " 'abdo',\n",
              " 'abdomen',\n",
              " 'abdomens',\n",
              " 'abdominal',\n",
              " 'abduct',\n",
              " 'abducted',\n",
              " 'abduction',\n",
              " 'abdul',\n",
              " 'abdulcebbar',\n",
              " 'abdulhamid',\n",
              " 'abdullah',\n",
              " 'abdullahad',\n",
              " 'abe',\n",
              " 'abea',\n",
              " 'abed',\n",
              " 'abedk',\n",
              " 'abeel',\n",
              " 'abeit',\n",
              " 'abekas',\n",
              " 'abel',\n",
              " 'aben',\n",
              " 'abensberg',\n",
              " 'abeoz',\n",
              " 'aber',\n",
              " 'aberdeen',\n",
              " 'aberkvam',\n",
              " 'abernathy',\n",
              " 'aberrant',\n",
              " 'aberration',\n",
              " 'aberrations',\n",
              " 'aberystwyth',\n",
              " 'abetter',\n",
              " 'abetting',\n",
              " 'abfb',\n",
              " 'abfdefghiijklmmnohpp',\n",
              " 'abg',\n",
              " 'abgarovich',\n",
              " 'abgc',\n",
              " 'abh',\n",
              " 'abhin',\n",
              " 'abhor',\n",
              " 'abhorent',\n",
              " 'abhorred',\n",
              " 'abhorrences',\n",
              " 'abhorrent',\n",
              " 'abhout',\n",
              " 'abian',\n",
              " 'abide',\n",
              " 'abides',\n",
              " 'abideth',\n",
              " 'abiding',\n",
              " 'abig',\n",
              " 'abigail',\n",
              " 'abild',\n",
              " 'abildskov',\n",
              " 'abilene',\n",
              " 'abilities',\n",
              " 'ability',\n",
              " 'abiliy',\n",
              " 'abingdon',\n",
              " 'abington',\n",
              " 'abiogenesis',\n",
              " 'abj',\n",
              " 'abjuring',\n",
              " 'abkect',\n",
              " 'abkhazia',\n",
              " 'ablaze',\n",
              " 'ablazing',\n",
              " 'able',\n",
              " 'ablility',\n",
              " 'ably',\n",
              " 'abn',\n",
              " 'abner',\n",
              " 'abnormal',\n",
              " 'abnormalities',\n",
              " 'abnormally',\n",
              " 'abnt',\n",
              " 'abo',\n",
              " 'aboard',\n",
              " 'aboce',\n",
              " 'abode',\n",
              " 'abodes',\n",
              " 'aboid',\n",
              " 'abolish',\n",
              " 'abolished',\n",
              " 'abolishing',\n",
              " 'abolishment',\n",
              " 'abolition',\n",
              " 'abolitionist',\n",
              " 'abolitionists',\n",
              " 'abomb',\n",
              " 'abominable',\n",
              " 'abomination',\n",
              " 'abominations',\n",
              " 'aboove',\n",
              " 'abord',\n",
              " 'aboritionists',\n",
              " 'abort',\n",
              " 'aborted',\n",
              " 'abortion',\n",
              " 'abortionists',\n",
              " 'abortions',\n",
              " 'aborts',\n",
              " 'abott',\n",
              " 'abotu',\n",
              " 'abou',\n",
              " 'abound',\n",
              " 'abounded',\n",
              " 'abounds',\n",
              " 'about',\n",
              " 'abouts',\n",
              " 'abovax',\n",
              " 'above',\n",
              " 'abovementioned',\n",
              " 'abovew',\n",
              " 'aboyko',\n",
              " 'abp',\n",
              " 'abph',\n",
              " 'abpsoft',\n",
              " 'abput',\n",
              " 'abraam',\n",
              " 'abraham',\n",
              " 'abrahamic',\n",
              " 'abram',\n",
              " 'abramyan',\n",
              " 'abrash',\n",
              " 'abrasions',\n",
              " 'abrasive',\n",
              " 'abrasives',\n",
              " 'abravo',\n",
              " 'abraxis',\n",
              " 'abreast',\n",
              " 'abrg',\n",
              " 'abri',\n",
              " 'abridge',\n",
              " 'abridged',\n",
              " 'abridgement',\n",
              " 'abridgements',\n",
              " 'abridging',\n",
              " 'abridgment',\n",
              " 'abroad',\n",
              " 'abrogate',\n",
              " 'abrogation',\n",
              " 'abrupt',\n",
              " 'abruptly',\n",
              " 'abs',\n",
              " 'abscence',\n",
              " 'abscess',\n",
              " 'absence',\n",
              " 'absences',\n",
              " 'absense',\n",
              " 'absent',\n",
              " 'absentee',\n",
              " 'absgh',\n",
              " 'absitinence',\n",
              " 'absol',\n",
              " 'absolut',\n",
              " 'absolute',\n",
              " 'absolutely',\n",
              " 'absolutes',\n",
              " 'absolutey',\n",
              " 'absolutism',\n",
              " 'absolutist',\n",
              " 'absolutists',\n",
              " 'absolve',\n",
              " 'absolved',\n",
              " 'absolving',\n",
              " 'absood',\n",
              " 'absorb',\n",
              " 'absorbed',\n",
              " 'absorber',\n",
              " 'absorbers',\n",
              " 'absorbing',\n",
              " 'absorbs',\n",
              " 'absorbtion',\n",
              " 'absorption',\n",
              " 'absoultly',\n",
              " 'abstact',\n",
              " 'abstacted',\n",
              " 'abstain',\n",
              " 'abstaining',\n",
              " 'abstinence',\n",
              " 'abstinencne',\n",
              " 'abstract',\n",
              " 'abstraction',\n",
              " 'abstractions',\n",
              " 'abstracts',\n",
              " 'abstractsoft',\n",
              " 'absurb',\n",
              " 'absurd',\n",
              " 'absurdities',\n",
              " 'absurdity',\n",
              " 'absurdium',\n",
              " 'absurdly',\n",
              " 'absurdum',\n",
              " 'absure',\n",
              " 'abt',\n",
              " 'abu',\n",
              " 'abue',\n",
              " 'abulfaz',\n",
              " 'abundance',\n",
              " 'abundances',\n",
              " 'abundant',\n",
              " 'abundantly',\n",
              " 'abuot',\n",
              " 'abus',\n",
              " 'abuse',\n",
              " 'abused',\n",
              " 'abuser',\n",
              " 'abusers',\n",
              " 'abuses',\n",
              " 'abusing',\n",
              " 'abusive',\n",
              " 'abutaha',\n",
              " 'abutment',\n",
              " 'abve',\n",
              " 'abvious',\n",
              " 'abvz',\n",
              " 'aby',\n",
              " 'abysmal',\n",
              " 'abyss',\n",
              " 'abyte',\n",
              " 'abz',\n",
              " 'ac',\n",
              " 'aca',\n",
              " 'acab',\n",
              " 'acacia',\n",
              " 'acad',\n",
              " 'acadamia',\n",
              " 'acadamy',\n",
              " 'academ',\n",
              " 'academe',\n",
              " 'academia',\n",
              " 'academiae',\n",
              " 'academic',\n",
              " 'academica',\n",
              " 'academically',\n",
              " 'academician',\n",
              " 'academics',\n",
              " 'academies',\n",
              " 'academy',\n",
              " 'acadia',\n",
              " 'acadiau',\n",
              " 'acadien',\n",
              " 'acaps',\n",
              " 'acb',\n",
              " 'acbl',\n",
              " 'acc',\n",
              " 'acca',\n",
              " 'accede',\n",
              " 'accel',\n",
              " 'accelaration',\n",
              " 'accelarator',\n",
              " 'accelaratores',\n",
              " 'accelartor',\n",
              " 'acceleartion',\n",
              " 'acceler',\n",
              " 'accelerate',\n",
              " 'accelerated',\n",
              " 'accelerates',\n",
              " 'accelerating',\n",
              " 'acceleration',\n",
              " 'accelerations',\n",
              " 'accelerator',\n",
              " 'accelerators',\n",
              " 'acceleratortext',\n",
              " 'accellerated',\n",
              " 'accelleration',\n",
              " 'accellerator',\n",
              " 'accent',\n",
              " 'accented',\n",
              " 'accentuate',\n",
              " 'accentuates',\n",
              " 'accept',\n",
              " 'acceptab',\n",
              " 'acceptability',\n",
              " 'acceptable',\n",
              " 'acceptably',\n",
              " 'acceptance',\n",
              " 'accepted',\n",
              " 'acceptible',\n",
              " 'accepting',\n",
              " 'accepts',\n",
              " 'acces',\n",
              " 'accesible',\n",
              " 'accesing',\n",
              " 'accesories',\n",
              " 'access',\n",
              " 'accessability',\n",
              " 'accessable',\n",
              " 'accessaries',\n",
              " 'accessdata',\n",
              " 'accessed',\n",
              " 'accesses',\n",
              " 'accessibility',\n",
              " 'accessible',\n",
              " 'accessing',\n",
              " 'accession',\n",
              " 'accessories',\n",
              " 'accessory',\n",
              " 'accesssories',\n",
              " 'accgsg',\n",
              " 'accid',\n",
              " 'accident',\n",
              " 'accidental',\n",
              " 'accidentally',\n",
              " 'accidentaly',\n",
              " 'accidently',\n",
              " 'accidents',\n",
              " 'acclaimed',\n",
              " 'acclaims',\n",
              " 'acclimate',\n",
              " 'acclimated',\n",
              " 'acclimatization',\n",
              " 'acclimatize',\n",
              " 'acclimitazation',\n",
              " 'accolade',\n",
              " 'accom',\n",
              " 'accomazzi',\n",
              " 'accommodate',\n",
              " 'accommodated',\n",
              " 'accommodates',\n",
              " 'accommodation',\n",
              " 'accommodations',\n",
              " 'accomodate',\n",
              " 'accomodated',\n",
              " 'accomodates',\n",
              " 'accomodating',\n",
              " 'accomodation',\n",
              " 'accomodations',\n",
              " 'accompanied',\n",
              " 'accompanies',\n",
              " 'accompany',\n",
              " 'accompanying',\n",
              " 'accompli',\n",
              " 'accomplice',\n",
              " 'accomplis',\n",
              " 'accomplish',\n",
              " 'accomplished',\n",
              " 'accomplishes',\n",
              " 'accomplishing',\n",
              " 'accomplishment',\n",
              " 'accomplishments',\n",
              " 'accoountable',\n",
              " 'accor',\n",
              " 'accord',\n",
              " 'accordance',\n",
              " 'accorded',\n",
              " 'according',\n",
              " 'accordingly',\n",
              " 'accordion',\n",
              " 'accordiong',\n",
              " 'accords',\n",
              " 'accosted',\n",
              " 'accosts',\n",
              " 'accound',\n",
              " 'account',\n",
              " 'accountability',\n",
              " 'accountable',\n",
              " 'accountant',\n",
              " 'accountants',\n",
              " 'accounted',\n",
              " 'accounting',\n",
              " 'accounts',\n",
              " 'accpak',\n",
              " 'accpeted',\n",
              " 'accredit',\n",
              " 'accreditation',\n",
              " 'accredited',\n",
              " 'accreted',\n",
              " 'accretie',\n",
              " 'accretieschijven',\n",
              " 'accretion',\n",
              " 'accrodingly',\n",
              " 'accross',\n",
              " 'accrue',\n",
              " 'accrued',\n",
              " 'accruing',\n",
              " 'accsys',\n",
              " 'accton',\n",
              " 'accuartely',\n",
              " 'accuate',\n",
              " 'accucolor',\n",
              " 'accucorp',\n",
              " 'accufont',\n",
              " 'accuire',\n",
              " 'accukey',\n",
              " 'acculogic',\n",
              " 'accumlated',\n",
              " 'accummulate',\n",
              " 'accumulate',\n",
              " 'accumulated',\n",
              " 'accumulates',\n",
              " 'accumulating',\n",
              " 'accumulation',\n",
              " 'accupuncture',\n",
              " 'accupuntunce',\n",
              " 'accuracies',\n",
              " 'accuracy',\n",
              " 'accurate',\n",
              " 'accurately',\n",
              " 'accusation',\n",
              " 'accusations',\n",
              " 'accusative',\n",
              " 'accuse',\n",
              " 'accused',\n",
              " 'accusers',\n",
              " 'accuses',\n",
              " 'accusing',\n",
              " 'accusors',\n",
              " 'accussations',\n",
              " 'accussed',\n",
              " 'accustomed',\n",
              " 'accutane',\n",
              " 'accutrak',\n",
              " 'acd',\n",
              " 'acdis',\n",
              " 'ace',\n",
              " 'acearl',\n",
              " 'acegr',\n",
              " 'aceh',\n",
              " 'aceitunas',\n",
              " 'acelerators',\n",
              " 'acem',\n",
              " 'acenet',\n",
              " 'acepting',\n",
              " 'acer',\n",
              " 'aces',\n",
              " 'acessing',\n",
              " 'acetate',\n",
              " 'acetic',\n",
              " 'acetominophen',\n",
              " 'acetylene',\n",
              " 'acf',\n",
              " 'acg',\n",
              " 'acgi',\n",
              " 'ach',\n",
              " 'achaemenid',\n",
              " 'achaeminid',\n",
              " 'achamed',\n",
              " 'achar',\n",
              " 'achates',\n",
              " 'ache',\n",
              " 'acheamenids',\n",
              " 'acheive',\n",
              " 'acheived',\n",
              " 'acheiving',\n",
              " 'acheng',\n",
              " 'acheron',\n",
              " 'aches',\n",
              " 'achevia',\n",
              " 'achieva',\n",
              " 'achievable',\n",
              " 'achieve',\n",
              " 'achieved',\n",
              " 'achievement',\n",
              " 'achievements',\n",
              " 'achieves',\n",
              " 'achieving',\n",
              " 'achille',\n",
              " 'achilles',\n",
              " 'achim',\n",
              " 'aching',\n",
              " 'achive',\n",
              " 'achived',\n",
              " 'achkar',\n",
              " 'acho',\n",
              " 'achoacj',\n",
              " 'achorlhz',\n",
              " 'achov',\n",
              " 'achses',\n",
              " 'acht',\n",
              " 'achtung',\n",
              " 'achurist',\n",
              " 'achx',\n",
              " 'achy',\n",
              " 'achz',\n",
              " 'achzaff',\n",
              " 'achzd',\n",
              " 'achzq',\n",
              " 'achzrchz',\n",
              " 'achzrlj',\n",
              " 'aci',\n",
              " 'acid',\n",
              " 'acidic',\n",
              " 'acidophilis',\n",
              " 'acidophilius',\n",
              " 'acidophilous',\n",
              " 'acidophilus',\n",
              " 'acids',\n",
              " 'acifuent',\n",
              " 'acii',\n",
              " 'aciid',\n",
              " 'acis',\n",
              " 'acj',\n",
              " 'ack',\n",
              " 'acker',\n",
              " 'ackermann',\n",
              " 'ackers',\n",
              " 'acknosledge',\n",
              " 'acknowledge',\n",
              " 'acknowledged',\n",
              " 'acknowledgement',\n",
              " 'acknowledgements',\n",
              " 'acknowledges',\n",
              " 'acknowledging',\n",
              " 'acknowledgment',\n",
              " 'acknowleding',\n",
              " 'acknowleged',\n",
              " 'acknowlegement',\n",
              " 'aclimated',\n",
              " 'aclimation',\n",
              " 'aclimatized',\n",
              " 'aclj',\n",
              " 'aclu',\n",
              " 'acm',\n",
              " 'acme',\n",
              " 'acn',\n",
              " 'acne',\n",
              " 'acns',\n",
              " 'acollins',\n",
              " 'acooney',\n",
              " 'acooper',\n",
              " 'acording',\n",
              " 'acorn',\n",
              " 'acosta',\n",
              " 'acot',\n",
              " 'acoustic',\n",
              " 'acoustical',\n",
              " 'acoustics',\n",
              " 'acoustique',\n",
              " 'acp',\n",
              " 'acpdgohawa',\n",
              " 'acpp',\n",
              " 'acps',\n",
              " 'acpub',\n",
              " 'acpy',\n",
              " 'acq',\n",
              " 'acquaint',\n",
              " 'acquaintace',\n",
              " 'acquaintance',\n",
              " 'acquaintances',\n",
              " 'acquainted',\n",
              " 'acquiescence',\n",
              " 'acquiescent',\n",
              " 'acquiescing',\n",
              " 'acquire',\n",
              " 'acquired',\n",
              " 'acquires',\n",
              " 'acquiring',\n",
              " 'acquisition',\n",
              " 'acquisitions',\n",
              " 'acquistion',\n",
              " 'acquittal',\n",
              " 'acquittals',\n",
              " 'acquitted',\n",
              " 'acr',\n",
              " 'acre',\n",
              " 'acreage',\n",
              " 'acres',\n",
              " 'acri',\n",
              " 'acrid',\n",
              " 'acrilic',\n",
              " 'acrl',\n",
              " 'acro',\n",
              " 'acrobatics',\n",
              " 'acronym',\n",
              " 'acronyms',\n",
              " 'acronynm',\n",
              " 'across',\n",
              " 'acrossed',\n",
              " 'acrv',\n",
              " 'acrylate',\n",
              " 'acrylonitrile',\n",
              " 'acs',\n",
              " 'acsa',\n",
              " 'acsc',\n",
              " 'acscvjh',\n",
              " 'acsddc',\n",
              " 'acsl',\n",
              " 'acslab',\n",
              " 'acsnet',\n",
              " 'acsu',\n",
              " 'acsys',\n",
              " 'act',\n",
              " 'actaual',\n",
              " 'actaully',\n",
              " 'acted',\n",
              " 'actg',\n",
              " 'acting',\n",
              " 'actinide',\n",
              " 'actinides',\n",
              " 'action',\n",
              " 'actionm',\n",
              " 'actions',\n",
              " 'activa',\n",
              " 'activate',\n",
              " 'activated',\n",
              " 'activating',\n",
              " 'activation',\n",
              " 'active',\n",
              " 'actively',\n",
              " 'activism',\n",
              " 'activist',\n",
              " 'activists',\n",
              " 'activiteiten',\n",
              " 'activites',\n",
              " 'activities',\n",
              " 'activitiests',\n",
              " 'activity',\n",
              " 'activly',\n",
              " 'actix',\n",
              " 'acto',\n",
              " 'acton',\n",
              " 'actor',\n",
              " 'actors',\n",
              " 'actress',\n",
              " 'actrix',\n",
              " 'acts',\n",
              " 'actu',\n",
              " 'actual',\n",
              " 'actuality',\n",
              " 'actualization',\n",
              " 'actuallay',\n",
              " 'actually',\n",
              " 'actualy',\n",
              " 'actuarial',\n",
              " 'actuarials',\n",
              " 'actuaries',\n",
              " 'actuary',\n",
              " 'actuated',\n",
              " 'actuation',\n",
              " 'actuator',\n",
              " 'actuelles',\n",
              " 'acu',\n",
              " 'acuity',\n",
              " 'acuner',\n",
              " 'acunerbb',\n",
              " 'acupuncture',\n",
              " 'acupuncturist',\n",
              " 'acupuncturists',\n",
              " 'acura',\n",
              " 'acurate',\n",
              " 'acurist',\n",
              " 'acurracy',\n",
              " 'acuson',\n",
              " 'acutally',\n",
              " 'acutane',\n",
              " 'acute',\n",
              " 'acutely',\n",
              " 'acuuracy',\n",
              " 'acv',\n",
              " 'acvax',\n",
              " 'acw',\n",
              " 'acwu',\n",
              " 'acx',\n",
              " 'acyclovir',\n",
              " 'acz',\n",
              " 'ad',\n",
              " 'ada',\n",
              " 'adabas',\n",
              " 'adaber',\n",
              " 'adac',\n",
              " 'adaclabs',\n",
              " 'adafa',\n",
              " 'adage',\n",
              " 'adagio',\n",
              " 'adalet',\n",
              " 'adam',\n",
              " 'adamantly',\n",
              " 'adamb',\n",
              " 'adamian',\n",
              " 'adamof',\n",
              " 'adamotif',\n",
              " 'adams',\n",
              " 'adamsj',\n",
              " 'adamski',\n",
              " 'adamsr',\n",
              " 'adana',\n",
              " 'adapt',\n",
              " 'adaptability',\n",
              " 'adaptable',\n",
              " 'adaptabtion',\n",
              " 'adaptation',\n",
              " 'adaptations',\n",
              " 'adaptec',\n",
              " 'adaptecs',\n",
              " 'adapted',\n",
              " 'adapter',\n",
              " 'adapters',\n",
              " 'adapting',\n",
              " 'adaption',\n",
              " 'adaptiove',\n",
              " 'adaptive',\n",
              " 'adaptor',\n",
              " 'adaptors',\n",
              " 'adaptort',\n",
              " 'adaquate',\n",
              " 'adasoft',\n",
              " 'adavantage',\n",
              " 'adavis',\n",
              " 'aday',\n",
              " 'adb',\n",
              " 'adbs',\n",
              " 'adc',\n",
              " 'adcock',\n",
              " 'adcom',\n",
              " 'adcoms',\n",
              " 'adcs',\n",
              " 'add',\n",
              " 'adda',\n",
              " 'addario',\n",
              " 'added',\n",
              " 'addendum',\n",
              " 'adder',\n",
              " 'adders',\n",
              " 'addessed',\n",
              " 'addict',\n",
              " 'addicted',\n",
              " 'addiction',\n",
              " 'addictive',\n",
              " 'addicts',\n",
              " 'adding',\n",
              " 'addison',\n",
              " 'additinol',\n",
              " 'addition',\n",
              " 'additional',\n",
              " 'additionally',\n",
              " 'additions',\n",
              " 'additive',\n",
              " 'additives',\n",
              " 'additivity',\n",
              " 'additonal',\n",
              " 'additonally',\n",
              " 'addon',\n",
              " 'addons',\n",
              " 'addr',\n",
              " 'address',\n",
              " 'addressable',\n",
              " 'addressed',\n",
              " 'addresses',\n",
              " 'addressing',\n",
              " 'addresss',\n",
              " 'addreww',\n",
              " 'addrs',\n",
              " 'adds',\n",
              " 'addtech',\n",
              " 'ade',\n",
              " 'adean',\n",
              " 'adec',\n",
              " 'adelaide',\n",
              " 'adelphi',\n",
              " 'adelphoi',\n",
              " 'adelson',\n",
              " 'aden',\n",
              " 'adeno',\n",
              " 'adenomas',\n",
              " 'adeos',\n",
              " 'adept',\n",
              " 'adepts',\n",
              " 'adequate',\n",
              " 'adequately',\n",
              " 'adequete',\n",
              " 'adf',\n",
              " 'adfa',\n",
              " 'adfd',\n",
              " 'adfrf',\n",
              " 'adg',\n",
              " 'adh',\n",
              " 'adhere',\n",
              " 'adherence',\n",
              " 'adherent',\n",
              " 'adherents',\n",
              " 'adheres',\n",
              " 'adhering',\n",
              " 'adhesion',\n",
              " 'adhesive',\n",
              " 'adhessives',\n",
              " 'adhiyate',\n",
              " 'adi',\n",
              " 'adiministering',\n",
              " 'adios',\n",
              " 'adiposity',\n",
              " 'adirondack',\n",
              " 'adisak',\n",
              " 'aditives',\n",
              " 'adj',\n",
              " 'adjacent',\n",
              " 'adjective',\n",
              " 'adjectives',\n",
              " 'adjoining',\n",
              " 'adjourned',\n",
              " 'adjudicate',\n",
              " 'adjuration',\n",
              " 'adjust',\n",
              " 'adjustability',\n",
              " 'adjustable',\n",
              " 'adjusted',\n",
              " 'adjusters',\n",
              " 'adjusting',\n",
              " 'adjustment',\n",
              " 'adjustments',\n",
              " 'adjusts',\n",
              " 'adjutant',\n",
              " 'adjuvant',\n",
              " 'adjuvants',\n",
              " 'adkins',\n",
              " 'adl',\n",
              " 'adleman',\n",
              " 'adler',\n",
              " 'adlib',\n",
              " 'adm',\n",
              " 'adman',\n",
              " 'admd',\n",
              " 'admendment',\n",
              " 'admicj',\n",
              " 'admin',\n",
              " 'adminis',\n",
              " 'administer',\n",
              " 'administered',\n",
              " 'administering',\n",
              " 'administers',\n",
              " 'administration',\n",
              " 'administrationk',\n",
              " 'administrations',\n",
              " 'administrative',\n",
              " 'administratively',\n",
              " 'administrator',\n",
              " 'administrators',\n",
              " 'administrivia',\n",
              " 'admins',\n",
              " 'adminstration',\n",
              " 'adminstrator',\n",
              " 'adminstrators',\n",
              " 'admirable',\n",
              " 'admirador',\n",
              " 'admiral',\n",
              " 'admirals',\n",
              " 'admiralty',\n",
              " 'admiration',\n",
              " 'admire',\n",
              " 'admired',\n",
              " 'admirer',\n",
              " 'admirers',\n",
              " 'admires',\n",
              " 'admiring',\n",
              " 'admissible',\n",
              " 'admission',\n",
              " 'admissions',\n",
              " 'admist',\n",
              " 'admistration',\n",
              " 'admit',\n",
              " 'admited',\n",
              " 'admits',\n",
              " 'admittdly',\n",
              " 'admitted',\n",
              " 'admittedly',\n",
              " 'admittely',\n",
              " 'admitting',\n",
              " 'admonish',\n",
              " 'admonished',\n",
              " 'admonishing',\n",
              " 'admonishment',\n",
              " 'admonition',\n",
              " 'admonitions',\n",
              " 'admw',\n",
              " 'adn',\n",
              " 'adnd',\n",
              " 'adnet',\n",
              " 'adnt',\n",
              " 'ado',\n",
              " 'adobe',\n",
              " 'adoc',\n",
              " 'adolescence',\n",
              " 'adolescent',\n",
              " 'adolescents',\n",
              " 'adolf',\n",
              " 'adolph',\n",
              " 'adolphus',\n",
              " 'adonais',\n",
              " 'adoni',\n",
              " 'adopt',\n",
              " ...]"
            ]
          },
          "metadata": {},
          "execution_count": 170
        }
      ]
    },
    {
      "cell_type": "markdown",
      "metadata": {
        "id": "p8t1aEbqIx6p"
      },
      "source": [
        "\n",
        "\n",
        "\n",
        "\n",
        "7\n"
      ]
    },
    {
      "cell_type": "code",
      "metadata": {
        "id": "Cd_ZwDaHQ7eT"
      },
      "source": [
        "from sklearn.linear_model import LogisticRegression\n",
        "clf = LogisticRegression(random_state=0, solver='lbfgs',multi_class='multinomial', verbose=2, n_jobs=-1)"
      ],
      "execution_count": null,
      "outputs": []
    },
    {
      "cell_type": "code",
      "metadata": {
        "colab": {
          "base_uri": "https://localhost:8080/"
        },
        "id": "w_J_K9Sh4cvr",
        "outputId": "40961895-3ea2-4f0d-842a-0fb77116b894"
      },
      "source": [
        "clf"
      ],
      "execution_count": null,
      "outputs": [
        {
          "output_type": "execute_result",
          "data": {
            "text/plain": [
              "LogisticRegression(C=1.0, class_weight=None, dual=False, fit_intercept=True,\n",
              "                   intercept_scaling=1, l1_ratio=None, max_iter=100,\n",
              "                   multi_class='multinomial', n_jobs=-1, penalty='l2',\n",
              "                   random_state=0, solver='lbfgs', tol=0.0001, verbose=2,\n",
              "                   warm_start=False)"
            ]
          },
          "metadata": {},
          "execution_count": 172
        }
      ]
    },
    {
      "cell_type": "code",
      "metadata": {
        "colab": {
          "base_uri": "https://localhost:8080/"
        },
        "id": "3FJ1xGp1kGdu",
        "outputId": "42c9f28a-19f6-488e-fb5b-2e8b7317fb17"
      },
      "source": [
        "clf.fit(tf_train, y_Train)"
      ],
      "execution_count": null,
      "outputs": [
        {
          "output_type": "stream",
          "name": "stderr",
          "text": [
            "[Parallel(n_jobs=-1)]: Using backend LokyBackend with 2 concurrent workers.\n",
            "[Parallel(n_jobs=-1)]: Done   1 out of   1 | elapsed:   40.3s finished\n"
          ]
        },
        {
          "output_type": "execute_result",
          "data": {
            "text/plain": [
              "LogisticRegression(C=1.0, class_weight=None, dual=False, fit_intercept=True,\n",
              "                   intercept_scaling=1, l1_ratio=None, max_iter=100,\n",
              "                   multi_class='multinomial', n_jobs=-1, penalty='l2',\n",
              "                   random_state=0, solver='lbfgs', tol=0.0001, verbose=2,\n",
              "                   warm_start=False)"
            ]
          },
          "metadata": {},
          "execution_count": 173
        }
      ]
    },
    {
      "cell_type": "code",
      "metadata": {
        "id": "amqKVaoOmr2M"
      },
      "source": [
        "predictions=clf.predict(tf_test)"
      ],
      "execution_count": null,
      "outputs": []
    },
    {
      "cell_type": "code",
      "metadata": {
        "colab": {
          "base_uri": "https://localhost:8080/"
        },
        "id": "zoHhIHH_dVGt",
        "outputId": "1215f050-b964-4ecb-81ca-eb4e1f880db3"
      },
      "source": [
        "from sklearn.metrics import accuracy_score\n",
        "\n",
        "accuracy = accuracy_score(y_Test, predictions)\n",
        "print(\"\\n\")\n",
        "print(f\"Accuracy.........: {accuracy * 100.0:.4f}\")"
      ],
      "execution_count": null,
      "outputs": [
        {
          "output_type": "stream",
          "name": "stdout",
          "text": [
            "\n",
            "\n",
            "Accuracy.........: 78.7440\n"
          ]
        }
      ]
    },
    {
      "cell_type": "code",
      "metadata": {
        "colab": {
          "base_uri": "https://localhost:8080/",
          "height": 265
        },
        "id": "WVyGJaHaK4Cz",
        "outputId": "54c5559d-07aa-42e5-e7c5-a0516bbb08d8"
      },
      "source": [
        "cm = confusion_matrix(y_Test, predictions)\n",
        "sns.heatmap(cm, annot=True,fmt='d',cbar=False);"
      ],
      "execution_count": null,
      "outputs": [
        {
          "output_type": "display_data",
          "data": {
            "image/png": "[encoded data removed]",
            "text/plain": [
              "<Figure size 432x288 with 1 Axes>"
            ]
          },
          "metadata": {}
        }
      ]
    },
    {
      "cell_type": "markdown",
      "metadata": {
        "id": "-NOXsXc0_2Tb"
      },
      "source": [
        "#8"
      ]
    },
    {
      "cell_type": "code",
      "metadata": {
        "id": "64GoChMhVdU1"
      },
      "source": [
        "from sklearn.svm import LinearSVC\n",
        "from sklearn.pipeline import make_pipeline\n",
        "from sklearn.preprocessing import StandardScaler\n",
        "from sklearn.datasets import make_classification"
      ],
      "execution_count": null,
      "outputs": []
    },
    {
      "cell_type": "code",
      "metadata": {
        "id": "n-m199NBMand"
      },
      "source": [
        "Linclf = LinearSVC(random_state=0)"
      ],
      "execution_count": null,
      "outputs": []
    },
    {
      "cell_type": "code",
      "metadata": {
        "colab": {
          "base_uri": "https://localhost:8080/"
        },
        "id": "tN_iE3tpMffP",
        "outputId": "f638aec3-3bcf-4aa1-bf75-593c728eb7c4"
      },
      "source": [
        "Linclf.fit(tf_train, y_Train)"
      ],
      "execution_count": null,
      "outputs": [
        {
          "output_type": "stream",
          "name": "stderr",
          "text": [
            "/usr/local/lib/python3.7/dist-packages/sklearn/svm/_base.py:947: ConvergenceWarning: Liblinear failed to converge, increase the number of iterations.\n",
            "  \"the number of iterations.\", ConvergenceWarning)\n"
          ]
        },
        {
          "output_type": "execute_result",
          "data": {
            "text/plain": [
              "LinearSVC(C=1.0, class_weight=None, dual=True, fit_intercept=True,\n",
              "          intercept_scaling=1, loss='squared_hinge', max_iter=1000,\n",
              "          multi_class='ovr', penalty='l2', random_state=0, tol=0.0001,\n",
              "          verbose=0)"
            ]
          },
          "metadata": {},
          "execution_count": 179
        }
      ]
    },
    {
      "cell_type": "code",
      "metadata": {
        "colab": {
          "base_uri": "https://localhost:8080/"
        },
        "id": "SiSnxMWUueSl",
        "outputId": "235b02c2-d404-476d-f04b-5c3e0b5f930e"
      },
      "source": [
        "LinPrd=Linclf.predict(tf_test)\n",
        "LinPrd[1:10]"
      ],
      "execution_count": null,
      "outputs": [
        {
          "output_type": "execute_result",
          "data": {
            "text/plain": [
              "array(['rec.sport.baseball', 'rec.sport.baseball', 'rec.autos',\n",
              "       'rec.sport.baseball', 'rec.sport.baseball', 'rec.sport.baseball',\n",
              "       'rec.sport.baseball', 'rec.sport.baseball', 'rec.sport.baseball'],\n",
              "      dtype=object)"
            ]
          },
          "metadata": {},
          "execution_count": 180
        }
      ]
    },
    {
      "cell_type": "code",
      "metadata": {
        "colab": {
          "base_uri": "https://localhost:8080/"
        },
        "id": "1NiuzA9DufCB",
        "outputId": "25c56ed2-57ee-453f-e5c3-fee8f499fe91"
      },
      "source": [
        "y_Test\n",
        "y_Test[1:10]"
      ],
      "execution_count": null,
      "outputs": [
        {
          "output_type": "execute_result",
          "data": {
            "text/plain": [
              "1    rec.sport.baseball\n",
              "2    rec.sport.baseball\n",
              "3    rec.sport.baseball\n",
              "4    rec.sport.baseball\n",
              "5    rec.sport.baseball\n",
              "6    rec.sport.baseball\n",
              "7    rec.sport.baseball\n",
              "8    rec.sport.baseball\n",
              "9    rec.sport.baseball\n",
              "Name: Location, dtype: object"
            ]
          },
          "metadata": {},
          "execution_count": 181
        }
      ]
    },
    {
      "cell_type": "code",
      "metadata": {
        "colab": {
          "base_uri": "https://localhost:8080/"
        },
        "id": "7BfZMcIPMliX",
        "outputId": "08db09d2-9a18-4c3e-bc9e-1fdb9e86fdbf"
      },
      "source": [
        "from sklearn.metrics import accuracy_score\n",
        "accuracy = accuracy_score(y_Test, LinPrd)\n",
        "print(\"\\n\")\n",
        "print(f\"Accuracy.........: {accuracy * 100.0:.4f}\")"
      ],
      "execution_count": null,
      "outputs": [
        {
          "output_type": "stream",
          "name": "stdout",
          "text": [
            "\n",
            "\n",
            "Accuracy.........: 78.5847\n"
          ]
        }
      ]
    },
    {
      "cell_type": "code",
      "metadata": {
        "colab": {
          "base_uri": "https://localhost:8080/",
          "height": 265
        },
        "id": "ZsqYedVzMmtO",
        "outputId": "dc159cd2-4970-4f8b-9965-83f6299efc5e"
      },
      "source": [
        "cm = confusion_matrix(y_Test, LinPrd)\n",
        "sns.heatmap(cm, annot=True,fmt='d',cbar=False);"
      ],
      "execution_count": null,
      "outputs": [
        {
          "output_type": "display_data",
          "data": {
            "image/png": "[encoded data removed]",
            "text/plain": [
              "<Figure size 432x288 with 1 Axes>"
            ]
          },
          "metadata": {}
        }
      ]
    },
    {
      "cell_type": "markdown",
      "metadata": {
        "id": "Vj68HF5lqIoy"
      },
      "source": [
        "Multinomial NB"
      ]
    },
    {
      "cell_type": "code",
      "metadata": {
        "id": "reHvPVXCO0K8"
      },
      "source": [
        "from sklearn.naive_bayes import MultinomialNB"
      ],
      "execution_count": null,
      "outputs": []
    },
    {
      "cell_type": "code",
      "metadata": {
        "id": "WDLC75BoqZMd"
      },
      "source": [
        "NBclf = MultinomialNB()"
      ],
      "execution_count": null,
      "outputs": []
    },
    {
      "cell_type": "code",
      "metadata": {
        "colab": {
          "base_uri": "https://localhost:8080/"
        },
        "id": "0mR4SKWQqbpW",
        "outputId": "b78c2e6c-cdc8-4098-fca4-3b56fa4fa8df"
      },
      "source": [
        "NBclf.fit(tf_train, y_Train)"
      ],
      "execution_count": null,
      "outputs": [
        {
          "output_type": "execute_result",
          "data": {
            "text/plain": [
              "MultinomialNB(alpha=1.0, class_prior=None, fit_prior=True)"
            ]
          },
          "metadata": {},
          "execution_count": 186
        }
      ]
    },
    {
      "cell_type": "code",
      "metadata": {
        "id": "I-GiXkYeqhVM"
      },
      "source": [
        "NBpred=NBclf.predict(tf_test)"
      ],
      "execution_count": null,
      "outputs": []
    },
    {
      "cell_type": "code",
      "metadata": {
        "id": "K4Yxnc_kqlFv",
        "colab": {
          "base_uri": "https://localhost:8080/"
        },
        "outputId": "23c988ce-c9da-4ee0-c9cb-0596704abf42"
      },
      "source": [
        "NBpred"
      ],
      "execution_count": null,
      "outputs": [
        {
          "output_type": "execute_result",
          "data": {
            "text/plain": [
              "array(['rec.sport.baseball', 'rec.sport.baseball', 'rec.sport.baseball',\n",
              "       ..., 'rec.autos', 'rec.autos', 'rec.autos'], dtype='<U24')"
            ]
          },
          "metadata": {},
          "execution_count": 188
        }
      ]
    },
    {
      "cell_type": "code",
      "metadata": {
        "id": "-rvVLn-Tq1fv",
        "colab": {
          "base_uri": "https://localhost:8080/"
        },
        "outputId": "be1c1b18-da95-41b6-be42-9ec2c59ba6b6"
      },
      "source": [
        "y_Test"
      ],
      "execution_count": null,
      "outputs": [
        {
          "output_type": "execute_result",
          "data": {
            "text/plain": [
              "0       rec.sport.baseball\n",
              "1       rec.sport.baseball\n",
              "2       rec.sport.baseball\n",
              "3       rec.sport.baseball\n",
              "4       rec.sport.baseball\n",
              "               ...        \n",
              "7527             rec.autos\n",
              "7528             rec.autos\n",
              "7529             rec.autos\n",
              "7530             rec.autos\n",
              "7531             rec.autos\n",
              "Name: Location, Length: 7532, dtype: object"
            ]
          },
          "metadata": {},
          "execution_count": 189
        }
      ]
    },
    {
      "cell_type": "code",
      "metadata": {
        "id": "XO9H4UNgMtS9",
        "colab": {
          "base_uri": "https://localhost:8080/"
        },
        "outputId": "44a90467-09d9-42f5-d71f-9a98ec62fc48"
      },
      "source": [
        "NBpred"
      ],
      "execution_count": null,
      "outputs": [
        {
          "output_type": "execute_result",
          "data": {
            "text/plain": [
              "array(['rec.sport.baseball', 'rec.sport.baseball', 'rec.sport.baseball',\n",
              "       ..., 'rec.autos', 'rec.autos', 'rec.autos'], dtype='<U24')"
            ]
          },
          "metadata": {},
          "execution_count": 190
        }
      ]
    },
    {
      "cell_type": "code",
      "metadata": {
        "id": "ZGujv-2dq24_",
        "colab": {
          "base_uri": "https://localhost:8080/"
        },
        "outputId": "661a157a-40fc-40a3-b836-8d376cb6d2ae"
      },
      "source": [
        "from sklearn.metrics import accuracy_score\n",
        "accuracy = accuracy_score(y_Test, NBpred)\n",
        "print(\"\\n\")\n",
        "print(f\"Accuracy.........: {accuracy * 100.0:.4f}\")"
      ],
      "execution_count": null,
      "outputs": [
        {
          "output_type": "stream",
          "name": "stdout",
          "text": [
            "\n",
            "\n",
            "Accuracy.........: 78.4785\n"
          ]
        }
      ]
    },
    {
      "cell_type": "code",
      "metadata": {
        "colab": {
          "base_uri": "https://localhost:8080/",
          "height": 265
        },
        "id": "yveo9ZynMsQO",
        "outputId": "73f906f6-8246-48a8-8015-2a6009eb01f4"
      },
      "source": [
        "cm = confusion_matrix(y_Test, NBpred)\n",
        "sns.heatmap(cm, annot=True,fmt='d',cbar=False);"
      ],
      "execution_count": null,
      "outputs": [
        {
          "output_type": "display_data",
          "data": {
            "image/png": "[encoded data removed]",
            "text/plain": [
              "<Figure size 432x288 with 1 Axes>"
            ]
          },
          "metadata": {}
        }
      ]
    },
    {
      "cell_type": "markdown",
      "metadata": {
        "id": "7vSZkMP7GOIw"
      },
      "source": [
        "Question #9\n"
      ]
    },
    {
      "cell_type": "code",
      "metadata": {
        "colab": {
          "base_uri": "https://localhost:8080/"
        },
        "id": "XZpdvtwBGREU",
        "outputId": "738e584e-6b98-4755-b4b3-339b7f234d74"
      },
      "source": [
        "from sklearn.model_selection import  GridSearchCV\n",
        "from sklearn.svm  import LinearSVC\n",
        "\n",
        "param_grid = {'C': [0.1,  1, 10, 100] }\n",
        "linearSVC = GridSearchCV(LinearSVC(),\n",
        "                         param_grid,\n",
        "                         cv=5,\n",
        "                         scoring='accuracy', \n",
        "                         n_jobs= -1, \n",
        "                         verbose=3)\n",
        "grid_fit= linearSVC.fit(tf_train,y_Train )"
      ],
      "execution_count": null,
      "outputs": [
        {
          "output_type": "stream",
          "name": "stdout",
          "text": [
            "Fitting 5 folds for each of 4 candidates, totalling 20 fits\n"
          ]
        },
        {
          "output_type": "stream",
          "name": "stderr",
          "text": [
            "[Parallel(n_jobs=-1)]: Using backend LokyBackend with 2 concurrent workers.\n",
            "[Parallel(n_jobs=-1)]: Done  20 out of  20 | elapsed:  3.1min finished\n",
            "/usr/local/lib/python3.7/dist-packages/sklearn/svm/_base.py:947: ConvergenceWarning: Liblinear failed to converge, increase the number of iterations.\n",
            "  \"the number of iterations.\", ConvergenceWarning)\n"
          ]
        }
      ]
    },
    {
      "cell_type": "code",
      "metadata": {
        "colab": {
          "base_uri": "https://localhost:8080/",
          "height": 229
        },
        "id": "sZsd2AnIkMnZ",
        "outputId": "0d8c6faf-8a54-4fe0-8f48-18b587db26a9"
      },
      "source": [
        "Grid_df= pd.DataFrame(linearSVC.cv_results_)\n",
        "Grid_df"
      ],
      "execution_count": null,
      "outputs": [
        {
          "output_type": "execute_result",
          "data": {
            "text/html": [
              "<div>\n",
              "<style scoped>\n",
              "    .dataframe tbody tr th:only-of-type {\n",
              "        vertical-align: middle;\n",
              "    }\n",
              "\n",
              "    .dataframe tbody tr th {\n",
              "        vertical-align: top;\n",
              "    }\n",
              "\n",
              "    .dataframe thead th {\n",
              "        text-align: right;\n",
              "    }\n",
              "</style>\n",
              "<table border=\"1\" class=\"dataframe\">\n",
              "  <thead>\n",
              "    <tr style=\"text-align: right;\">\n",
              "      <th></th>\n",
              "      <th>mean_fit_time</th>\n",
              "      <th>std_fit_time</th>\n",
              "      <th>mean_score_time</th>\n",
              "      <th>std_score_time</th>\n",
              "      <th>param_C</th>\n",
              "      <th>params</th>\n",
              "      <th>split0_test_score</th>\n",
              "      <th>split1_test_score</th>\n",
              "      <th>split2_test_score</th>\n",
              "      <th>split3_test_score</th>\n",
              "      <th>split4_test_score</th>\n",
              "      <th>mean_test_score</th>\n",
              "      <th>std_test_score</th>\n",
              "      <th>rank_test_score</th>\n",
              "    </tr>\n",
              "  </thead>\n",
              "  <tbody>\n",
              "    <tr>\n",
              "      <th>0</th>\n",
              "      <td>16.350289</td>\n",
              "      <td>1.846099</td>\n",
              "      <td>0.026833</td>\n",
              "      <td>0.003099</td>\n",
              "      <td>0.1</td>\n",
              "      <td>{'C': 0.1}</td>\n",
              "      <td>0.883341</td>\n",
              "      <td>0.892620</td>\n",
              "      <td>0.889085</td>\n",
              "      <td>0.884224</td>\n",
              "      <td>0.881079</td>\n",
              "      <td>0.886070</td>\n",
              "      <td>0.004190</td>\n",
              "      <td>1</td>\n",
              "    </tr>\n",
              "    <tr>\n",
              "      <th>1</th>\n",
              "      <td>18.348679</td>\n",
              "      <td>0.845165</td>\n",
              "      <td>0.025981</td>\n",
              "      <td>0.000438</td>\n",
              "      <td>1</td>\n",
              "      <td>{'C': 1}</td>\n",
              "      <td>0.877154</td>\n",
              "      <td>0.885992</td>\n",
              "      <td>0.873619</td>\n",
              "      <td>0.878038</td>\n",
              "      <td>0.879310</td>\n",
              "      <td>0.878823</td>\n",
              "      <td>0.004053</td>\n",
              "      <td>2</td>\n",
              "    </tr>\n",
              "    <tr>\n",
              "      <th>2</th>\n",
              "      <td>21.106279</td>\n",
              "      <td>1.222303</td>\n",
              "      <td>0.026816</td>\n",
              "      <td>0.001346</td>\n",
              "      <td>10</td>\n",
              "      <td>{'C': 10}</td>\n",
              "      <td>0.875387</td>\n",
              "      <td>0.875829</td>\n",
              "      <td>0.863456</td>\n",
              "      <td>0.871852</td>\n",
              "      <td>0.871795</td>\n",
              "      <td>0.871663</td>\n",
              "      <td>0.004441</td>\n",
              "      <td>3</td>\n",
              "    </tr>\n",
              "    <tr>\n",
              "      <th>3</th>\n",
              "      <td>18.491870</td>\n",
              "      <td>1.030562</td>\n",
              "      <td>0.023597</td>\n",
              "      <td>0.005116</td>\n",
              "      <td>100</td>\n",
              "      <td>{'C': 100}</td>\n",
              "      <td>0.873619</td>\n",
              "      <td>0.873619</td>\n",
              "      <td>0.861246</td>\n",
              "      <td>0.870084</td>\n",
              "      <td>0.870027</td>\n",
              "      <td>0.869719</td>\n",
              "      <td>0.004526</td>\n",
              "      <td>4</td>\n",
              "    </tr>\n",
              "  </tbody>\n",
              "</table>\n",
              "</div>"
            ],
            "text/plain": [
              "   mean_fit_time  std_fit_time  ...  std_test_score  rank_test_score\n",
              "0      16.350289      1.846099  ...        0.004190                1\n",
              "1      18.348679      0.845165  ...        0.004053                2\n",
              "2      21.106279      1.222303  ...        0.004441                3\n",
              "3      18.491870      1.030562  ...        0.004526                4\n",
              "\n",
              "[4 rows x 14 columns]"
            ]
          },
          "metadata": {},
          "execution_count": 194
        }
      ]
    },
    {
      "cell_type": "code",
      "metadata": {
        "colab": {
          "base_uri": "https://localhost:8080/"
        },
        "id": "_Sqwuh0ikPT_",
        "outputId": "e7881102-414a-467a-fa34-d3d320ae7065"
      },
      "source": [
        "print(grid_fit.best_params_)\n",
        "print(grid_fit.best_score_)"
      ],
      "execution_count": null,
      "outputs": [
        {
          "output_type": "stream",
          "name": "stdout",
          "text": [
            "{'C': 0.1}\n",
            "0.8860699141574392\n"
          ]
        }
      ]
    },
    {
      "cell_type": "code",
      "metadata": {
        "id": "tZ8KsvNbG2i7"
      },
      "source": [
        "predSVCGrid = grid_fit.predict(tf_test)"
      ],
      "execution_count": null,
      "outputs": []
    },
    {
      "cell_type": "code",
      "metadata": {
        "colab": {
          "base_uri": "https://localhost:8080/"
        },
        "id": "bPjs1DoTJAd-",
        "outputId": "9b9343e8-f8bb-40f4-bf0e-34e47ef96973"
      },
      "source": [
        "print(\"Accuracy score = %s\" %accuracy_score(y_Test, predSVCGrid))"
      ],
      "execution_count": null,
      "outputs": [
        {
          "output_type": "stream",
          "name": "stdout",
          "text": [
            "Accuracy score = 0.7997875730217737\n"
          ]
        }
      ]
    },
    {
      "cell_type": "code",
      "metadata": {
        "colab": {
          "base_uri": "https://localhost:8080/",
          "height": 265
        },
        "id": "o5sbL_njMx0g",
        "outputId": "237a5f77-56aa-434f-977d-b2626d4fa5f0"
      },
      "source": [
        "cm = confusion_matrix(y_Test, predSVCGrid)\n",
        "sns.heatmap(cm, annot=True,fmt='d',cbar=False);"
      ],
      "execution_count": null,
      "outputs": [
        {
          "output_type": "display_data",
          "data": {
            "image/png": "[encoded data removed]",
            "text/plain": [
              "<Figure size 432x288 with 1 Axes>"
            ]
          },
          "metadata": {}
        }
      ]
    },
    {
      "cell_type": "markdown",
      "metadata": {
        "id": "rGf8MFTdHuNe"
      },
      "source": [
        "Logistic Regression"
      ]
    },
    {
      "cell_type": "code",
      "metadata": {
        "id": "nZ8y9krGG4Ir",
        "colab": {
          "base_uri": "https://localhost:8080/"
        },
        "outputId": "555890d4-2651-4b67-884b-b16a67940550"
      },
      "source": [
        "from sklearn.model_selection import  GridSearchCV\n",
        "\n",
        "param_grid = {'C': [0.1,  1, 10, 100] }\n",
        "logRegGridsearch = GridSearchCV(LogisticRegression(random_state= 0, solver= 'lbfgs', multi_class = 'multinomial', verbose= 2, n_jobs= -1),\n",
        "                         param_grid,\n",
        "                         cv=5,\n",
        "                         scoring='accuracy', \n",
        "                         n_jobs= -1, \n",
        "                         verbose=3)\n",
        "log_grid_fit= logRegGridsearch.fit(tf_train,y_Train)"
      ],
      "execution_count": null,
      "outputs": [
        {
          "output_type": "stream",
          "name": "stdout",
          "text": [
            "Fitting 5 folds for each of 4 candidates, totalling 20 fits\n"
          ]
        },
        {
          "output_type": "stream",
          "name": "stderr",
          "text": [
            "[Parallel(n_jobs=-1)]: Using backend LokyBackend with 2 concurrent workers.\n",
            "/usr/local/lib/python3.7/dist-packages/joblib/externals/loky/process_executor.py:705: UserWarning: A worker stopped while some jobs were given to the executor. This can be caused by a too short worker timeout or by a memory leak.\n",
            "  \"timeout or by a memory leak.\", UserWarning\n",
            "[Parallel(n_jobs=-1)]: Done  20 out of  20 | elapsed: 11.8min finished\n",
            "[Parallel(n_jobs=-1)]: Using backend LokyBackend with 2 concurrent workers.\n",
            "[Parallel(n_jobs=-1)]: Done   1 out of   1 | elapsed:   40.1s finished\n"
          ]
        }
      ]
    },
    {
      "cell_type": "code",
      "metadata": {
        "colab": {
          "base_uri": "https://localhost:8080/",
          "height": 229
        },
        "id": "1IRVssBlki9R",
        "outputId": "5ce096af-273d-402b-ee6e-2398fe99429c"
      },
      "source": [
        "Grid_df= pd.DataFrame(logRegGridsearch.cv_results_)\n",
        "Grid_df"
      ],
      "execution_count": null,
      "outputs": [
        {
          "output_type": "execute_result",
          "data": {
            "text/html": [
              "<div>\n",
              "<style scoped>\n",
              "    .dataframe tbody tr th:only-of-type {\n",
              "        vertical-align: middle;\n",
              "    }\n",
              "\n",
              "    .dataframe tbody tr th {\n",
              "        vertical-align: top;\n",
              "    }\n",
              "\n",
              "    .dataframe thead th {\n",
              "        text-align: right;\n",
              "    }\n",
              "</style>\n",
              "<table border=\"1\" class=\"dataframe\">\n",
              "  <thead>\n",
              "    <tr style=\"text-align: right;\">\n",
              "      <th></th>\n",
              "      <th>mean_fit_time</th>\n",
              "      <th>std_fit_time</th>\n",
              "      <th>mean_score_time</th>\n",
              "      <th>std_score_time</th>\n",
              "      <th>param_C</th>\n",
              "      <th>params</th>\n",
              "      <th>split0_test_score</th>\n",
              "      <th>split1_test_score</th>\n",
              "      <th>split2_test_score</th>\n",
              "      <th>split3_test_score</th>\n",
              "      <th>split4_test_score</th>\n",
              "      <th>mean_test_score</th>\n",
              "      <th>std_test_score</th>\n",
              "      <th>rank_test_score</th>\n",
              "    </tr>\n",
              "  </thead>\n",
              "  <tbody>\n",
              "    <tr>\n",
              "      <th>0</th>\n",
              "      <td>68.044277</td>\n",
              "      <td>0.753158</td>\n",
              "      <td>0.037256</td>\n",
              "      <td>0.004663</td>\n",
              "      <td>0.1</td>\n",
              "      <td>{'C': 0.1}</td>\n",
              "      <td>0.871852</td>\n",
              "      <td>0.870526</td>\n",
              "      <td>0.864339</td>\n",
              "      <td>0.867875</td>\n",
              "      <td>0.860743</td>\n",
              "      <td>0.867067</td>\n",
              "      <td>0.004073</td>\n",
              "      <td>2</td>\n",
              "    </tr>\n",
              "    <tr>\n",
              "      <th>1</th>\n",
              "      <td>71.276840</td>\n",
              "      <td>2.072104</td>\n",
              "      <td>0.043997</td>\n",
              "      <td>0.006176</td>\n",
              "      <td>1</td>\n",
              "      <td>{'C': 1}</td>\n",
              "      <td>0.863456</td>\n",
              "      <td>0.870526</td>\n",
              "      <td>0.870084</td>\n",
              "      <td>0.867875</td>\n",
              "      <td>0.863395</td>\n",
              "      <td>0.867067</td>\n",
              "      <td>0.003106</td>\n",
              "      <td>1</td>\n",
              "    </tr>\n",
              "    <tr>\n",
              "      <th>2</th>\n",
              "      <td>72.664054</td>\n",
              "      <td>1.951853</td>\n",
              "      <td>0.042716</td>\n",
              "      <td>0.007535</td>\n",
              "      <td>10</td>\n",
              "      <td>{'C': 10}</td>\n",
              "      <td>0.866549</td>\n",
              "      <td>0.860362</td>\n",
              "      <td>0.865223</td>\n",
              "      <td>0.860362</td>\n",
              "      <td>0.863395</td>\n",
              "      <td>0.863178</td>\n",
              "      <td>0.002508</td>\n",
              "      <td>3</td>\n",
              "    </tr>\n",
              "    <tr>\n",
              "      <th>3</th>\n",
              "      <td>70.396311</td>\n",
              "      <td>3.482797</td>\n",
              "      <td>0.038060</td>\n",
              "      <td>0.012069</td>\n",
              "      <td>100</td>\n",
              "      <td>{'C': 100}</td>\n",
              "      <td>0.863456</td>\n",
              "      <td>0.856385</td>\n",
              "      <td>0.859920</td>\n",
              "      <td>0.864339</td>\n",
              "      <td>0.863837</td>\n",
              "      <td>0.861588</td>\n",
              "      <td>0.003032</td>\n",
              "      <td>4</td>\n",
              "    </tr>\n",
              "  </tbody>\n",
              "</table>\n",
              "</div>"
            ],
            "text/plain": [
              "   mean_fit_time  std_fit_time  ...  std_test_score  rank_test_score\n",
              "0      68.044277      0.753158  ...        0.004073                2\n",
              "1      71.276840      2.072104  ...        0.003106                1\n",
              "2      72.664054      1.951853  ...        0.002508                3\n",
              "3      70.396311      3.482797  ...        0.003032                4\n",
              "\n",
              "[4 rows x 14 columns]"
            ]
          },
          "metadata": {},
          "execution_count": 200
        }
      ]
    },
    {
      "cell_type": "code",
      "metadata": {
        "colab": {
          "base_uri": "https://localhost:8080/"
        },
        "id": "GTJAwF11mqFB",
        "outputId": "a959dfaa-340e-47c1-f552-d7555e0208c9"
      },
      "source": [
        "print(log_grid_fit.best_params_)\n",
        "print(log_grid_fit.best_score_)"
      ],
      "execution_count": null,
      "outputs": [
        {
          "output_type": "stream",
          "name": "stdout",
          "text": [
            "{'C': 1}\n",
            "0.8670670256496212\n"
          ]
        }
      ]
    },
    {
      "cell_type": "code",
      "metadata": {
        "id": "HtUS0xchH_BV"
      },
      "source": [
        "logPredictions = log_grid_fit.predict(tf_test)"
      ],
      "execution_count": null,
      "outputs": []
    },
    {
      "cell_type": "code",
      "metadata": {
        "id": "_5CXMLVdIBAZ",
        "colab": {
          "base_uri": "https://localhost:8080/"
        },
        "outputId": "0714c37b-07a5-4150-ec8f-4d4070fb6cfd"
      },
      "source": [
        "print(\"Accuracy score = %s\" %accuracy_score(y_Test, logPredictions))"
      ],
      "execution_count": null,
      "outputs": [
        {
          "output_type": "stream",
          "name": "stdout",
          "text": [
            "Accuracy score = 0.7874402549123739\n"
          ]
        }
      ]
    },
    {
      "cell_type": "code",
      "metadata": {
        "id": "qSzdOX3zNWtO",
        "colab": {
          "base_uri": "https://localhost:8080/",
          "height": 265
        },
        "outputId": "9de746fd-1abc-4359-fd91-a72e4e459319"
      },
      "source": [
        "cm = confusion_matrix(y_Test, logPredictions)\n",
        "sns.heatmap(cm, annot=True,fmt='d',cbar=False);"
      ],
      "execution_count": null,
      "outputs": [
        {
          "output_type": "display_data",
          "data": {
            "image/png": "[encoded data removed]",
            "text/plain": [
              "<Figure size 432x288 with 1 Axes>"
            ]
          },
          "metadata": {}
        }
      ]
    }
  ]
}