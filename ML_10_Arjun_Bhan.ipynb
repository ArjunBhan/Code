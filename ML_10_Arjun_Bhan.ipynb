{
  "nbformat": 4,
  "nbformat_minor": 0,
  "metadata": {
    "colab": {
      "name": "ML_10_Arjun_Bhan.ipynb",
      "provenance": []
    },
    "kernelspec": {
      "name": "python3",
      "display_name": "Python 3"
    },
    "language_info": {
      "name": "python"
    }
  },
  "cells": [
    {
      "cell_type": "markdown",
      "metadata": {
        "id": "tUKP_CxRXycP"
      },
      "source": [
        "Arjun Bhan"
      ]
    },
    {
      "cell_type": "code",
      "metadata": {
        "id": "qCpKe2YGId4S"
      },
      "source": [
        "import pandas as pd\n",
        "import matplotlib.pyplot as plt\n",
        "import seaborn as sns"
      ],
      "execution_count": 1,
      "outputs": []
    },
    {
      "cell_type": "markdown",
      "metadata": {
        "id": "afmS0yXA8esZ"
      },
      "source": [
        "#1"
      ]
    },
    {
      "cell_type": "code",
      "metadata": {
        "id": "LV12KnXwF6o0"
      },
      "source": [
        "df = pd.read_csv(\"https://foxweb.marist.edu/users/jf4n/DATA_FILES/drug_consumption.csv\")"
      ],
      "execution_count": 2,
      "outputs": []
    },
    {
      "cell_type": "markdown",
      "metadata": {
        "id": "APUnJgWi8hMJ"
      },
      "source": [
        "#2 "
      ]
    },
    {
      "cell_type": "code",
      "metadata": {
        "id": "kaVVIvhOG-vI"
      },
      "source": [
        "predictors=df.iloc[:,0:12]\n",
        "target=df['Hallucinogens']"
      ],
      "execution_count": 3,
      "outputs": []
    },
    {
      "cell_type": "markdown",
      "metadata": {
        "id": "OZrds1AL9yVc"
      },
      "source": [
        "#3\n"
      ]
    },
    {
      "cell_type": "code",
      "metadata": {
        "colab": {
          "base_uri": "https://localhost:8080/",
          "height": 280
        },
        "id": "KFaK6Qo7G_Wy",
        "outputId": "918be0f4-ade1-4771-89d6-6bc570b338a1"
      },
      "source": [
        "ax = sns.countplot(x=target, data=df)"
      ],
      "execution_count": 4,
      "outputs": [
        {
          "output_type": "display_data",
          "data": {
            "image/png": "[encoded data removed]",
            "text/plain": [
              "<Figure size 432x288 with 1 Axes>"
            ]
          },
          "metadata": {
            "needs_background": "light"
          }
        }
      ]
    },
    {
      "cell_type": "markdown",
      "metadata": {
        "id": "_dOll42t-3NU"
      },
      "source": [
        "#4 and 5"
      ]
    },
    {
      "cell_type": "code",
      "metadata": {
        "id": "Fo3ttrQnhTbq"
      },
      "source": [
        "from sklearn.model_selection import train_test_split\n",
        "X_train, X_test, y_train, y_test = train_test_split(predictors, target, test_size=0.33, random_state=42)"
      ],
      "execution_count": 5,
      "outputs": []
    },
    {
      "cell_type": "markdown",
      "metadata": {
        "id": "TkypzvcnClWT"
      },
      "source": [
        "XGBoost "
      ]
    },
    {
      "cell_type": "code",
      "metadata": {
        "id": "bxDHLgHU73qW"
      },
      "source": [
        "import time\n",
        "from sklearn.model_selection import RandomizedSearchCV, GridSearchCV\n",
        "from xgboost import XGBClassifier"
      ],
      "execution_count": 6,
      "outputs": []
    },
    {
      "cell_type": "code",
      "metadata": {
        "id": "wGqX88dYJuRd"
      },
      "source": [
        "xgb = XGBClassifier(learning_rate=0.02, \n",
        "                    objective='binary:logistic',\n",
        "                    silent=True, \n",
        "                    nthread=1)"
      ],
      "execution_count": 7,
      "outputs": []
    },
    {
      "cell_type": "code",
      "metadata": {
        "id": "PhcwD1S6-6VF"
      },
      "source": [
        "params = {\n",
        "        'min_child_weight': [1, 5, 10],\n",
        "        'gamma': [0.5, 1, 1.5, 2, 5],\n",
        "        'subsample': [0.6, 0.8, 1.0],\n",
        "        'colsample_bytree': [0.6, 0.8, 1.0],\n",
        "        'max_depth': [3, 4, 5]\n",
        "        }"
      ],
      "execution_count": 8,
      "outputs": []
    },
    {
      "cell_type": "code",
      "metadata": {
        "id": "uFzDXBPl_BZA"
      },
      "source": [
        "def searchCV (search_type ='random', folds=10, param_comb = 20):\n",
        "   \n",
        "  if search_type =='random':\n",
        "    search_ = RandomizedSearchCV(xgb, \n",
        "                                       param_distributions=params, \n",
        "                                       n_iter=param_comb, \n",
        "                                       scoring='roc_auc', \n",
        "                                       n_jobs=-1, \n",
        "                                       cv=folds,\n",
        "                                       verbose=3, \n",
        "                                       random_state=42)\n",
        "  elif search_type =='grid':\n",
        "    search_ = GridSearchCV(estimator=xgb,\n",
        "                                param_grid=params,\n",
        "                                scoring='roc_auc',\n",
        "                                n_jobs=-1,\n",
        "                                cv=folds,\n",
        "                                verbose=3) \n",
        "  return search_"
      ],
      "execution_count": 9,
      "outputs": []
    },
    {
      "cell_type": "code",
      "metadata": {
        "colab": {
          "base_uri": "https://localhost:8080/"
        },
        "id": "zOjCf1xv_EiY",
        "outputId": "cde04bda-b7e0-44e5-ec16-8c5b8d0b31c5"
      },
      "source": [
        "start_time = time.time()\n",
        "folds = 10\n",
        "param_comb = 20\n",
        "srchCV = searchCV (search_type ='random', folds=10, param_comb = 20)\n",
        "srchCV.fit(X_train, y_train)\n",
        "print(f\"Execution time:{(time.time() - start_time):.2f} seg ---\")"
      ],
      "execution_count": 10,
      "outputs": [
        {
          "output_type": "stream",
          "name": "stdout",
          "text": [
            "Fitting 10 folds for each of 20 candidates, totalling 200 fits\n",
            "Execution time:19.36 seg ---\n"
          ]
        }
      ]
    },
    {
      "cell_type": "code",
      "metadata": {
        "colab": {
          "base_uri": "https://localhost:8080/"
        },
        "id": "w6U_jJK5_HpQ",
        "outputId": "a598a7d8-6840-4032-9b75-aa0bee4e2b1f"
      },
      "source": [
        "print('\\n Best estimator:')\n",
        "print(srchCV.best_estimator_)\n",
        "print(f'\\n Best AUC for {folds:d}-fold search:')\n",
        "print(srchCV.best_score_ )\n",
        "print('\\n Best hyperparameters:')\n",
        "print(srchCV.best_params_)\n",
        "results = pd.DataFrame(srchCV.cv_results_)\n",
        "results.to_csv('xgb-random-grid-search-results-01.csv', index=False)"
      ],
      "execution_count": 11,
      "outputs": [
        {
          "output_type": "stream",
          "name": "stdout",
          "text": [
            "\n",
            " Best estimator:\n",
            "XGBClassifier(colsample_bytree=0.6, gamma=0.5, learning_rate=0.02, max_depth=4,\n",
            "              nthread=1, silent=True, subsample=0.6)\n",
            "\n",
            " Best AUC for 10-fold search:\n",
            "0.8748636745767893\n",
            "\n",
            " Best hyperparameters:\n",
            "{'subsample': 0.6, 'min_child_weight': 1, 'max_depth': 4, 'gamma': 0.5, 'colsample_bytree': 0.6}\n"
          ]
        }
      ]
    },
    {
      "cell_type": "code",
      "metadata": {
        "colab": {
          "base_uri": "https://localhost:8080/",
          "height": 444
        },
        "id": "1EKB-xXW_Kiu",
        "outputId": "15006b89-4aba-4636-e3ba-5c5a2c655b2d"
      },
      "source": [
        "results.head()"
      ],
      "execution_count": 12,
      "outputs": [
        {
          "output_type": "execute_result",
          "data": {
            "text/html": [
              "\n",
              "  <div id=\"df-a13e9217-d55a-480f-881b-1f6ae180b712\">\n",
              "    <div class=\"colab-df-container\">\n",
              "      <div>\n",
              "<style scoped>\n",
              "    .dataframe tbody tr th:only-of-type {\n",
              "        vertical-align: middle;\n",
              "    }\n",
              "\n",
              "    .dataframe tbody tr th {\n",
              "        vertical-align: top;\n",
              "    }\n",
              "\n",
              "    .dataframe thead th {\n",
              "        text-align: right;\n",
              "    }\n",
              "</style>\n",
              "<table border=\"1\" class=\"dataframe\">\n",
              "  <thead>\n",
              "    <tr style=\"text-align: right;\">\n",
              "      <th></th>\n",
              "      <th>mean_fit_time</th>\n",
              "      <th>std_fit_time</th>\n",
              "      <th>mean_score_time</th>\n",
              "      <th>std_score_time</th>\n",
              "      <th>param_subsample</th>\n",
              "      <th>param_min_child_weight</th>\n",
              "      <th>param_max_depth</th>\n",
              "      <th>param_gamma</th>\n",
              "      <th>param_colsample_bytree</th>\n",
              "      <th>params</th>\n",
              "      <th>split0_test_score</th>\n",
              "      <th>split1_test_score</th>\n",
              "      <th>split2_test_score</th>\n",
              "      <th>split3_test_score</th>\n",
              "      <th>split4_test_score</th>\n",
              "      <th>split5_test_score</th>\n",
              "      <th>split6_test_score</th>\n",
              "      <th>split7_test_score</th>\n",
              "      <th>split8_test_score</th>\n",
              "      <th>split9_test_score</th>\n",
              "      <th>mean_test_score</th>\n",
              "      <th>std_test_score</th>\n",
              "      <th>rank_test_score</th>\n",
              "    </tr>\n",
              "  </thead>\n",
              "  <tbody>\n",
              "    <tr>\n",
              "      <th>0</th>\n",
              "      <td>0.229126</td>\n",
              "      <td>0.094138</td>\n",
              "      <td>0.009046</td>\n",
              "      <td>0.003890</td>\n",
              "      <td>0.8</td>\n",
              "      <td>10</td>\n",
              "      <td>4</td>\n",
              "      <td>1.5</td>\n",
              "      <td>0.6</td>\n",
              "      <td>{'subsample': 0.8, 'min_child_weight': 10, 'ma...</td>\n",
              "      <td>0.884501</td>\n",
              "      <td>0.937904</td>\n",
              "      <td>0.889899</td>\n",
              "      <td>0.896212</td>\n",
              "      <td>0.904293</td>\n",
              "      <td>0.843632</td>\n",
              "      <td>0.894325</td>\n",
              "      <td>0.817907</td>\n",
              "      <td>0.873140</td>\n",
              "      <td>0.784363</td>\n",
              "      <td>0.872618</td>\n",
              "      <td>0.042844</td>\n",
              "      <td>10</td>\n",
              "    </tr>\n",
              "    <tr>\n",
              "      <th>1</th>\n",
              "      <td>0.179071</td>\n",
              "      <td>0.046946</td>\n",
              "      <td>0.007605</td>\n",
              "      <td>0.004367</td>\n",
              "      <td>1</td>\n",
              "      <td>1</td>\n",
              "      <td>3</td>\n",
              "      <td>2</td>\n",
              "      <td>0.8</td>\n",
              "      <td>{'subsample': 1.0, 'min_child_weight': 1, 'max...</td>\n",
              "      <td>0.869598</td>\n",
              "      <td>0.941381</td>\n",
              "      <td>0.869697</td>\n",
              "      <td>0.882323</td>\n",
              "      <td>0.904672</td>\n",
              "      <td>0.844641</td>\n",
              "      <td>0.905170</td>\n",
              "      <td>0.819168</td>\n",
              "      <td>0.874023</td>\n",
              "      <td>0.793443</td>\n",
              "      <td>0.870411</td>\n",
              "      <td>0.040974</td>\n",
              "      <td>15</td>\n",
              "    </tr>\n",
              "    <tr>\n",
              "      <th>2</th>\n",
              "      <td>0.171456</td>\n",
              "      <td>0.037436</td>\n",
              "      <td>0.006645</td>\n",
              "      <td>0.002719</td>\n",
              "      <td>0.8</td>\n",
              "      <td>10</td>\n",
              "      <td>3</td>\n",
              "      <td>5</td>\n",
              "      <td>1</td>\n",
              "      <td>{'subsample': 0.8, 'min_child_weight': 10, 'ma...</td>\n",
              "      <td>0.871833</td>\n",
              "      <td>0.939642</td>\n",
              "      <td>0.877020</td>\n",
              "      <td>0.888636</td>\n",
              "      <td>0.893813</td>\n",
              "      <td>0.844136</td>\n",
              "      <td>0.897100</td>\n",
              "      <td>0.817150</td>\n",
              "      <td>0.876545</td>\n",
              "      <td>0.783480</td>\n",
              "      <td>0.868936</td>\n",
              "      <td>0.041870</td>\n",
              "      <td>20</td>\n",
              "    </tr>\n",
              "    <tr>\n",
              "      <th>3</th>\n",
              "      <td>0.120415</td>\n",
              "      <td>0.007937</td>\n",
              "      <td>0.005178</td>\n",
              "      <td>0.000218</td>\n",
              "      <td>0.6</td>\n",
              "      <td>10</td>\n",
              "      <td>3</td>\n",
              "      <td>1</td>\n",
              "      <td>0.6</td>\n",
              "      <td>{'subsample': 0.6, 'min_child_weight': 10, 'ma...</td>\n",
              "      <td>0.888475</td>\n",
              "      <td>0.940387</td>\n",
              "      <td>0.887374</td>\n",
              "      <td>0.894192</td>\n",
              "      <td>0.905808</td>\n",
              "      <td>0.846406</td>\n",
              "      <td>0.896847</td>\n",
              "      <td>0.825725</td>\n",
              "      <td>0.871375</td>\n",
              "      <td>0.786381</td>\n",
              "      <td>0.874297</td>\n",
              "      <td>0.041848</td>\n",
              "      <td>5</td>\n",
              "    </tr>\n",
              "    <tr>\n",
              "      <th>4</th>\n",
              "      <td>0.140768</td>\n",
              "      <td>0.006783</td>\n",
              "      <td>0.004812</td>\n",
              "      <td>0.000380</td>\n",
              "      <td>0.6</td>\n",
              "      <td>10</td>\n",
              "      <td>4</td>\n",
              "      <td>1</td>\n",
              "      <td>0.6</td>\n",
              "      <td>{'subsample': 0.6, 'min_child_weight': 10, 'ma...</td>\n",
              "      <td>0.886239</td>\n",
              "      <td>0.940636</td>\n",
              "      <td>0.892677</td>\n",
              "      <td>0.895960</td>\n",
              "      <td>0.906566</td>\n",
              "      <td>0.846406</td>\n",
              "      <td>0.897100</td>\n",
              "      <td>0.825473</td>\n",
              "      <td>0.871627</td>\n",
              "      <td>0.784363</td>\n",
              "      <td>0.874705</td>\n",
              "      <td>0.042623</td>\n",
              "      <td>2</td>\n",
              "    </tr>\n",
              "  </tbody>\n",
              "</table>\n",
              "</div>\n",
              "      <button class=\"colab-df-convert\" onclick=\"convertToInteractive('df-a13e9217-d55a-480f-881b-1f6ae180b712')\"\n",
              "              title=\"Convert this dataframe to an interactive table.\"\n",
              "              style=\"display:none;\">\n",
              "        \n",
              "  <svg xmlns=\"http://www.w3.org/2000/svg\" height=\"24px\"viewBox=\"0 0 24 24\"\n",
              "       width=\"24px\">\n",
              "    <path d=\"M0 0h24v24H0V0z\" fill=\"none\"/>\n",
              "    <path d=\"M18.56 5.44l.94 2.06.94-2.06 2.06-.94-2.06-.94-.94-2.06-.94 2.06-2.06.94zm-11 1L8.5 8.5l.94-2.06 2.06-.94-2.06-.94L8.5 2.5l-.94 2.06-2.06.94zm10 10l.94 2.06.94-2.06 2.06-.94-2.06-.94-.94-2.06-.94 2.06-2.06.94z\"/><path d=\"M17.41 7.96l-1.37-1.37c-.4-.4-.92-.59-1.43-.59-.52 0-1.04.2-1.43.59L10.3 9.45l-7.72 7.72c-.78.78-.78 2.05 0 2.83L4 21.41c.39.39.9.59 1.41.59.51 0 1.02-.2 1.41-.59l7.78-7.78 2.81-2.81c.8-.78.8-2.07 0-2.86zM5.41 20L4 18.59l7.72-7.72 1.47 1.35L5.41 20z\"/>\n",
              "  </svg>\n",
              "      </button>\n",
              "      \n",
              "  <style>\n",
              "    .colab-df-container {\n",
              "      display:flex;\n",
              "      flex-wrap:wrap;\n",
              "      gap: 12px;\n",
              "    }\n",
              "\n",
              "    .colab-df-convert {\n",
              "      background-color: #E8F0FE;\n",
              "      border: none;\n",
              "      border-radius: 50%;\n",
              "      cursor: pointer;\n",
              "      display: none;\n",
              "      fill: #1967D2;\n",
              "      height: 32px;\n",
              "      padding: 0 0 0 0;\n",
              "      width: 32px;\n",
              "    }\n",
              "\n",
              "    .colab-df-convert:hover {\n",
              "      background-color: #E2EBFA;\n",
              "      box-shadow: 0px 1px 2px rgba(60, 64, 67, 0.3), 0px 1px 3px 1px rgba(60, 64, 67, 0.15);\n",
              "      fill: #174EA6;\n",
              "    }\n",
              "\n",
              "    [theme=dark] .colab-df-convert {\n",
              "      background-color: #3B4455;\n",
              "      fill: #D2E3FC;\n",
              "    }\n",
              "\n",
              "    [theme=dark] .colab-df-convert:hover {\n",
              "      background-color: #434B5C;\n",
              "      box-shadow: 0px 1px 3px 1px rgba(0, 0, 0, 0.15);\n",
              "      filter: drop-shadow(0px 1px 2px rgba(0, 0, 0, 0.3));\n",
              "      fill: #FFFFFF;\n",
              "    }\n",
              "  </style>\n",
              "\n",
              "      <script>\n",
              "        const buttonEl =\n",
              "          document.querySelector('#df-a13e9217-d55a-480f-881b-1f6ae180b712 button.colab-df-convert');\n",
              "        buttonEl.style.display =\n",
              "          google.colab.kernel.accessAllowed ? 'block' : 'none';\n",
              "\n",
              "        async function convertToInteractive(key) {\n",
              "          const element = document.querySelector('#df-a13e9217-d55a-480f-881b-1f6ae180b712');\n",
              "          const dataTable =\n",
              "            await google.colab.kernel.invokeFunction('convertToInteractive',\n",
              "                                                     [key], {});\n",
              "          if (!dataTable) return;\n",
              "\n",
              "          const docLinkHtml = 'Like what you see? Visit the ' +\n",
              "            '<a target=\"_blank\" href=https://colab.research.google.com/notebooks/data_table.ipynb>data table notebook</a>'\n",
              "            + ' to learn more about interactive tables.';\n",
              "          element.innerHTML = '';\n",
              "          dataTable['output_type'] = 'display_data';\n",
              "          await google.colab.output.renderOutput(dataTable, element);\n",
              "          const docLink = document.createElement('div');\n",
              "          docLink.innerHTML = docLinkHtml;\n",
              "          element.appendChild(docLink);\n",
              "        }\n",
              "      </script>\n",
              "    </div>\n",
              "  </div>\n",
              "  "
            ],
            "text/plain": [
              "   mean_fit_time  std_fit_time  ...  std_test_score  rank_test_score\n",
              "0       0.229126      0.094138  ...        0.042844               10\n",
              "1       0.179071      0.046946  ...        0.040974               15\n",
              "2       0.171456      0.037436  ...        0.041870               20\n",
              "3       0.120415      0.007937  ...        0.041848                5\n",
              "4       0.140768      0.006783  ...        0.042623                2\n",
              "\n",
              "[5 rows x 23 columns]"
            ]
          },
          "metadata": {},
          "execution_count": 12
        }
      ]
    },
    {
      "cell_type": "code",
      "metadata": {
        "id": "j9RNauiRCtOv"
      },
      "source": [
        "predictions = srchCV.predict(X_test)\n",
        "\n",
        "probs = srchCV.predict_proba(X_test)[:,1]"
      ],
      "execution_count": 13,
      "outputs": []
    },
    {
      "cell_type": "code",
      "metadata": {
        "id": "3S5Q5BUhCvnQ"
      },
      "source": [
        "from sklearn.metrics import accuracy_score, precision_score, recall_score, roc_auc_score \n",
        "from sklearn.metrics import confusion_matrix,roc_curve, auc"
      ],
      "execution_count": 14,
      "outputs": []
    },
    {
      "cell_type": "code",
      "metadata": {
        "colab": {
          "base_uri": "https://localhost:8080/"
        },
        "id": "rhti-41uC07j",
        "outputId": "d0d55d8d-e1ac-443b-c4f4-8b741b629f70"
      },
      "source": [
        "accuracy = accuracy_score(y_test, predictions)\n",
        "precision=precision_score(y_test, predictions, )\n",
        "recall=recall_score(y_test, predictions)\n",
        "specificity=recall_score(y_test, predictions, pos_label=0)\n",
        "roc = roc_auc_score(y_test, probs)\n",
        "\n",
        "print(\"\\n\")\n",
        "print(f\"Accuracy.........: {accuracy * 100.0:.4f}\")\n",
        "print(f\"Precision........: {precision *100:.4f}\")\n",
        "print(f\"Recall...........: {recall * 100:.4f}\")\n",
        "print(f\"FP Rate...........:{(1-specificity) * 100:.4f}\")\n",
        "print(f\"ROC AUC (probs)..: {roc:.6f}\")\n",
        "\n",
        "cm = confusion_matrix(y_test, predictions)\n",
        "print(f\"Confusion matrix.:\\n {cm}\")"
      ],
      "execution_count": 15,
      "outputs": [
        {
          "output_type": "stream",
          "name": "stdout",
          "text": [
            "\n",
            "\n",
            "Accuracy.........: 78.6517\n",
            "Precision........: 78.4810\n",
            "Recall...........: 79.2332\n",
            "FP Rate...........:21.9355\n",
            "ROC AUC (probs)..: 0.859528\n",
            "Confusion matrix.:\n",
            " [[242  68]\n",
            " [ 65 248]]\n"
          ]
        }
      ]
    },
    {
      "cell_type": "code",
      "metadata": {
        "id": "O5QMUoJzC3c2"
      },
      "source": [
        "fpr, tpr, threshold = roc_curve(y_test, probs)\n",
        "roc_auc = auc(fpr, tpr)"
      ],
      "execution_count": 16,
      "outputs": []
    },
    {
      "cell_type": "code",
      "metadata": {
        "colab": {
          "base_uri": "https://localhost:8080/",
          "height": 423
        },
        "id": "dS2XdJHBC5Tw",
        "outputId": "00dbe6e6-49da-4fbb-9c22-869b54bac467"
      },
      "source": [
        "roc_df = pd.DataFrame({'tpr': tpr, 'fpr': fpr, 'threshold': threshold})\n",
        "roc_df"
      ],
      "execution_count": 17,
      "outputs": [
        {
          "output_type": "execute_result",
          "data": {
            "text/html": [
              "\n",
              "  <div id=\"df-eefd4d5c-74dd-4d91-ba0a-44a0ea5e92e7\">\n",
              "    <div class=\"colab-df-container\">\n",
              "      <div>\n",
              "<style scoped>\n",
              "    .dataframe tbody tr th:only-of-type {\n",
              "        vertical-align: middle;\n",
              "    }\n",
              "\n",
              "    .dataframe tbody tr th {\n",
              "        vertical-align: top;\n",
              "    }\n",
              "\n",
              "    .dataframe thead th {\n",
              "        text-align: right;\n",
              "    }\n",
              "</style>\n",
              "<table border=\"1\" class=\"dataframe\">\n",
              "  <thead>\n",
              "    <tr style=\"text-align: right;\">\n",
              "      <th></th>\n",
              "      <th>tpr</th>\n",
              "      <th>fpr</th>\n",
              "      <th>threshold</th>\n",
              "    </tr>\n",
              "  </thead>\n",
              "  <tbody>\n",
              "    <tr>\n",
              "      <th>0</th>\n",
              "      <td>0.000000</td>\n",
              "      <td>0.000000</td>\n",
              "      <td>1.884657</td>\n",
              "    </tr>\n",
              "    <tr>\n",
              "      <th>1</th>\n",
              "      <td>0.000000</td>\n",
              "      <td>0.003226</td>\n",
              "      <td>0.884657</td>\n",
              "    </tr>\n",
              "    <tr>\n",
              "      <th>2</th>\n",
              "      <td>0.031949</td>\n",
              "      <td>0.003226</td>\n",
              "      <td>0.877541</td>\n",
              "    </tr>\n",
              "    <tr>\n",
              "      <th>3</th>\n",
              "      <td>0.031949</td>\n",
              "      <td>0.006452</td>\n",
              "      <td>0.877411</td>\n",
              "    </tr>\n",
              "    <tr>\n",
              "      <th>4</th>\n",
              "      <td>0.051118</td>\n",
              "      <td>0.006452</td>\n",
              "      <td>0.872794</td>\n",
              "    </tr>\n",
              "    <tr>\n",
              "      <th>...</th>\n",
              "      <td>...</td>\n",
              "      <td>...</td>\n",
              "      <td>...</td>\n",
              "    </tr>\n",
              "    <tr>\n",
              "      <th>203</th>\n",
              "      <td>0.993610</td>\n",
              "      <td>0.922581</td>\n",
              "      <td>0.137479</td>\n",
              "    </tr>\n",
              "    <tr>\n",
              "      <th>204</th>\n",
              "      <td>0.996805</td>\n",
              "      <td>0.922581</td>\n",
              "      <td>0.136334</td>\n",
              "    </tr>\n",
              "    <tr>\n",
              "      <th>205</th>\n",
              "      <td>0.996805</td>\n",
              "      <td>0.925806</td>\n",
              "      <td>0.135984</td>\n",
              "    </tr>\n",
              "    <tr>\n",
              "      <th>206</th>\n",
              "      <td>1.000000</td>\n",
              "      <td>0.925806</td>\n",
              "      <td>0.135597</td>\n",
              "    </tr>\n",
              "    <tr>\n",
              "      <th>207</th>\n",
              "      <td>1.000000</td>\n",
              "      <td>1.000000</td>\n",
              "      <td>0.108805</td>\n",
              "    </tr>\n",
              "  </tbody>\n",
              "</table>\n",
              "<p>208 rows × 3 columns</p>\n",
              "</div>\n",
              "      <button class=\"colab-df-convert\" onclick=\"convertToInteractive('df-eefd4d5c-74dd-4d91-ba0a-44a0ea5e92e7')\"\n",
              "              title=\"Convert this dataframe to an interactive table.\"\n",
              "              style=\"display:none;\">\n",
              "        \n",
              "  <svg xmlns=\"http://www.w3.org/2000/svg\" height=\"24px\"viewBox=\"0 0 24 24\"\n",
              "       width=\"24px\">\n",
              "    <path d=\"M0 0h24v24H0V0z\" fill=\"none\"/>\n",
              "    <path d=\"M18.56 5.44l.94 2.06.94-2.06 2.06-.94-2.06-.94-.94-2.06-.94 2.06-2.06.94zm-11 1L8.5 8.5l.94-2.06 2.06-.94-2.06-.94L8.5 2.5l-.94 2.06-2.06.94zm10 10l.94 2.06.94-2.06 2.06-.94-2.06-.94-.94-2.06-.94 2.06-2.06.94z\"/><path d=\"M17.41 7.96l-1.37-1.37c-.4-.4-.92-.59-1.43-.59-.52 0-1.04.2-1.43.59L10.3 9.45l-7.72 7.72c-.78.78-.78 2.05 0 2.83L4 21.41c.39.39.9.59 1.41.59.51 0 1.02-.2 1.41-.59l7.78-7.78 2.81-2.81c.8-.78.8-2.07 0-2.86zM5.41 20L4 18.59l7.72-7.72 1.47 1.35L5.41 20z\"/>\n",
              "  </svg>\n",
              "      </button>\n",
              "      \n",
              "  <style>\n",
              "    .colab-df-container {\n",
              "      display:flex;\n",
              "      flex-wrap:wrap;\n",
              "      gap: 12px;\n",
              "    }\n",
              "\n",
              "    .colab-df-convert {\n",
              "      background-color: #E8F0FE;\n",
              "      border: none;\n",
              "      border-radius: 50%;\n",
              "      cursor: pointer;\n",
              "      display: none;\n",
              "      fill: #1967D2;\n",
              "      height: 32px;\n",
              "      padding: 0 0 0 0;\n",
              "      width: 32px;\n",
              "    }\n",
              "\n",
              "    .colab-df-convert:hover {\n",
              "      background-color: #E2EBFA;\n",
              "      box-shadow: 0px 1px 2px rgba(60, 64, 67, 0.3), 0px 1px 3px 1px rgba(60, 64, 67, 0.15);\n",
              "      fill: #174EA6;\n",
              "    }\n",
              "\n",
              "    [theme=dark] .colab-df-convert {\n",
              "      background-color: #3B4455;\n",
              "      fill: #D2E3FC;\n",
              "    }\n",
              "\n",
              "    [theme=dark] .colab-df-convert:hover {\n",
              "      background-color: #434B5C;\n",
              "      box-shadow: 0px 1px 3px 1px rgba(0, 0, 0, 0.15);\n",
              "      filter: drop-shadow(0px 1px 2px rgba(0, 0, 0, 0.3));\n",
              "      fill: #FFFFFF;\n",
              "    }\n",
              "  </style>\n",
              "\n",
              "      <script>\n",
              "        const buttonEl =\n",
              "          document.querySelector('#df-eefd4d5c-74dd-4d91-ba0a-44a0ea5e92e7 button.colab-df-convert');\n",
              "        buttonEl.style.display =\n",
              "          google.colab.kernel.accessAllowed ? 'block' : 'none';\n",
              "\n",
              "        async function convertToInteractive(key) {\n",
              "          const element = document.querySelector('#df-eefd4d5c-74dd-4d91-ba0a-44a0ea5e92e7');\n",
              "          const dataTable =\n",
              "            await google.colab.kernel.invokeFunction('convertToInteractive',\n",
              "                                                     [key], {});\n",
              "          if (!dataTable) return;\n",
              "\n",
              "          const docLinkHtml = 'Like what you see? Visit the ' +\n",
              "            '<a target=\"_blank\" href=https://colab.research.google.com/notebooks/data_table.ipynb>data table notebook</a>'\n",
              "            + ' to learn more about interactive tables.';\n",
              "          element.innerHTML = '';\n",
              "          dataTable['output_type'] = 'display_data';\n",
              "          await google.colab.output.renderOutput(dataTable, element);\n",
              "          const docLink = document.createElement('div');\n",
              "          docLink.innerHTML = docLinkHtml;\n",
              "          element.appendChild(docLink);\n",
              "        }\n",
              "      </script>\n",
              "    </div>\n",
              "  </div>\n",
              "  "
            ],
            "text/plain": [
              "          tpr       fpr  threshold\n",
              "0    0.000000  0.000000   1.884657\n",
              "1    0.000000  0.003226   0.884657\n",
              "2    0.031949  0.003226   0.877541\n",
              "3    0.031949  0.006452   0.877411\n",
              "4    0.051118  0.006452   0.872794\n",
              "..        ...       ...        ...\n",
              "203  0.993610  0.922581   0.137479\n",
              "204  0.996805  0.922581   0.136334\n",
              "205  0.996805  0.925806   0.135984\n",
              "206  1.000000  0.925806   0.135597\n",
              "207  1.000000  1.000000   0.108805\n",
              "\n",
              "[208 rows x 3 columns]"
            ]
          },
          "metadata": {},
          "execution_count": 17
        }
      ]
    },
    {
      "cell_type": "code",
      "metadata": {
        "colab": {
          "base_uri": "https://localhost:8080/",
          "height": 295
        },
        "id": "y4_22EJNbOef",
        "outputId": "9fdda989-1e38-49d0-b66d-550a036be0f6"
      },
      "source": [
        "plt.title('Receiver Operating Characteristic')\n",
        "plt.plot(fpr, tpr, 'b', label = 'AUC = %0.2f' % roc_auc)\n",
        "plt.legend(loc = 'lower right')\n",
        "plt.plot([0, 1], [0, 1],'r--')\n",
        "plt.xlim([0, 1])\n",
        "plt.ylim([0, 1])\n",
        "plt.ylabel('True Positive Rate')\n",
        "plt.xlabel('False Positive Rate')\n",
        "plt.savefig('ROCcuve.png')\n",
        "plt.show()"
      ],
      "execution_count": 18,
      "outputs": [
        {
          "output_type": "display_data",
          "data": {
            "image/png": "[encoded data removed]",
            "text/plain": [
              "<Figure size 432x288 with 1 Axes>"
            ]
          },
          "metadata": {
            "needs_background": "light"
          }
        }
      ]
    },
    {
      "cell_type": "markdown",
      "metadata": {
        "id": "7FnsDsMsC95I"
      },
      "source": [
        "Random Forest"
      ]
    },
    {
      "cell_type": "code",
      "metadata": {
        "id": "FaqWipdcC7CR"
      },
      "source": [
        "import time\n",
        "from sklearn.model_selection import RandomizedSearchCV, GridSearchCV\n",
        "from sklearn.ensemble import RandomForestClassifier"
      ],
      "execution_count": 19,
      "outputs": []
    },
    {
      "cell_type": "code",
      "metadata": {
        "id": "4UCuOTNgKSvL"
      },
      "source": [
        "RFC = RandomForestClassifier()"
      ],
      "execution_count": 20,
      "outputs": []
    },
    {
      "cell_type": "code",
      "metadata": {
        "id": "UcDMgBXpKuYt"
      },
      "source": [
        "params = {\n",
        "    'max_features': ['auto', 'sqrt', 'log2'],\n",
        "    'max_depth' : [1,2,3,4,5,6, None],\n",
        "    'criterion' : ['gini', 'entropy'],\n",
        "    'n_estimators' : [50,100,200],\n",
        "        }"
      ],
      "execution_count": 21,
      "outputs": []
    },
    {
      "cell_type": "code",
      "metadata": {
        "id": "rsk-_6deMH69"
      },
      "source": [
        "def searchCV (search_type ='random', folds=10, param_comb = 20):\n",
        "   \n",
        "  if search_type =='random':\n",
        "    search_ = RandomizedSearchCV(RFC, \n",
        "                                       param_distributions=params, \n",
        "                                       n_iter=param_comb, \n",
        "                                       scoring='roc_auc', \n",
        "                                       n_jobs=-1, \n",
        "                                       cv=folds,\n",
        "                                       verbose=3, \n",
        "                                       random_state=42)\n",
        "  elif search_type =='grid':\n",
        "    search_ = GridSearchCV(estimator=RFC,\n",
        "                                param_grid=params,\n",
        "                                scoring='roc_auc',\n",
        "                                n_jobs=-1,\n",
        "                                cv=folds,\n",
        "                                verbose=3) \n",
        "  return search_"
      ],
      "execution_count": 22,
      "outputs": []
    },
    {
      "cell_type": "code",
      "metadata": {
        "colab": {
          "base_uri": "https://localhost:8080/"
        },
        "id": "7Vy-vHJAMQuA",
        "outputId": "f5e45a51-035e-4aa0-98a0-45fffa705ba5"
      },
      "source": [
        "start_time = time.time()\n",
        "folds = 10\n",
        "param_comb = 20\n",
        "srchCV = searchCV (search_type ='random', folds=10, param_comb = 20)\n",
        "srchCV.fit(X_train, y_train)\n",
        "print(f\"Execution time:{(time.time() - start_time):.2f} seg ---\")"
      ],
      "execution_count": 23,
      "outputs": [
        {
          "output_type": "stream",
          "name": "stdout",
          "text": [
            "Fitting 10 folds for each of 20 candidates, totalling 200 fits\n",
            "Execution time:41.63 seg ---\n"
          ]
        }
      ]
    },
    {
      "cell_type": "code",
      "metadata": {
        "colab": {
          "base_uri": "https://localhost:8080/"
        },
        "id": "yOF2n-SfMXFx",
        "outputId": "7184c91b-d997-4889-db0e-ffc6d0b86880"
      },
      "source": [
        "print('\\n Best estimator:')\n",
        "print(srchCV.best_estimator_)\n",
        "print(f'\\n Best AUC for {folds:d}-fold search:')\n",
        "print(srchCV.best_score_ )\n",
        "print('\\n Best hyperparameters:')\n",
        "print(srchCV.best_params_)\n",
        "results = pd.DataFrame(srchCV.cv_results_)\n",
        "results.to_csv('RFC-random-grid-search-results-01.csv', index=False)"
      ],
      "execution_count": 24,
      "outputs": [
        {
          "output_type": "stream",
          "name": "stdout",
          "text": [
            "\n",
            " Best estimator:\n",
            "RandomForestClassifier(criterion='entropy', max_depth=5, max_features='sqrt',\n",
            "                       n_estimators=200)\n",
            "\n",
            " Best AUC for 10-fold search:\n",
            "0.8736449615957813\n",
            "\n",
            " Best hyperparameters:\n",
            "{'n_estimators': 200, 'max_features': 'sqrt', 'max_depth': 5, 'criterion': 'entropy'}\n"
          ]
        }
      ]
    },
    {
      "cell_type": "code",
      "metadata": {
        "colab": {
          "base_uri": "https://localhost:8080/",
          "height": 530
        },
        "id": "qcD-BX4HMpmx",
        "outputId": "b5cfac20-eac7-4a03-8e57-9038bb7ff08c"
      },
      "source": [
        "results.head()"
      ],
      "execution_count": 25,
      "outputs": [
        {
          "output_type": "execute_result",
          "data": {
            "text/html": [
              "\n",
              "  <div id=\"df-f8e78489-4763-437b-b7d3-862d47c031ce\">\n",
              "    <div class=\"colab-df-container\">\n",
              "      <div>\n",
              "<style scoped>\n",
              "    .dataframe tbody tr th:only-of-type {\n",
              "        vertical-align: middle;\n",
              "    }\n",
              "\n",
              "    .dataframe tbody tr th {\n",
              "        vertical-align: top;\n",
              "    }\n",
              "\n",
              "    .dataframe thead th {\n",
              "        text-align: right;\n",
              "    }\n",
              "</style>\n",
              "<table border=\"1\" class=\"dataframe\">\n",
              "  <thead>\n",
              "    <tr style=\"text-align: right;\">\n",
              "      <th></th>\n",
              "      <th>mean_fit_time</th>\n",
              "      <th>std_fit_time</th>\n",
              "      <th>mean_score_time</th>\n",
              "      <th>std_score_time</th>\n",
              "      <th>param_n_estimators</th>\n",
              "      <th>param_max_features</th>\n",
              "      <th>param_max_depth</th>\n",
              "      <th>param_criterion</th>\n",
              "      <th>params</th>\n",
              "      <th>split0_test_score</th>\n",
              "      <th>split1_test_score</th>\n",
              "      <th>split2_test_score</th>\n",
              "      <th>split3_test_score</th>\n",
              "      <th>split4_test_score</th>\n",
              "      <th>split5_test_score</th>\n",
              "      <th>split6_test_score</th>\n",
              "      <th>split7_test_score</th>\n",
              "      <th>split8_test_score</th>\n",
              "      <th>split9_test_score</th>\n",
              "      <th>mean_test_score</th>\n",
              "      <th>std_test_score</th>\n",
              "      <th>rank_test_score</th>\n",
              "    </tr>\n",
              "  </thead>\n",
              "  <tbody>\n",
              "    <tr>\n",
              "      <th>0</th>\n",
              "      <td>0.288326</td>\n",
              "      <td>0.016796</td>\n",
              "      <td>0.026803</td>\n",
              "      <td>0.004092</td>\n",
              "      <td>100</td>\n",
              "      <td>auto</td>\n",
              "      <td>2</td>\n",
              "      <td>entropy</td>\n",
              "      <td>{'n_estimators': 100, 'max_features': 'auto', ...</td>\n",
              "      <td>0.878788</td>\n",
              "      <td>0.936413</td>\n",
              "      <td>0.868939</td>\n",
              "      <td>0.873737</td>\n",
              "      <td>0.907071</td>\n",
              "      <td>0.840101</td>\n",
              "      <td>0.887264</td>\n",
              "      <td>0.823455</td>\n",
              "      <td>0.863556</td>\n",
              "      <td>0.785876</td>\n",
              "      <td>0.866520</td>\n",
              "      <td>0.040290</td>\n",
              "      <td>13</td>\n",
              "    </tr>\n",
              "    <tr>\n",
              "      <th>1</th>\n",
              "      <td>0.291081</td>\n",
              "      <td>0.008051</td>\n",
              "      <td>0.025704</td>\n",
              "      <td>0.000906</td>\n",
              "      <td>100</td>\n",
              "      <td>auto</td>\n",
              "      <td>3</td>\n",
              "      <td>gini</td>\n",
              "      <td>{'n_estimators': 100, 'max_features': 'auto', ...</td>\n",
              "      <td>0.882762</td>\n",
              "      <td>0.939394</td>\n",
              "      <td>0.870960</td>\n",
              "      <td>0.884343</td>\n",
              "      <td>0.905303</td>\n",
              "      <td>0.838335</td>\n",
              "      <td>0.893821</td>\n",
              "      <td>0.820177</td>\n",
              "      <td>0.874401</td>\n",
              "      <td>0.785876</td>\n",
              "      <td>0.869537</td>\n",
              "      <td>0.041926</td>\n",
              "      <td>9</td>\n",
              "    </tr>\n",
              "    <tr>\n",
              "      <th>2</th>\n",
              "      <td>0.707497</td>\n",
              "      <td>0.009304</td>\n",
              "      <td>0.047172</td>\n",
              "      <td>0.004976</td>\n",
              "      <td>200</td>\n",
              "      <td>log2</td>\n",
              "      <td>6</td>\n",
              "      <td>entropy</td>\n",
              "      <td>{'n_estimators': 200, 'max_features': 'log2', ...</td>\n",
              "      <td>0.882017</td>\n",
              "      <td>0.935171</td>\n",
              "      <td>0.884848</td>\n",
              "      <td>0.890152</td>\n",
              "      <td>0.910354</td>\n",
              "      <td>0.843884</td>\n",
              "      <td>0.890290</td>\n",
              "      <td>0.821438</td>\n",
              "      <td>0.867087</td>\n",
              "      <td>0.787137</td>\n",
              "      <td>0.871238</td>\n",
              "      <td>0.041180</td>\n",
              "      <td>5</td>\n",
              "    </tr>\n",
              "    <tr>\n",
              "      <th>3</th>\n",
              "      <td>0.265102</td>\n",
              "      <td>0.006984</td>\n",
              "      <td>0.026492</td>\n",
              "      <td>0.004182</td>\n",
              "      <td>100</td>\n",
              "      <td>sqrt</td>\n",
              "      <td>1</td>\n",
              "      <td>entropy</td>\n",
              "      <td>{'n_estimators': 100, 'max_features': 'sqrt', ...</td>\n",
              "      <td>0.874193</td>\n",
              "      <td>0.931197</td>\n",
              "      <td>0.859470</td>\n",
              "      <td>0.869444</td>\n",
              "      <td>0.894444</td>\n",
              "      <td>0.829760</td>\n",
              "      <td>0.885120</td>\n",
              "      <td>0.814880</td>\n",
              "      <td>0.861791</td>\n",
              "      <td>0.764565</td>\n",
              "      <td>0.858486</td>\n",
              "      <td>0.043836</td>\n",
              "      <td>19</td>\n",
              "    </tr>\n",
              "    <tr>\n",
              "      <th>4</th>\n",
              "      <td>0.318135</td>\n",
              "      <td>0.009797</td>\n",
              "      <td>0.028019</td>\n",
              "      <td>0.003754</td>\n",
              "      <td>100</td>\n",
              "      <td>sqrt</td>\n",
              "      <td>4</td>\n",
              "      <td>entropy</td>\n",
              "      <td>{'n_estimators': 100, 'max_features': 'sqrt', ...</td>\n",
              "      <td>0.881769</td>\n",
              "      <td>0.939642</td>\n",
              "      <td>0.886364</td>\n",
              "      <td>0.890909</td>\n",
              "      <td>0.904545</td>\n",
              "      <td>0.839596</td>\n",
              "      <td>0.892055</td>\n",
              "      <td>0.822699</td>\n",
              "      <td>0.874653</td>\n",
              "      <td>0.793947</td>\n",
              "      <td>0.872618</td>\n",
              "      <td>0.040339</td>\n",
              "      <td>3</td>\n",
              "    </tr>\n",
              "  </tbody>\n",
              "</table>\n",
              "</div>\n",
              "      <button class=\"colab-df-convert\" onclick=\"convertToInteractive('df-f8e78489-4763-437b-b7d3-862d47c031ce')\"\n",
              "              title=\"Convert this dataframe to an interactive table.\"\n",
              "              style=\"display:none;\">\n",
              "        \n",
              "  <svg xmlns=\"http://www.w3.org/2000/svg\" height=\"24px\"viewBox=\"0 0 24 24\"\n",
              "       width=\"24px\">\n",
              "    <path d=\"M0 0h24v24H0V0z\" fill=\"none\"/>\n",
              "    <path d=\"M18.56 5.44l.94 2.06.94-2.06 2.06-.94-2.06-.94-.94-2.06-.94 2.06-2.06.94zm-11 1L8.5 8.5l.94-2.06 2.06-.94-2.06-.94L8.5 2.5l-.94 2.06-2.06.94zm10 10l.94 2.06.94-2.06 2.06-.94-2.06-.94-.94-2.06-.94 2.06-2.06.94z\"/><path d=\"M17.41 7.96l-1.37-1.37c-.4-.4-.92-.59-1.43-.59-.52 0-1.04.2-1.43.59L10.3 9.45l-7.72 7.72c-.78.78-.78 2.05 0 2.83L4 21.41c.39.39.9.59 1.41.59.51 0 1.02-.2 1.41-.59l7.78-7.78 2.81-2.81c.8-.78.8-2.07 0-2.86zM5.41 20L4 18.59l7.72-7.72 1.47 1.35L5.41 20z\"/>\n",
              "  </svg>\n",
              "      </button>\n",
              "      \n",
              "  <style>\n",
              "    .colab-df-container {\n",
              "      display:flex;\n",
              "      flex-wrap:wrap;\n",
              "      gap: 12px;\n",
              "    }\n",
              "\n",
              "    .colab-df-convert {\n",
              "      background-color: #E8F0FE;\n",
              "      border: none;\n",
              "      border-radius: 50%;\n",
              "      cursor: pointer;\n",
              "      display: none;\n",
              "      fill: #1967D2;\n",
              "      height: 32px;\n",
              "      padding: 0 0 0 0;\n",
              "      width: 32px;\n",
              "    }\n",
              "\n",
              "    .colab-df-convert:hover {\n",
              "      background-color: #E2EBFA;\n",
              "      box-shadow: 0px 1px 2px rgba(60, 64, 67, 0.3), 0px 1px 3px 1px rgba(60, 64, 67, 0.15);\n",
              "      fill: #174EA6;\n",
              "    }\n",
              "\n",
              "    [theme=dark] .colab-df-convert {\n",
              "      background-color: #3B4455;\n",
              "      fill: #D2E3FC;\n",
              "    }\n",
              "\n",
              "    [theme=dark] .colab-df-convert:hover {\n",
              "      background-color: #434B5C;\n",
              "      box-shadow: 0px 1px 3px 1px rgba(0, 0, 0, 0.15);\n",
              "      filter: drop-shadow(0px 1px 2px rgba(0, 0, 0, 0.3));\n",
              "      fill: #FFFFFF;\n",
              "    }\n",
              "  </style>\n",
              "\n",
              "      <script>\n",
              "        const buttonEl =\n",
              "          document.querySelector('#df-f8e78489-4763-437b-b7d3-862d47c031ce button.colab-df-convert');\n",
              "        buttonEl.style.display =\n",
              "          google.colab.kernel.accessAllowed ? 'block' : 'none';\n",
              "\n",
              "        async function convertToInteractive(key) {\n",
              "          const element = document.querySelector('#df-f8e78489-4763-437b-b7d3-862d47c031ce');\n",
              "          const dataTable =\n",
              "            await google.colab.kernel.invokeFunction('convertToInteractive',\n",
              "                                                     [key], {});\n",
              "          if (!dataTable) return;\n",
              "\n",
              "          const docLinkHtml = 'Like what you see? Visit the ' +\n",
              "            '<a target=\"_blank\" href=https://colab.research.google.com/notebooks/data_table.ipynb>data table notebook</a>'\n",
              "            + ' to learn more about interactive tables.';\n",
              "          element.innerHTML = '';\n",
              "          dataTable['output_type'] = 'display_data';\n",
              "          await google.colab.output.renderOutput(dataTable, element);\n",
              "          const docLink = document.createElement('div');\n",
              "          docLink.innerHTML = docLinkHtml;\n",
              "          element.appendChild(docLink);\n",
              "        }\n",
              "      </script>\n",
              "    </div>\n",
              "  </div>\n",
              "  "
            ],
            "text/plain": [
              "   mean_fit_time  std_fit_time  ...  std_test_score  rank_test_score\n",
              "0       0.288326      0.016796  ...        0.040290               13\n",
              "1       0.291081      0.008051  ...        0.041926                9\n",
              "2       0.707497      0.009304  ...        0.041180                5\n",
              "3       0.265102      0.006984  ...        0.043836               19\n",
              "4       0.318135      0.009797  ...        0.040339                3\n",
              "\n",
              "[5 rows x 22 columns]"
            ]
          },
          "metadata": {},
          "execution_count": 25
        }
      ]
    },
    {
      "cell_type": "code",
      "metadata": {
        "id": "v0a2djKnMuL_"
      },
      "source": [
        "predictions = srchCV.predict(X_test)\n",
        "\n",
        "probs = srchCV.predict_proba(X_test)[:,1]"
      ],
      "execution_count": 26,
      "outputs": []
    },
    {
      "cell_type": "code",
      "metadata": {
        "id": "vZwi1eSEMzga"
      },
      "source": [
        "from sklearn.metrics import accuracy_score, precision_score, recall_score, roc_auc_score \n",
        "from sklearn.metrics import confusion_matrix,roc_curve, auc"
      ],
      "execution_count": 27,
      "outputs": []
    },
    {
      "cell_type": "code",
      "metadata": {
        "colab": {
          "base_uri": "https://localhost:8080/"
        },
        "id": "3RqdxAb_M2hy",
        "outputId": "385e3a92-1dc2-40c6-d1e2-c35f3766ec62"
      },
      "source": [
        "accuracy = accuracy_score(y_test, predictions)\n",
        "precision=precision_score(y_test, predictions, )\n",
        "recall=recall_score(y_test, predictions)\n",
        "specificity=recall_score(y_test, predictions, pos_label=0)\n",
        "roc = roc_auc_score(y_test, probs)\n",
        "\n",
        "print(\"\\n\")\n",
        "print(f\"Accuracy.........: {accuracy * 100.0:.4f}\")\n",
        "print(f\"Precision........: {precision *100:.4f}\")\n",
        "print(f\"Recall...........: {recall * 100:.4f}\")\n",
        "print(f\"FP Rate...........:{(1-specificity) * 100:.4f}\")\n",
        "print(f\"ROC AUC (probs)..: {roc:.6f}\")\n",
        "\n",
        "cm = confusion_matrix(y_test, predictions)\n",
        "print(f\"Confusion matrix.:\\n {cm}\")"
      ],
      "execution_count": 28,
      "outputs": [
        {
          "output_type": "stream",
          "name": "stdout",
          "text": [
            "\n",
            "\n",
            "Accuracy.........: 79.6148\n",
            "Precision........: 79.6178\n",
            "Recall...........: 79.8722\n",
            "FP Rate...........:20.6452\n",
            "ROC AUC (probs)..: 0.861713\n",
            "Confusion matrix.:\n",
            " [[246  64]\n",
            " [ 63 250]]\n"
          ]
        }
      ]
    },
    {
      "cell_type": "code",
      "metadata": {
        "id": "H5vEiOyYM615"
      },
      "source": [
        "fpr, tpr, threshold = roc_curve(y_test, probs)\n",
        "roc_auc = auc(fpr, tpr)"
      ],
      "execution_count": 29,
      "outputs": []
    },
    {
      "cell_type": "code",
      "metadata": {
        "colab": {
          "base_uri": "https://localhost:8080/",
          "height": 423
        },
        "id": "cvClsri5NJyZ",
        "outputId": "df1d3a6a-802a-4f19-9916-2fa6f8c17d43"
      },
      "source": [
        "roc_df = pd.DataFrame({'tpr': tpr, 'fpr': fpr, 'threshold': threshold})\n",
        "roc_df"
      ],
      "execution_count": 30,
      "outputs": [
        {
          "output_type": "execute_result",
          "data": {
            "text/html": [
              "\n",
              "  <div id=\"df-a7287d08-2322-41eb-b7d5-f6e2f9a3b43b\">\n",
              "    <div class=\"colab-df-container\">\n",
              "      <div>\n",
              "<style scoped>\n",
              "    .dataframe tbody tr th:only-of-type {\n",
              "        vertical-align: middle;\n",
              "    }\n",
              "\n",
              "    .dataframe tbody tr th {\n",
              "        vertical-align: top;\n",
              "    }\n",
              "\n",
              "    .dataframe thead th {\n",
              "        text-align: right;\n",
              "    }\n",
              "</style>\n",
              "<table border=\"1\" class=\"dataframe\">\n",
              "  <thead>\n",
              "    <tr style=\"text-align: right;\">\n",
              "      <th></th>\n",
              "      <th>tpr</th>\n",
              "      <th>fpr</th>\n",
              "      <th>threshold</th>\n",
              "    </tr>\n",
              "  </thead>\n",
              "  <tbody>\n",
              "    <tr>\n",
              "      <th>0</th>\n",
              "      <td>0.000000</td>\n",
              "      <td>0.000000</td>\n",
              "      <td>1.939851</td>\n",
              "    </tr>\n",
              "    <tr>\n",
              "      <th>1</th>\n",
              "      <td>0.000000</td>\n",
              "      <td>0.003226</td>\n",
              "      <td>0.939851</td>\n",
              "    </tr>\n",
              "    <tr>\n",
              "      <th>2</th>\n",
              "      <td>0.022364</td>\n",
              "      <td>0.003226</td>\n",
              "      <td>0.925111</td>\n",
              "    </tr>\n",
              "    <tr>\n",
              "      <th>3</th>\n",
              "      <td>0.022364</td>\n",
              "      <td>0.006452</td>\n",
              "      <td>0.924377</td>\n",
              "    </tr>\n",
              "    <tr>\n",
              "      <th>4</th>\n",
              "      <td>0.031949</td>\n",
              "      <td>0.006452</td>\n",
              "      <td>0.922672</td>\n",
              "    </tr>\n",
              "    <tr>\n",
              "      <th>...</th>\n",
              "      <td>...</td>\n",
              "      <td>...</td>\n",
              "      <td>...</td>\n",
              "    </tr>\n",
              "    <tr>\n",
              "      <th>169</th>\n",
              "      <td>0.993610</td>\n",
              "      <td>0.887097</td>\n",
              "      <td>0.108795</td>\n",
              "    </tr>\n",
              "    <tr>\n",
              "      <th>170</th>\n",
              "      <td>0.996805</td>\n",
              "      <td>0.887097</td>\n",
              "      <td>0.108727</td>\n",
              "    </tr>\n",
              "    <tr>\n",
              "      <th>171</th>\n",
              "      <td>0.996805</td>\n",
              "      <td>0.893548</td>\n",
              "      <td>0.105431</td>\n",
              "    </tr>\n",
              "    <tr>\n",
              "      <th>172</th>\n",
              "      <td>1.000000</td>\n",
              "      <td>0.893548</td>\n",
              "      <td>0.105236</td>\n",
              "    </tr>\n",
              "    <tr>\n",
              "      <th>173</th>\n",
              "      <td>1.000000</td>\n",
              "      <td>1.000000</td>\n",
              "      <td>0.043387</td>\n",
              "    </tr>\n",
              "  </tbody>\n",
              "</table>\n",
              "<p>174 rows × 3 columns</p>\n",
              "</div>\n",
              "      <button class=\"colab-df-convert\" onclick=\"convertToInteractive('df-a7287d08-2322-41eb-b7d5-f6e2f9a3b43b')\"\n",
              "              title=\"Convert this dataframe to an interactive table.\"\n",
              "              style=\"display:none;\">\n",
              "        \n",
              "  <svg xmlns=\"http://www.w3.org/2000/svg\" height=\"24px\"viewBox=\"0 0 24 24\"\n",
              "       width=\"24px\">\n",
              "    <path d=\"M0 0h24v24H0V0z\" fill=\"none\"/>\n",
              "    <path d=\"M18.56 5.44l.94 2.06.94-2.06 2.06-.94-2.06-.94-.94-2.06-.94 2.06-2.06.94zm-11 1L8.5 8.5l.94-2.06 2.06-.94-2.06-.94L8.5 2.5l-.94 2.06-2.06.94zm10 10l.94 2.06.94-2.06 2.06-.94-2.06-.94-.94-2.06-.94 2.06-2.06.94z\"/><path d=\"M17.41 7.96l-1.37-1.37c-.4-.4-.92-.59-1.43-.59-.52 0-1.04.2-1.43.59L10.3 9.45l-7.72 7.72c-.78.78-.78 2.05 0 2.83L4 21.41c.39.39.9.59 1.41.59.51 0 1.02-.2 1.41-.59l7.78-7.78 2.81-2.81c.8-.78.8-2.07 0-2.86zM5.41 20L4 18.59l7.72-7.72 1.47 1.35L5.41 20z\"/>\n",
              "  </svg>\n",
              "      </button>\n",
              "      \n",
              "  <style>\n",
              "    .colab-df-container {\n",
              "      display:flex;\n",
              "      flex-wrap:wrap;\n",
              "      gap: 12px;\n",
              "    }\n",
              "\n",
              "    .colab-df-convert {\n",
              "      background-color: #E8F0FE;\n",
              "      border: none;\n",
              "      border-radius: 50%;\n",
              "      cursor: pointer;\n",
              "      display: none;\n",
              "      fill: #1967D2;\n",
              "      height: 32px;\n",
              "      padding: 0 0 0 0;\n",
              "      width: 32px;\n",
              "    }\n",
              "\n",
              "    .colab-df-convert:hover {\n",
              "      background-color: #E2EBFA;\n",
              "      box-shadow: 0px 1px 2px rgba(60, 64, 67, 0.3), 0px 1px 3px 1px rgba(60, 64, 67, 0.15);\n",
              "      fill: #174EA6;\n",
              "    }\n",
              "\n",
              "    [theme=dark] .colab-df-convert {\n",
              "      background-color: #3B4455;\n",
              "      fill: #D2E3FC;\n",
              "    }\n",
              "\n",
              "    [theme=dark] .colab-df-convert:hover {\n",
              "      background-color: #434B5C;\n",
              "      box-shadow: 0px 1px 3px 1px rgba(0, 0, 0, 0.15);\n",
              "      filter: drop-shadow(0px 1px 2px rgba(0, 0, 0, 0.3));\n",
              "      fill: #FFFFFF;\n",
              "    }\n",
              "  </style>\n",
              "\n",
              "      <script>\n",
              "        const buttonEl =\n",
              "          document.querySelector('#df-a7287d08-2322-41eb-b7d5-f6e2f9a3b43b button.colab-df-convert');\n",
              "        buttonEl.style.display =\n",
              "          google.colab.kernel.accessAllowed ? 'block' : 'none';\n",
              "\n",
              "        async function convertToInteractive(key) {\n",
              "          const element = document.querySelector('#df-a7287d08-2322-41eb-b7d5-f6e2f9a3b43b');\n",
              "          const dataTable =\n",
              "            await google.colab.kernel.invokeFunction('convertToInteractive',\n",
              "                                                     [key], {});\n",
              "          if (!dataTable) return;\n",
              "\n",
              "          const docLinkHtml = 'Like what you see? Visit the ' +\n",
              "            '<a target=\"_blank\" href=https://colab.research.google.com/notebooks/data_table.ipynb>data table notebook</a>'\n",
              "            + ' to learn more about interactive tables.';\n",
              "          element.innerHTML = '';\n",
              "          dataTable['output_type'] = 'display_data';\n",
              "          await google.colab.output.renderOutput(dataTable, element);\n",
              "          const docLink = document.createElement('div');\n",
              "          docLink.innerHTML = docLinkHtml;\n",
              "          element.appendChild(docLink);\n",
              "        }\n",
              "      </script>\n",
              "    </div>\n",
              "  </div>\n",
              "  "
            ],
            "text/plain": [
              "          tpr       fpr  threshold\n",
              "0    0.000000  0.000000   1.939851\n",
              "1    0.000000  0.003226   0.939851\n",
              "2    0.022364  0.003226   0.925111\n",
              "3    0.022364  0.006452   0.924377\n",
              "4    0.031949  0.006452   0.922672\n",
              "..        ...       ...        ...\n",
              "169  0.993610  0.887097   0.108795\n",
              "170  0.996805  0.887097   0.108727\n",
              "171  0.996805  0.893548   0.105431\n",
              "172  1.000000  0.893548   0.105236\n",
              "173  1.000000  1.000000   0.043387\n",
              "\n",
              "[174 rows x 3 columns]"
            ]
          },
          "metadata": {},
          "execution_count": 30
        }
      ]
    },
    {
      "cell_type": "code",
      "metadata": {
        "colab": {
          "base_uri": "https://localhost:8080/",
          "height": 295
        },
        "id": "5mEZzrr4bKfl",
        "outputId": "3e524b4e-bb07-4322-8900-9f448dc70e4f"
      },
      "source": [
        "plt.title('Receiver Operating Characteristic')\n",
        "plt.plot(fpr, tpr, 'b', label = 'AUC = %0.2f' % roc_auc)\n",
        "plt.legend(loc = 'lower right')\n",
        "plt.plot([0, 1], [0, 1],'r--')\n",
        "plt.xlim([0, 1])\n",
        "plt.ylim([0, 1])\n",
        "plt.ylabel('True Positive Rate')\n",
        "plt.xlabel('False Positive Rate')\n",
        "plt.savefig('ROCcuve.png')\n",
        "plt.show()"
      ],
      "execution_count": 31,
      "outputs": [
        {
          "output_type": "display_data",
          "data": {
            "image/png": "[encoded data removed]",
            "text/plain": [
              "<Figure size 432x288 with 1 Axes>"
            ]
          },
          "metadata": {
            "needs_background": "light"
          }
        }
      ]
    },
    {
      "cell_type": "markdown",
      "metadata": {
        "id": "rGvl46NMZK9Z"
      },
      "source": [
        "6"
      ]
    },
    {
      "cell_type": "markdown",
      "metadata": {
        "id": "ThBNKp1TRBem"
      },
      "source": [
        "The XGBoost classifier performed better in every tested metric than the RandomForest classifier. "
      ]
    }
  ]
}