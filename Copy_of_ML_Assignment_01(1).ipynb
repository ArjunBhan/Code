{
  "nbformat": 4,
  "nbformat_minor": 0,
  "metadata": {
    "kernelspec": {
      "display_name": "Python 3",
      "language": "python",
      "name": "python3"
    },
    "language_info": {
      "codemirror_mode": {
        "name": "ipython",
        "version": 3
      },
      "file_extension": ".py",
      "mimetype": "text/x-python",
      "name": "python",
      "nbconvert_exporter": "python",
      "pygments_lexer": "ipython3",
      "version": "3.6.3"
    },
    "colab": {
      "name": "Copy of ML_Assignment_01.ipynb",
      "provenance": [],
      "collapsed_sections": []
    }
  },
  "cells": [
    {
      "cell_type": "markdown",
      "metadata": {
        "id": "EpU31NX9FWTA"
      },
      "source": [
        "# Assignment 1 : Python  3.x, Numpy, Pandas, Matplotlib\n",
        "\n",
        "This is an assignment to tewst your understanding of Python and its basic DS libraries.\n",
        "Answer the questions or complete the tasks outlined in bold below, use the specific method described if applicable."
      ]
    },
    {
      "cell_type": "markdown",
      "metadata": {
        "id": "tbqWBNQfFWTC"
      },
      "source": [
        "## Python"
      ]
    },
    {
      "cell_type": "markdown",
      "metadata": {
        "id": "7N0QCSnqFWTO"
      },
      "source": [
        "**1. Split this string:**\n",
        "\n",
        "    s = \"these topics are awesome\"\n",
        "    \n",
        "**into a list.**"
      ]
    },
    {
      "cell_type": "code",
      "metadata": {
        "id": "hfZPkqsLmCqM"
      },
      "source": [
        "s = \"these topics are awesome\""
      ],
      "execution_count": null,
      "outputs": []
    },
    {
      "cell_type": "code",
      "metadata": {
        "id": "K2YED0IjFWTP",
        "colab": {
          "base_uri": "https://localhost:8080/"
        },
        "outputId": "dc4a3f64-fb6d-4148-aa0c-7ab3d2ab8ade"
      },
      "source": [
        "s.split()"
      ],
      "execution_count": null,
      "outputs": [
        {
          "output_type": "execute_result",
          "data": {
            "text/plain": [
              "['these', 'topics', 'are', 'awesome']"
            ]
          },
          "metadata": {},
          "execution_count": 3
        }
      ]
    },
    {
      "cell_type": "markdown",
      "metadata": {
        "id": "tVH6o8S3FWT1"
      },
      "source": [
        "**2. Given this nested list, use indexing to grab the word \"hello\"**"
      ]
    },
    {
      "cell_type": "code",
      "metadata": {
        "id": "9PuiN6xPFWT2"
      },
      "source": [
        "lst = [1,2,[3,4],[5,[100,200,['hello']],23,11],1,7]"
      ],
      "execution_count": null,
      "outputs": []
    },
    {
      "cell_type": "code",
      "metadata": {
        "id": "cktUJpltFWT9"
      },
      "source": [
        "lst = [1,2,[3,4],[5,[100,200,['hello']],23,11],1,7]"
      ],
      "execution_count": null,
      "outputs": []
    },
    {
      "cell_type": "code",
      "metadata": {
        "id": "1GpgDYYmmLJs",
        "colab": {
          "base_uri": "https://localhost:8080/",
          "height": 36
        },
        "outputId": "c7ec4812-ee86-40f4-ff09-f5c33b8d9cd9"
      },
      "source": [
        "lst[3][1][2][0]"
      ],
      "execution_count": null,
      "outputs": [
        {
          "output_type": "execute_result",
          "data": {
            "application/vnd.google.colaboratory.intrinsic+json": {
              "type": "string"
            },
            "text/plain": [
              "'hello'"
            ]
          },
          "metadata": {},
          "execution_count": 6
        }
      ]
    },
    {
      "cell_type": "markdown",
      "metadata": {
        "id": "Olxu0yiVFWUu"
      },
      "source": [
        "**3. Create a simple function that returns True if the word 'California' is contained in the input string argument. Don't worry about edge cases like a punctuation being attached to the word, but do account for capitalization.**"
      ]
    },
    {
      "cell_type": "code",
      "metadata": {
        "id": "OJ401-RdFWUu"
      },
      "source": [
        "def CaliInd(Str):\n",
        "  Str=Str.lower()\n",
        "  SplLis=Str.split(\" \")\n",
        "  for i in SplLis:\n",
        "    if \"california\" in i:\n",
        "      return(True)"
      ],
      "execution_count": null,
      "outputs": []
    },
    {
      "cell_type": "code",
      "metadata": {
        "id": "yIY_mYRuqeso",
        "colab": {
          "base_uri": "https://localhost:8080/"
        },
        "outputId": "a8592bed-1e8c-4b56-8f98-e3bf34907f98"
      },
      "source": [
        "Str = \"The Florida wave\"\n",
        "print(CaliInd(Str))"
      ],
      "execution_count": null,
      "outputs": [
        {
          "output_type": "stream",
          "name": "stdout",
          "text": [
            "None\n"
          ]
        }
      ]
    },
    {
      "cell_type": "code",
      "metadata": {
        "colab": {
          "base_uri": "https://localhost:8080/"
        },
        "id": "EPlZMnKuEY2r",
        "outputId": "1d8bbdb1-f020-4b99-bb75-39d0f5a12232"
      },
      "source": [
        "Str = \"The California wave\"\n",
        "print(CaliInd(Str))"
      ],
      "execution_count": null,
      "outputs": [
        {
          "output_type": "stream",
          "name": "stdout",
          "text": [
            "True\n"
          ]
        }
      ]
    },
    {
      "cell_type": "code",
      "metadata": {
        "colab": {
          "base_uri": "https://localhost:8080/"
        },
        "id": "QwZG-3KdEory",
        "outputId": "2d8a72f7-3cb2-4744-f0cc-f809940e0372"
      },
      "source": [
        "Str = \"The CalIfOrNiA wave\"\n",
        "print(CaliInd(Str))"
      ],
      "execution_count": null,
      "outputs": [
        {
          "output_type": "stream",
          "name": "stdout",
          "text": [
            "True\n"
          ]
        }
      ]
    },
    {
      "cell_type": "code",
      "metadata": {
        "id": "SI_yFhO8oIYg",
        "colab": {
          "base_uri": "https://localhost:8080/"
        },
        "outputId": "57c34643-e2b0-48d8-c58d-c203b1168439"
      },
      "source": [
        "Str = \"The california wave\"\n",
        "print(CaliInd(Str))\n"
      ],
      "execution_count": null,
      "outputs": [
        {
          "output_type": "stream",
          "name": "stdout",
          "text": [
            "True\n"
          ]
        }
      ]
    },
    {
      "cell_type": "markdown",
      "metadata": {
        "id": "dg4vHEQRFWVL"
      },
      "source": [
        "**4. Use lambda expressions and the filter() function to filter out words from a list that start with the letter 's'. For example:**\n",
        "\n",
        "    seq = ['soup','dog','salad','cat','great']\n",
        "\n",
        "**should be filtered down to:**\n",
        "\n",
        "    ['soup','salad']"
      ]
    },
    {
      "cell_type": "code",
      "metadata": {
        "id": "EooxToaofbTA"
      },
      "source": [
        "seq = ['soup','dog','salad','cat','great']"
      ],
      "execution_count": null,
      "outputs": []
    },
    {
      "cell_type": "code",
      "metadata": {
        "id": "R6iigRwsfdUQ",
        "colab": {
          "base_uri": "https://localhost:8080/"
        },
        "outputId": "13dc718b-b5f3-4f2d-eeca-21563a9bbdd1"
      },
      "source": [
        "FiltLis=list(filter(lambda word: word[0]==\"s\",seq))\n",
        "print(FiltLis)"
      ],
      "execution_count": null,
      "outputs": [
        {
          "output_type": "stream",
          "name": "stdout",
          "text": [
            "['soup', 'salad']\n"
          ]
        }
      ]
    },
    {
      "cell_type": "markdown",
      "metadata": {
        "id": "HAtXP3sjJNeL"
      },
      "source": [
        "## Numpy"
      ]
    },
    {
      "cell_type": "code",
      "metadata": {
        "id": "rCd6R9EaLBkk"
      },
      "source": [
        "import numpy as np"
      ],
      "execution_count": null,
      "outputs": []
    },
    {
      "cell_type": "markdown",
      "metadata": {
        "id": "Bh7lmF7GLBkp"
      },
      "source": [
        "**5. Create an array of 10 zeros**"
      ]
    },
    {
      "cell_type": "code",
      "metadata": {
        "id": "lVIktEMmLBkq",
        "colab": {
          "base_uri": "https://localhost:8080/"
        },
        "outputId": "86778d8b-e77f-49be-c106-1df07651c4a8"
      },
      "source": [
        "TenZerArr=np.zeros(10)\n",
        "TenZerArr"
      ],
      "execution_count": null,
      "outputs": [
        {
          "output_type": "execute_result",
          "data": {
            "text/plain": [
              "array([0., 0., 0., 0., 0., 0., 0., 0., 0., 0.])"
            ]
          },
          "metadata": {},
          "execution_count": 5
        }
      ]
    },
    {
      "cell_type": "markdown",
      "metadata": {
        "id": "cTS1o1kXLBk-"
      },
      "source": [
        "**6. Create an array of the integers from 10 to 50**"
      ]
    },
    {
      "cell_type": "code",
      "metadata": {
        "id": "bjDXjmK7LBlA",
        "colab": {
          "base_uri": "https://localhost:8080/"
        },
        "outputId": "54b1f0ea-de19-4ca6-b62e-e4ea27ec87b1"
      },
      "source": [
        "IntArr=np.arange(10,51)\n",
        "IntArr"
      ],
      "execution_count": null,
      "outputs": [
        {
          "output_type": "execute_result",
          "data": {
            "text/plain": [
              "array([10, 11, 12, 13, 14, 15, 16, 17, 18, 19, 20, 21, 22, 23, 24, 25, 26,\n",
              "       27, 28, 29, 30, 31, 32, 33, 34, 35, 36, 37, 38, 39, 40, 41, 42, 43,\n",
              "       44, 45, 46, 47, 48, 49, 50])"
            ]
          },
          "metadata": {},
          "execution_count": 6
        }
      ]
    },
    {
      "cell_type": "markdown",
      "metadata": {
        "id": "LaGeIAoyLBlQ"
      },
      "source": [
        "**7. Create a 3x3 matrix with values ranging from 0 to 8**"
      ]
    },
    {
      "cell_type": "code",
      "metadata": {
        "id": "nmp05av3LBlS",
        "colab": {
          "base_uri": "https://localhost:8080/"
        },
        "outputId": "be523f3b-af06-438c-cfa4-0094a7d17044"
      },
      "source": [
        "A = np.arange(0,9).reshape(3,3)\n",
        "print(A)"
      ],
      "execution_count": null,
      "outputs": [
        {
          "output_type": "stream",
          "name": "stdout",
          "text": [
            "[[0 1 2]\n",
            " [3 4 5]\n",
            " [6 7 8]]\n"
          ]
        }
      ]
    },
    {
      "cell_type": "markdown",
      "metadata": {
        "id": "MIzFXTXqLBlk"
      },
      "source": [
        "**8. Use NumPy to generate an array of 25 random numbers sampled from a standard normal distribution**"
      ]
    },
    {
      "cell_type": "code",
      "metadata": {
        "id": "YUR95DqNLBlr",
        "colab": {
          "base_uri": "https://localhost:8080/"
        },
        "outputId": "ca56f942-3e6b-4e9a-eca4-78a3d27358fd"
      },
      "source": [
        "np.random.randn(25)"
      ],
      "execution_count": null,
      "outputs": [
        {
          "output_type": "execute_result",
          "data": {
            "text/plain": [
              "array([ 0.46411196, -0.67632385,  0.07976376, -0.47048093,  0.89108999,\n",
              "        0.3472993 , -0.22664526,  0.02590753,  0.21639479, -0.52836446,\n",
              "        0.76972474,  1.72185013, -0.54727154, -1.11753119,  2.34268202,\n",
              "       -0.89841017, -1.25320664, -0.30782666,  1.10383935, -1.25866233,\n",
              "        1.03203058, -0.57830316,  0.96680296, -0.82204104,  0.53344981])"
            ]
          },
          "metadata": {},
          "execution_count": 8
        }
      ]
    },
    {
      "cell_type": "markdown",
      "metadata": {
        "id": "jW-1iqirLBl9"
      },
      "source": [
        "### Numpy Indexing and Selection\n",
        "\n",
        "**Now you will be given a few matrices, and be asked to replicate the resulting matrix outputs:**"
      ]
    },
    {
      "cell_type": "code",
      "metadata": {
        "id": "Fp7xUVHhLBl9",
        "colab": {
          "base_uri": "https://localhost:8080/"
        },
        "outputId": "a9f0b7f0-192a-418d-af8e-43c1b228f9dd"
      },
      "source": [
        "mat = np.arange(1,26).reshape(5,5)\n",
        "mat"
      ],
      "execution_count": null,
      "outputs": [
        {
          "output_type": "execute_result",
          "data": {
            "text/plain": [
              "array([[ 1,  2,  3,  4,  5],\n",
              "       [ 6,  7,  8,  9, 10],\n",
              "       [11, 12, 13, 14, 15],\n",
              "       [16, 17, 18, 19, 20],\n",
              "       [21, 22, 23, 24, 25]])"
            ]
          },
          "metadata": {},
          "execution_count": 9
        }
      ]
    },
    {
      "cell_type": "markdown",
      "metadata": {
        "id": "KaOCVu2-NPrs"
      },
      "source": [
        "**9. Write code that reproduces the output below**\n"
      ]
    },
    {
      "cell_type": "code",
      "metadata": {
        "id": "DLDz4bf7LBmC"
      },
      "source": [
        "# array([[12, 13, 14, 15],\n",
        "#       [17, 18, 19, 20],\n",
        "#       [22, 23, 24, 25]])"
      ],
      "execution_count": null,
      "outputs": []
    },
    {
      "cell_type": "code",
      "metadata": {
        "id": "Yirne1xULBmG",
        "colab": {
          "base_uri": "https://localhost:8080/"
        },
        "outputId": "44637052-76db-4f54-8a65-cdac3b1f6c15"
      },
      "source": [
        "np.array([range(i, i + 4) for i in [12, 17, 22]])"
      ],
      "execution_count": null,
      "outputs": [
        {
          "output_type": "execute_result",
          "data": {
            "text/plain": [
              "array([[12, 13, 14, 15],\n",
              "       [17, 18, 19, 20],\n",
              "       [22, 23, 24, 25]])"
            ]
          },
          "metadata": {},
          "execution_count": 11
        }
      ]
    },
    {
      "cell_type": "markdown",
      "metadata": {
        "id": "8x0QGGB3N9m3"
      },
      "source": [
        "**10. Write code that reproduces the output below**"
      ]
    },
    {
      "cell_type": "code",
      "metadata": {
        "id": "dsVkKk5qLBmR"
      },
      "source": [
        "# array([[ 2],\n",
        "#       [ 7],\n",
        "#       [12]])"
      ],
      "execution_count": null,
      "outputs": []
    },
    {
      "cell_type": "code",
      "metadata": {
        "colab": {
          "base_uri": "https://localhost:8080/"
        },
        "id": "xidfCtP8GXGl",
        "outputId": "ee9bdc04-9c38-4074-cdff-2e3eed47ed7f"
      },
      "source": [
        "np.arange(2,13,5).reshape(3,1)"
      ],
      "execution_count": null,
      "outputs": [
        {
          "output_type": "execute_result",
          "data": {
            "text/plain": [
              "array([[ 2],\n",
              "       [ 7],\n",
              "       [12]])"
            ]
          },
          "metadata": {},
          "execution_count": 13
        }
      ]
    },
    {
      "cell_type": "markdown",
      "metadata": {
        "id": "g3rrHbZLLBm1"
      },
      "source": [
        "**11. Get the sum of all the columns in `mat`:**"
      ]
    },
    {
      "cell_type": "code",
      "metadata": {
        "id": "1jHwougoLBm2",
        "colab": {
          "base_uri": "https://localhost:8080/"
        },
        "outputId": "b6655765-c696-45f9-96a0-e08dfda5fa06"
      },
      "source": [
        "np.sum(mat,axis=0)"
      ],
      "execution_count": null,
      "outputs": [
        {
          "output_type": "execute_result",
          "data": {
            "text/plain": [
              "array([55, 60, 65, 70, 75])"
            ]
          },
          "metadata": {},
          "execution_count": 14
        }
      ]
    },
    {
      "cell_type": "markdown",
      "metadata": {
        "id": "tUiecNMzP3SH"
      },
      "source": [
        "## Matplotlib"
      ]
    },
    {
      "cell_type": "code",
      "metadata": {
        "id": "_yBNGRVIQFFJ"
      },
      "source": [
        "import matplotlib.pyplot as plt\n",
        "%matplotlib inline"
      ],
      "execution_count": null,
      "outputs": []
    },
    {
      "cell_type": "markdown",
      "metadata": {
        "id": "hNqbOoniP-HR"
      },
      "source": [
        "**Given the data below:**"
      ]
    },
    {
      "cell_type": "code",
      "metadata": {
        "id": "-YYRJAk8QF54"
      },
      "source": [
        "x = np.arange(0,100)\n",
        "y = x*2\n",
        "z = x**2"
      ],
      "execution_count": null,
      "outputs": []
    },
    {
      "cell_type": "markdown",
      "metadata": {
        "id": "HLNqyWNTQdD_"
      },
      "source": [
        "**12. Create a graph using the object oriented API** <br>\n",
        "* Create a figure object called fig using plt.figure()\n",
        "* Use add_axes to add an axis to the figure canvas at [0,0,1,1]. Call this new axis ax.<br>\n",
        "* Plot (x,y) on that axes and set the labels and title (use as title `Graph Title`)"
      ]
    },
    {
      "cell_type": "code",
      "metadata": {
        "id": "UiqxFDOOQbr4",
        "colab": {
          "base_uri": "https://localhost:8080/",
          "height": 385
        },
        "outputId": "9f1634eb-9668-4974-890f-61318b3ca7e3"
      },
      "source": [
        "fig = plt.figure()\n",
        "ax=fig.add_axes([0,0,1,1])\n",
        "ax.set_title(\"Graph Title\")\n",
        "ax.set_xlabel(\"X Label\")\n",
        "ax.set_ylabel(\"Y Label\")\n",
        "ax.plot(x, y)"
      ],
      "execution_count": null,
      "outputs": [
        {
          "output_type": "execute_result",
          "data": {
            "text/plain": [
              "[<matplotlib.lines.Line2D at 0x7f3a0e179910>]"
            ]
          },
          "metadata": {},
          "execution_count": 46
        },
        {
          "output_type": "display_data",
          "data": {
            "image/png": "[encoded data removed]",
            "text/plain": [
              "<Figure size 432x288 with 1 Axes>"
            ]
          },
          "metadata": {
            "needs_background": "light"
          }
        }
      ]
    },
    {
      "cell_type": "markdown",
      "metadata": {
        "id": "jgGG17xSR8Sz"
      },
      "source": [
        "**13. Create two subplots, next to each other, one plotting (x,y),the other plotting (x,z), with labels and title (choose the titles)**"
      ]
    },
    {
      "cell_type": "markdown",
      "metadata": {
        "id": "93vFgDqfhbHT"
      },
      "source": [
        "## Pandas"
      ]
    },
    {
      "cell_type": "code",
      "metadata": {
        "id": "vxI4bwarR7GP",
        "colab": {
          "base_uri": "https://localhost:8080/",
          "height": 369
        },
        "outputId": "83801d33-e954-4a9b-b6e4-0456935bdd49"
      },
      "source": [
        "import pandas as pd\n",
        "fig, ax = plt.subplots(1,2,figsize=(10,5))\n",
        "# we then use these objects to draw-on and manipulate our plot\n",
        "ax[0].plot(x,z)\n",
        "ax[0].set_xlabel(\"X\")\n",
        "ax[0].set_ylabel(\"Z\")\n",
        "ax[0].set_title(\"X vs Z Plot\");\n",
        "ax[1].plot(x,y)\n",
        "ax[1].set_xlabel(\"X\")\n",
        "ax[1].set_ylabel(\"Y\")\n",
        "ax[1].set_title(\"X vs Y Plot\")"
      ],
      "execution_count": null,
      "outputs": [
        {
          "output_type": "execute_result",
          "data": {
            "text/plain": [
              "Text(0.5, 1.0, 'X vs Y Plot')"
            ]
          },
          "metadata": {},
          "execution_count": 28
        },
        {
          "output_type": "display_data",
          "data": {
            "image/png": "[encoded data removed]",
            "text/plain": [
              "<Figure size 720x360 with 2 Axes>"
            ]
          },
          "metadata": {
            "needs_background": "light"
          }
        }
      ]
    },
    {
      "cell_type": "markdown",
      "metadata": {
        "id": "qBDn9fRuTGrw"
      },
      "source": [
        "**14. Read the `california_housing_train.csv` file into a pandas dataframe and display the first few records.**<br>\n",
        "The file is located within the storage assigned to you by colab.<br>\n",
        "Check the code cells below.<br>\n",
        "You can find a description of the file here:<br>\n",
        "https://developers.google.com/machine-learning/crash-course/california-housing-data-description"
      ]
    },
    {
      "cell_type": "code",
      "metadata": {
        "id": "BbsdoV1WTEH5",
        "colab": {
          "base_uri": "https://localhost:8080/"
        },
        "outputId": "e40da364-c8a1-4675-9dd7-ee61959bc8cf"
      },
      "source": [
        "!ls ./sample_data "
      ],
      "execution_count": null,
      "outputs": [
        {
          "output_type": "stream",
          "name": "stdout",
          "text": [
            "anscombe.json\t\t      mnist_test.csv\n",
            "california_housing_test.csv   mnist_train_small.csv\n",
            "california_housing_train.csv  README.md\n"
          ]
        }
      ]
    },
    {
      "cell_type": "code",
      "metadata": {
        "id": "2r1a8nYzT4Pz",
        "colab": {
          "base_uri": "https://localhost:8080/"
        },
        "outputId": "74ad4249-93c0-4168-cc6c-91e204326545"
      },
      "source": [
        "!head sample_data/california_housing_train.csv"
      ],
      "execution_count": null,
      "outputs": [
        {
          "output_type": "stream",
          "name": "stdout",
          "text": [
            "\"longitude\",\"latitude\",\"housing_median_age\",\"total_rooms\",\"total_bedrooms\",\"population\",\"households\",\"median_income\",\"median_house_value\"\n",
            "-114.310000,34.190000,15.000000,5612.000000,1283.000000,1015.000000,472.000000,1.493600,66900.000000\n",
            "-114.470000,34.400000,19.000000,7650.000000,1901.000000,1129.000000,463.000000,1.820000,80100.000000\n",
            "-114.560000,33.690000,17.000000,720.000000,174.000000,333.000000,117.000000,1.650900,85700.000000\n",
            "-114.570000,33.640000,14.000000,1501.000000,337.000000,515.000000,226.000000,3.191700,73400.000000\n",
            "-114.570000,33.570000,20.000000,1454.000000,326.000000,624.000000,262.000000,1.925000,65500.000000\n",
            "-114.580000,33.630000,29.000000,1387.000000,236.000000,671.000000,239.000000,3.343800,74000.000000\n",
            "-114.580000,33.610000,25.000000,2907.000000,680.000000,1841.000000,633.000000,2.676800,82400.000000\n",
            "-114.590000,34.830000,41.000000,812.000000,168.000000,375.000000,158.000000,1.708300,48500.000000\n",
            "-114.590000,33.610000,34.000000,4789.000000,1175.000000,3134.000000,1056.000000,2.178200,58400.000000\n"
          ]
        }
      ]
    },
    {
      "cell_type": "code",
      "metadata": {
        "id": "zn37ZpXDhRyS",
        "colab": {
          "base_uri": "https://localhost:8080/",
          "height": 206
        },
        "outputId": "1805ce03-3591-4d4a-8f02-cc7b52cd71ae"
      },
      "source": [
        "df = pd.read_csv('sample_data/california_housing_train.csv')\n",
        "df.head()"
      ],
      "execution_count": null,
      "outputs": [
        {
          "output_type": "execute_result",
          "data": {
            "text/html": [
              "<div>\n",
              "<style scoped>\n",
              "    .dataframe tbody tr th:only-of-type {\n",
              "        vertical-align: middle;\n",
              "    }\n",
              "\n",
              "    .dataframe tbody tr th {\n",
              "        vertical-align: top;\n",
              "    }\n",
              "\n",
              "    .dataframe thead th {\n",
              "        text-align: right;\n",
              "    }\n",
              "</style>\n",
              "<table border=\"1\" class=\"dataframe\">\n",
              "  <thead>\n",
              "    <tr style=\"text-align: right;\">\n",
              "      <th></th>\n",
              "      <th>longitude</th>\n",
              "      <th>latitude</th>\n",
              "      <th>housing_median_age</th>\n",
              "      <th>total_rooms</th>\n",
              "      <th>total_bedrooms</th>\n",
              "      <th>population</th>\n",
              "      <th>households</th>\n",
              "      <th>median_income</th>\n",
              "      <th>median_house_value</th>\n",
              "    </tr>\n",
              "  </thead>\n",
              "  <tbody>\n",
              "    <tr>\n",
              "      <th>0</th>\n",
              "      <td>-114.31</td>\n",
              "      <td>34.19</td>\n",
              "      <td>15.0</td>\n",
              "      <td>5612.0</td>\n",
              "      <td>1283.0</td>\n",
              "      <td>1015.0</td>\n",
              "      <td>472.0</td>\n",
              "      <td>1.4936</td>\n",
              "      <td>66900.0</td>\n",
              "    </tr>\n",
              "    <tr>\n",
              "      <th>1</th>\n",
              "      <td>-114.47</td>\n",
              "      <td>34.40</td>\n",
              "      <td>19.0</td>\n",
              "      <td>7650.0</td>\n",
              "      <td>1901.0</td>\n",
              "      <td>1129.0</td>\n",
              "      <td>463.0</td>\n",
              "      <td>1.8200</td>\n",
              "      <td>80100.0</td>\n",
              "    </tr>\n",
              "    <tr>\n",
              "      <th>2</th>\n",
              "      <td>-114.56</td>\n",
              "      <td>33.69</td>\n",
              "      <td>17.0</td>\n",
              "      <td>720.0</td>\n",
              "      <td>174.0</td>\n",
              "      <td>333.0</td>\n",
              "      <td>117.0</td>\n",
              "      <td>1.6509</td>\n",
              "      <td>85700.0</td>\n",
              "    </tr>\n",
              "    <tr>\n",
              "      <th>3</th>\n",
              "      <td>-114.57</td>\n",
              "      <td>33.64</td>\n",
              "      <td>14.0</td>\n",
              "      <td>1501.0</td>\n",
              "      <td>337.0</td>\n",
              "      <td>515.0</td>\n",
              "      <td>226.0</td>\n",
              "      <td>3.1917</td>\n",
              "      <td>73400.0</td>\n",
              "    </tr>\n",
              "    <tr>\n",
              "      <th>4</th>\n",
              "      <td>-114.57</td>\n",
              "      <td>33.57</td>\n",
              "      <td>20.0</td>\n",
              "      <td>1454.0</td>\n",
              "      <td>326.0</td>\n",
              "      <td>624.0</td>\n",
              "      <td>262.0</td>\n",
              "      <td>1.9250</td>\n",
              "      <td>65500.0</td>\n",
              "    </tr>\n",
              "  </tbody>\n",
              "</table>\n",
              "</div>"
            ],
            "text/plain": [
              "   longitude  latitude  ...  median_income  median_house_value\n",
              "0    -114.31     34.19  ...         1.4936             66900.0\n",
              "1    -114.47     34.40  ...         1.8200             80100.0\n",
              "2    -114.56     33.69  ...         1.6509             85700.0\n",
              "3    -114.57     33.64  ...         3.1917             73400.0\n",
              "4    -114.57     33.57  ...         1.9250             65500.0\n",
              "\n",
              "[5 rows x 9 columns]"
            ]
          },
          "metadata": {},
          "execution_count": 49
        }
      ]
    },
    {
      "cell_type": "markdown",
      "metadata": {
        "id": "Ce_DvacMV5En"
      },
      "source": [
        "**15. List the number of rows where the total number of rooms within a block (`total_rooms`) is less than  10**<br>\n",
        "This is similar to: <br>\n",
        "\n",
        "SELECT count(*) <br>\n",
        "FROM df <br>\n",
        "WHERE total_rooms <10 <br>"
      ]
    },
    {
      "cell_type": "code",
      "metadata": {
        "id": "bDJeGulgVNWJ",
        "colab": {
          "base_uri": "https://localhost:8080/"
        },
        "outputId": "9cbba70d-a03f-4450-9960-399cfc147de3"
      },
      "source": [
        "len(df.loc[(df['total_rooms']<10)])"
      ],
      "execution_count": null,
      "outputs": [
        {
          "output_type": "execute_result",
          "data": {
            "text/plain": [
              "2"
            ]
          },
          "metadata": {},
          "execution_count": 32
        }
      ]
    },
    {
      "cell_type": "markdown",
      "metadata": {
        "id": "ZZpFze4dV8RU"
      },
      "source": [
        "**16. List total_bedrooms and population where the total number of rooms within a block (total_rooms) is less than 10**<br>\n",
        "This is similar to: <br>\n",
        "\n",
        "SELECT total_bedrooms, population<br>\n",
        "FROM df <br>\n",
        "WHERE total_rooms <10\n"
      ]
    },
    {
      "cell_type": "code",
      "metadata": {
        "id": "0cIOwVfCeVC3",
        "colab": {
          "base_uri": "https://localhost:8080/",
          "height": 112
        },
        "outputId": "13fcea25-c180-4fba-c240-09c1e9823150"
      },
      "source": [
        "df[['total_bedrooms','population']].loc[(df['total_rooms']<10)]"
      ],
      "execution_count": null,
      "outputs": [
        {
          "output_type": "execute_result",
          "data": {
            "text/html": [
              "<div>\n",
              "<style scoped>\n",
              "    .dataframe tbody tr th:only-of-type {\n",
              "        vertical-align: middle;\n",
              "    }\n",
              "\n",
              "    .dataframe tbody tr th {\n",
              "        vertical-align: top;\n",
              "    }\n",
              "\n",
              "    .dataframe thead th {\n",
              "        text-align: right;\n",
              "    }\n",
              "</style>\n",
              "<table border=\"1\" class=\"dataframe\">\n",
              "  <thead>\n",
              "    <tr style=\"text-align: right;\">\n",
              "      <th></th>\n",
              "      <th>total_bedrooms</th>\n",
              "      <th>population</th>\n",
              "    </tr>\n",
              "  </thead>\n",
              "  <tbody>\n",
              "    <tr>\n",
              "      <th>2990</th>\n",
              "      <td>2.0</td>\n",
              "      <td>6.0</td>\n",
              "    </tr>\n",
              "    <tr>\n",
              "      <th>16309</th>\n",
              "      <td>1.0</td>\n",
              "      <td>13.0</td>\n",
              "    </tr>\n",
              "  </tbody>\n",
              "</table>\n",
              "</div>"
            ],
            "text/plain": [
              "       total_bedrooms  population\n",
              "2990              2.0         6.0\n",
              "16309             1.0        13.0"
            ]
          },
          "metadata": {},
          "execution_count": 50
        }
      ]
    },
    {
      "cell_type": "code",
      "metadata": {
        "id": "DyiC5jxZ-aKu"
      },
      "source": [
        ""
      ],
      "execution_count": null,
      "outputs": []
    }
  ]
}