{
  "nbformat": 4,
  "nbformat_minor": 0,
  "metadata": {
    "colab": {
      "name": "Assignment_2.ipynb",
      "provenance": [],
      "collapsed_sections": []
    },
    "kernelspec": {
      "name": "python3",
      "display_name": "Python 3"
    },
    "language_info": {
      "name": "python"
    }
  },
  "cells": [
    {
      "cell_type": "markdown",
      "metadata": {
        "id": "Q_TDib9mRNNH"
      },
      "source": [
        "Question #*1*"
      ]
    },
    {
      "cell_type": "code",
      "metadata": {
        "id": "T0PjeDRjvcO0"
      },
      "source": [
        "import numpy as np"
      ],
      "execution_count": null,
      "outputs": []
    },
    {
      "cell_type": "code",
      "metadata": {
        "id": "49CHrJeXMRRf"
      },
      "source": [
        "def Sum(Vec1,Vec2):\n",
        "  return(np.add(Vec1, Vec2))"
      ],
      "execution_count": null,
      "outputs": []
    },
    {
      "cell_type": "code",
      "metadata": {
        "colab": {
          "base_uri": "https://localhost:8080/"
        },
        "id": "lXtFEL9GmIOy",
        "outputId": "a72cd804-95d1-4eab-874d-ec234bbc6612"
      },
      "source": [
        "Vector1=np.array([1,2,3])\n",
        "Vector2=np.array([4,5,6])\n",
        "print(Sum(Vector1,Vector2))"
      ],
      "execution_count": null,
      "outputs": [
        {
          "output_type": "stream",
          "name": "stdout",
          "text": [
            "[5 7 9]\n"
          ]
        }
      ]
    },
    {
      "cell_type": "markdown",
      "metadata": {
        "id": "e4hzGlcb1HZM"
      },
      "source": [
        "Question #2"
      ]
    },
    {
      "cell_type": "code",
      "metadata": {
        "id": "WgpkPSyRmx_l"
      },
      "source": [
        "import math\n",
        "def CosAng(Vec1,Vec2):\n",
        "  CombLis=[]  \n",
        "  CombBothVal=0\n",
        "  CombVec1=0\n",
        "  CombVec2=0\n",
        "  ValAdd=0\n",
        "  MultiVecVal=0\n",
        "  for count,i in enumerate(Vec1):\n",
        "    CombBothVal=i*Vec2[count]\n",
        "    CombLis.append(CombBothVal)\n",
        "\n",
        "  for i in (CombLis):\n",
        "    ValAdd=ValAdd+i\n",
        "  \n",
        "  for i in (Vec1):\n",
        "    CombVec1=CombVec1+i*i\n",
        "  CombVec1=math.sqrt(CombVec1)\n",
        "  \n",
        "  for i in (Vec2):\n",
        "    CombVec2=CombVec2+i*i\n",
        "  CombVec2=math.sqrt(CombVec2)\n",
        "\n",
        "  MultiVecVal=CombVec1*CombVec2\n",
        "  return(ValAdd/MultiVecVal)\n"
      ],
      "execution_count": null,
      "outputs": []
    },
    {
      "cell_type": "code",
      "metadata": {
        "id": "5dVFTdoepQbL",
        "colab": {
          "base_uri": "https://localhost:8080/"
        },
        "outputId": "5efdbafd-d10b-403a-da80-a1f0090e9036"
      },
      "source": [
        "  print(CosAng([6,3,1],[5,3,1]))"
      ],
      "execution_count": null,
      "outputs": [
        {
          "output_type": "stream",
          "name": "stdout",
          "text": [
            "0.9968895725584537\n"
          ]
        }
      ]
    },
    {
      "cell_type": "markdown",
      "metadata": {
        "id": "NUsmze8XFhqk"
      },
      "source": [
        "Question 3\n"
      ]
    },
    {
      "cell_type": "code",
      "metadata": {
        "id": "cwNfAopGGU5J"
      },
      "source": [
        "from numpy.linalg import inv\n",
        "import numpy as np\n",
        "def Prob3(x,y):\n",
        "  Tranx=np.transpose(x)\n",
        "  TranNorm=((x.dot(Tranx)))\n",
        "  InvTranNorm=inv(TranNorm)\n",
        "  DotProd1=Tranx.dot(InvTranNorm)\n",
        "  w=DotProd1.dot(y)\n",
        "  return w\n"
      ],
      "execution_count": null,
      "outputs": []
    },
    {
      "cell_type": "code",
      "metadata": {
        "id": "bVvM0VQApdnX",
        "colab": {
          "base_uri": "https://localhost:8080/"
        },
        "outputId": "ffb58268-cae5-4415-849d-9b0a96a7f074"
      },
      "source": [
        "import numpy as np\n",
        "x=np.random.random((100,5))\n",
        "y=np.random.random((100,1))\n",
        "print(Prob3(x,y))"
      ],
      "execution_count": null,
      "outputs": [
        {
          "output_type": "stream",
          "name": "stdout",
          "text": [
            "[[ 131.44178115]\n",
            " [-331.84236744]\n",
            " [-315.69215798]\n",
            " [ 308.99247015]\n",
            " [ -96.57254294]]\n"
          ]
        }
      ]
    },
    {
      "cell_type": "markdown",
      "metadata": {
        "id": "ulJ4j9xrT9HM"
      },
      "source": [
        "Question 5"
      ]
    },
    {
      "cell_type": "code",
      "metadata": {
        "id": "Q7MEItJ4J19z"
      },
      "source": [
        "import pandas as pd\n",
        "df = pd.read_csv('sample_data/california_housing_train.csv')"
      ],
      "execution_count": null,
      "outputs": []
    },
    {
      "cell_type": "code",
      "metadata": {
        "id": "_0psQhaET_Cp",
        "outputId": "178c07d7-45cf-4fcf-b720-673d51d4df6e",
        "colab": {
          "base_uri": "https://localhost:8080/",
          "height": 206
        }
      },
      "source": [
        "df.head()"
      ],
      "execution_count": null,
      "outputs": [
        {
          "output_type": "execute_result",
          "data": {
            "text/html": [
              "<div>\n",
              "<style scoped>\n",
              "    .dataframe tbody tr th:only-of-type {\n",
              "        vertical-align: middle;\n",
              "    }\n",
              "\n",
              "    .dataframe tbody tr th {\n",
              "        vertical-align: top;\n",
              "    }\n",
              "\n",
              "    .dataframe thead th {\n",
              "        text-align: right;\n",
              "    }\n",
              "</style>\n",
              "<table border=\"1\" class=\"dataframe\">\n",
              "  <thead>\n",
              "    <tr style=\"text-align: right;\">\n",
              "      <th></th>\n",
              "      <th>longitude</th>\n",
              "      <th>latitude</th>\n",
              "      <th>housing_median_age</th>\n",
              "      <th>total_rooms</th>\n",
              "      <th>total_bedrooms</th>\n",
              "      <th>population</th>\n",
              "      <th>households</th>\n",
              "      <th>median_income</th>\n",
              "      <th>median_house_value</th>\n",
              "    </tr>\n",
              "  </thead>\n",
              "  <tbody>\n",
              "    <tr>\n",
              "      <th>0</th>\n",
              "      <td>-114.31</td>\n",
              "      <td>34.19</td>\n",
              "      <td>15.0</td>\n",
              "      <td>5612.0</td>\n",
              "      <td>1283.0</td>\n",
              "      <td>1015.0</td>\n",
              "      <td>472.0</td>\n",
              "      <td>1.4936</td>\n",
              "      <td>66900.0</td>\n",
              "    </tr>\n",
              "    <tr>\n",
              "      <th>1</th>\n",
              "      <td>-114.47</td>\n",
              "      <td>34.40</td>\n",
              "      <td>19.0</td>\n",
              "      <td>7650.0</td>\n",
              "      <td>1901.0</td>\n",
              "      <td>1129.0</td>\n",
              "      <td>463.0</td>\n",
              "      <td>1.8200</td>\n",
              "      <td>80100.0</td>\n",
              "    </tr>\n",
              "    <tr>\n",
              "      <th>2</th>\n",
              "      <td>-114.56</td>\n",
              "      <td>33.69</td>\n",
              "      <td>17.0</td>\n",
              "      <td>720.0</td>\n",
              "      <td>174.0</td>\n",
              "      <td>333.0</td>\n",
              "      <td>117.0</td>\n",
              "      <td>1.6509</td>\n",
              "      <td>85700.0</td>\n",
              "    </tr>\n",
              "    <tr>\n",
              "      <th>3</th>\n",
              "      <td>-114.57</td>\n",
              "      <td>33.64</td>\n",
              "      <td>14.0</td>\n",
              "      <td>1501.0</td>\n",
              "      <td>337.0</td>\n",
              "      <td>515.0</td>\n",
              "      <td>226.0</td>\n",
              "      <td>3.1917</td>\n",
              "      <td>73400.0</td>\n",
              "    </tr>\n",
              "    <tr>\n",
              "      <th>4</th>\n",
              "      <td>-114.57</td>\n",
              "      <td>33.57</td>\n",
              "      <td>20.0</td>\n",
              "      <td>1454.0</td>\n",
              "      <td>326.0</td>\n",
              "      <td>624.0</td>\n",
              "      <td>262.0</td>\n",
              "      <td>1.9250</td>\n",
              "      <td>65500.0</td>\n",
              "    </tr>\n",
              "  </tbody>\n",
              "</table>\n",
              "</div>"
            ],
            "text/plain": [
              "   longitude  latitude  ...  median_income  median_house_value\n",
              "0    -114.31     34.19  ...         1.4936             66900.0\n",
              "1    -114.47     34.40  ...         1.8200             80100.0\n",
              "2    -114.56     33.69  ...         1.6509             85700.0\n",
              "3    -114.57     33.64  ...         3.1917             73400.0\n",
              "4    -114.57     33.57  ...         1.9250             65500.0\n",
              "\n",
              "[5 rows x 9 columns]"
            ]
          },
          "metadata": {},
          "execution_count": 9
        }
      ]
    },
    {
      "cell_type": "code",
      "metadata": {
        "colab": {
          "base_uri": "https://localhost:8080/",
          "height": 363
        },
        "id": "8rnZAkrPVA8Q",
        "outputId": "0be81ee2-0d94-479f-f0f3-f140b1364e10"
      },
      "source": [
        "df[['total_bedrooms','population','households']].loc[(df['total_bedrooms']<10)].groupby(['total_bedrooms']).mean()"
      ],
      "execution_count": null,
      "outputs": [
        {
          "output_type": "execute_result",
          "data": {
            "text/html": [
              "<div>\n",
              "<style scoped>\n",
              "    .dataframe tbody tr th:only-of-type {\n",
              "        vertical-align: middle;\n",
              "    }\n",
              "\n",
              "    .dataframe tbody tr th {\n",
              "        vertical-align: top;\n",
              "    }\n",
              "\n",
              "    .dataframe thead th {\n",
              "        text-align: right;\n",
              "    }\n",
              "</style>\n",
              "<table border=\"1\" class=\"dataframe\">\n",
              "  <thead>\n",
              "    <tr style=\"text-align: right;\">\n",
              "      <th></th>\n",
              "      <th>population</th>\n",
              "      <th>households</th>\n",
              "    </tr>\n",
              "    <tr>\n",
              "      <th>total_bedrooms</th>\n",
              "      <th></th>\n",
              "      <th></th>\n",
              "    </tr>\n",
              "  </thead>\n",
              "  <tbody>\n",
              "    <tr>\n",
              "      <th>1.0</th>\n",
              "      <td>13.000000</td>\n",
              "      <td>1.000000</td>\n",
              "    </tr>\n",
              "    <tr>\n",
              "      <th>2.0</th>\n",
              "      <td>6.000000</td>\n",
              "      <td>2.000000</td>\n",
              "    </tr>\n",
              "    <tr>\n",
              "      <th>3.0</th>\n",
              "      <td>24.250000</td>\n",
              "      <td>6.500000</td>\n",
              "    </tr>\n",
              "    <tr>\n",
              "      <th>4.0</th>\n",
              "      <td>26.333333</td>\n",
              "      <td>5.833333</td>\n",
              "    </tr>\n",
              "    <tr>\n",
              "      <th>5.0</th>\n",
              "      <td>15.000000</td>\n",
              "      <td>5.000000</td>\n",
              "    </tr>\n",
              "    <tr>\n",
              "      <th>6.0</th>\n",
              "      <td>27.200000</td>\n",
              "      <td>7.400000</td>\n",
              "    </tr>\n",
              "    <tr>\n",
              "      <th>7.0</th>\n",
              "      <td>34.750000</td>\n",
              "      <td>6.750000</td>\n",
              "    </tr>\n",
              "    <tr>\n",
              "      <th>8.0</th>\n",
              "      <td>19.000000</td>\n",
              "      <td>7.500000</td>\n",
              "    </tr>\n",
              "    <tr>\n",
              "      <th>9.0</th>\n",
              "      <td>33.285714</td>\n",
              "      <td>10.571429</td>\n",
              "    </tr>\n",
              "  </tbody>\n",
              "</table>\n",
              "</div>"
            ],
            "text/plain": [
              "                population  households\n",
              "total_bedrooms                        \n",
              "1.0              13.000000    1.000000\n",
              "2.0               6.000000    2.000000\n",
              "3.0              24.250000    6.500000\n",
              "4.0              26.333333    5.833333\n",
              "5.0              15.000000    5.000000\n",
              "6.0              27.200000    7.400000\n",
              "7.0              34.750000    6.750000\n",
              "8.0              19.000000    7.500000\n",
              "9.0              33.285714   10.571429"
            ]
          },
          "metadata": {},
          "execution_count": 10
        }
      ]
    },
    {
      "cell_type": "code",
      "metadata": {
        "id": "9zggBhYaVD6C"
      },
      "source": [
        ""
      ],
      "execution_count": null,
      "outputs": []
    }
  ]
}